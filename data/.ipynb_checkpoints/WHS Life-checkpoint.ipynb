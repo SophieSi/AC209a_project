{
 "cells": [
  {
   "cell_type": "markdown",
   "metadata": {},
   "source": [
    "# Life of Epilepsy Patients"
   ]
  },
  {
   "cell_type": "markdown",
   "metadata": {},
   "source": [
    "**Goal:**\n",
    "\n",
    "Characterize the life of epilepsy patients in terms of:\n",
    "- employment\n",
    "- medicines\n",
    "- education\n",
    "- illness\n",
    "- health\n",
    "- well-being"
   ]
  },
  {
   "cell_type": "markdown",
   "metadata": {},
   "source": [
    "**The dataset: **\n",
    "\n",
    "**Welsh Health Status 2014**, obtained from UKDS https://discover.ukdataservice.ac.uk/catalogue/?sn=7841&type=Data%20catalogue#documentation. \n",
    "\n",
    "The Welsh Health Survey (WHS) collects information about the health of people living in Wales, which is based on a representative sample of adults aged 16 and over living in private households in Wales. "
   ]
  },
  {
   "cell_type": "markdown",
   "metadata": {},
   "source": [
    "> ### Data Description"
   ]
  },
  {
   "cell_type": "markdown",
   "metadata": {},
   "source": [
    "There are intotal **14170** adults nearly uniformly distributed among different age ranges, among which we have **137** epilepsy patients. "
   ]
  },
  {
   "cell_type": "code",
   "execution_count": 154,
   "metadata": {
    "collapsed": false
   },
   "outputs": [
    {
     "data": {
      "text/plain": [
       "<matplotlib.text.Text at 0x121615350>"
      ]
     },
     "execution_count": 154,
     "metadata": {},
     "output_type": "execute_result"
    },
    {
     "data": {
      "image/png": "[encoded data removed]",
      "text/plain": [
       "<matplotlib.figure.Figure at 0x11ebef210>"
      ]
     },
     "metadata": {},
     "output_type": "display_data"
    }
   ],
   "source": [
    "plt.figure(figsize=(5, 5))\n",
    "\n",
    "plt.pie([137, 14170], \n",
    "        labels=['Epilepsy', 'Others'], \n",
    "        colors=['red', 'lightgrey'],\n",
    "        autopct='%1.2f%%', pctdistance=1.1, labeldistance=1.3,shadow=False, startangle=45)\n",
    "\n",
    "plt.title(\"Epilepsy Ratio\",fontsize = 15)\n"
   ]
  },
  {
   "cell_type": "code",
   "execution_count": 140,
   "metadata": {
    "collapsed": true
   },
   "outputs": [],
   "source": [
    "import pandas as pd\n",
    "import numpy as np\n",
    "import matplotlib.pyplot as plt\n",
    "import re\n",
    "import matplotlib.path as mpath\n",
    "import matplotlib.lines as mlines\n",
    "import matplotlib.patches as mpatches\n",
    "from matplotlib.collections import PatchCollection\n",
    "%matplotlib inline"
   ]
  },
  {
   "cell_type": "markdown",
   "metadata": {},
   "source": [
    ">### Data Wrangling"
   ]
  },
  {
   "cell_type": "code",
   "execution_count": 2,
   "metadata": {
    "collapsed": false
   },
   "outputs": [
    {
     "data": {
      "text/html": [
       "<div>\n",
       "<table border=\"1\" class=\"dataframe\">\n",
       "  <thead>\n",
       "    <tr style=\"text-align: right;\">\n",
       "      <th></th>\n",
       "      <th>archhsn</th>\n",
       "      <th>archpsn</th>\n",
       "      <th>tenure3</th>\n",
       "      <th>hhdtypb</th>\n",
       "      <th>nssec8</th>\n",
       "      <th>nssec5</th>\n",
       "      <th>nssec3</th>\n",
       "      <th>hhchild</th>\n",
       "      <th>region</th>\n",
       "      <th>whsyear</th>\n",
       "      <th>...</th>\n",
       "      <th>exvigno</th>\n",
       "      <th>exerv</th>\n",
       "      <th>exercise</th>\n",
       "      <th>exergrp</th>\n",
       "      <th>exergrp5</th>\n",
       "      <th>exerstr</th>\n",
       "      <th>exer0</th>\n",
       "      <th>noex</th>\n",
       "      <th>wt_hhold</th>\n",
       "      <th>wt_adult</th>\n",
       "    </tr>\n",
       "  </thead>\n",
       "  <tbody>\n",
       "    <tr>\n",
       "      <th>0</th>\n",
       "      <td>1001011</td>\n",
       "      <td>100101101</td>\n",
       "      <td>1</td>\n",
       "      <td>7</td>\n",
       "      <td>6</td>\n",
       "      <td>5</td>\n",
       "      <td>3</td>\n",
       "      <td>2</td>\n",
       "      <td>2</td>\n",
       "      <td>11</td>\n",
       "      <td>...</td>\n",
       "      <td>0</td>\n",
       "      <td>4</td>\n",
       "      <td>1</td>\n",
       "      <td>2</td>\n",
       "      <td>5</td>\n",
       "      <td>3</td>\n",
       "      <td>0</td>\n",
       "      <td>1</td>\n",
       "      <td>1.342344</td>\n",
       "      <td>1.132830</td>\n",
       "    </tr>\n",
       "    <tr>\n",
       "      <th>1</th>\n",
       "      <td>1001021</td>\n",
       "      <td>100102101</td>\n",
       "      <td>3</td>\n",
       "      <td>2</td>\n",
       "      <td>2</td>\n",
       "      <td>1</td>\n",
       "      <td>1</td>\n",
       "      <td>2</td>\n",
       "      <td>2</td>\n",
       "      <td>11</td>\n",
       "      <td>...</td>\n",
       "      <td>0</td>\n",
       "      <td>3</td>\n",
       "      <td>0</td>\n",
       "      <td>1</td>\n",
       "      <td>4</td>\n",
       "      <td>3</td>\n",
       "      <td>0</td>\n",
       "      <td>1</td>\n",
       "      <td>1.759103</td>\n",
       "      <td>2.053860</td>\n",
       "    </tr>\n",
       "    <tr>\n",
       "      <th>2</th>\n",
       "      <td>1001021</td>\n",
       "      <td>100102102</td>\n",
       "      <td>3</td>\n",
       "      <td>2</td>\n",
       "      <td>2</td>\n",
       "      <td>1</td>\n",
       "      <td>1</td>\n",
       "      <td>2</td>\n",
       "      <td>2</td>\n",
       "      <td>11</td>\n",
       "      <td>...</td>\n",
       "      <td>0</td>\n",
       "      <td>7</td>\n",
       "      <td>1</td>\n",
       "      <td>2</td>\n",
       "      <td>5</td>\n",
       "      <td>3</td>\n",
       "      <td>0</td>\n",
       "      <td>1</td>\n",
       "      <td>1.759103</td>\n",
       "      <td>2.565752</td>\n",
       "    </tr>\n",
       "    <tr>\n",
       "      <th>3</th>\n",
       "      <td>1001041</td>\n",
       "      <td>100104101</td>\n",
       "      <td>3</td>\n",
       "      <td>3</td>\n",
       "      <td>-9</td>\n",
       "      <td>-9</td>\n",
       "      <td>-9</td>\n",
       "      <td>1</td>\n",
       "      <td>2</td>\n",
       "      <td>11</td>\n",
       "      <td>...</td>\n",
       "      <td>1</td>\n",
       "      <td>0</td>\n",
       "      <td>0</td>\n",
       "      <td>1</td>\n",
       "      <td>4</td>\n",
       "      <td>2</td>\n",
       "      <td>0</td>\n",
       "      <td>1</td>\n",
       "      <td>1.465895</td>\n",
       "      <td>1.783198</td>\n",
       "    </tr>\n",
       "    <tr>\n",
       "      <th>4</th>\n",
       "      <td>1001061</td>\n",
       "      <td>100106101</td>\n",
       "      <td>3</td>\n",
       "      <td>1</td>\n",
       "      <td>6</td>\n",
       "      <td>5</td>\n",
       "      <td>3</td>\n",
       "      <td>2</td>\n",
       "      <td>2</td>\n",
       "      <td>11</td>\n",
       "      <td>...</td>\n",
       "      <td>1</td>\n",
       "      <td>0</td>\n",
       "      <td>0</td>\n",
       "      <td>0</td>\n",
       "      <td>0</td>\n",
       "      <td>0</td>\n",
       "      <td>1</td>\n",
       "      <td>0</td>\n",
       "      <td>1.314582</td>\n",
       "      <td>1.349142</td>\n",
       "    </tr>\n",
       "    <tr>\n",
       "      <th>5</th>\n",
       "      <td>1001071</td>\n",
       "      <td>100107101</td>\n",
       "      <td>1</td>\n",
       "      <td>5</td>\n",
       "      <td>2</td>\n",
       "      <td>1</td>\n",
       "      <td>1</td>\n",
       "      <td>2</td>\n",
       "      <td>2</td>\n",
       "      <td>11</td>\n",
       "      <td>...</td>\n",
       "      <td>0</td>\n",
       "      <td>2</td>\n",
       "      <td>0</td>\n",
       "      <td>1</td>\n",
       "      <td>3</td>\n",
       "      <td>3</td>\n",
       "      <td>0</td>\n",
       "      <td>1</td>\n",
       "      <td>1.651591</td>\n",
       "      <td>1.797099</td>\n",
       "    </tr>\n",
       "    <tr>\n",
       "      <th>6</th>\n",
       "      <td>1001071</td>\n",
       "      <td>100107103</td>\n",
       "      <td>1</td>\n",
       "      <td>5</td>\n",
       "      <td>2</td>\n",
       "      <td>1</td>\n",
       "      <td>1</td>\n",
       "      <td>2</td>\n",
       "      <td>2</td>\n",
       "      <td>11</td>\n",
       "      <td>...</td>\n",
       "      <td>1</td>\n",
       "      <td>0</td>\n",
       "      <td>0</td>\n",
       "      <td>0</td>\n",
       "      <td>0</td>\n",
       "      <td>1</td>\n",
       "      <td>1</td>\n",
       "      <td>1</td>\n",
       "      <td>1.651591</td>\n",
       "      <td>1.526991</td>\n",
       "    </tr>\n",
       "    <tr>\n",
       "      <th>7</th>\n",
       "      <td>1001091</td>\n",
       "      <td>100109101</td>\n",
       "      <td>3</td>\n",
       "      <td>3</td>\n",
       "      <td>6</td>\n",
       "      <td>5</td>\n",
       "      <td>3</td>\n",
       "      <td>1</td>\n",
       "      <td>2</td>\n",
       "      <td>11</td>\n",
       "      <td>...</td>\n",
       "      <td>0</td>\n",
       "      <td>1</td>\n",
       "      <td>0</td>\n",
       "      <td>1</td>\n",
       "      <td>2</td>\n",
       "      <td>3</td>\n",
       "      <td>0</td>\n",
       "      <td>1</td>\n",
       "      <td>1.497235</td>\n",
       "      <td>1.621857</td>\n",
       "    </tr>\n",
       "    <tr>\n",
       "      <th>8</th>\n",
       "      <td>1001101</td>\n",
       "      <td>100110101</td>\n",
       "      <td>1</td>\n",
       "      <td>7</td>\n",
       "      <td>6</td>\n",
       "      <td>5</td>\n",
       "      <td>3</td>\n",
       "      <td>2</td>\n",
       "      <td>2</td>\n",
       "      <td>11</td>\n",
       "      <td>...</td>\n",
       "      <td>1</td>\n",
       "      <td>0</td>\n",
       "      <td>0</td>\n",
       "      <td>0</td>\n",
       "      <td>0</td>\n",
       "      <td>0</td>\n",
       "      <td>1</td>\n",
       "      <td>0</td>\n",
       "      <td>1.549911</td>\n",
       "      <td>1.422498</td>\n",
       "    </tr>\n",
       "    <tr>\n",
       "      <th>9</th>\n",
       "      <td>1001131</td>\n",
       "      <td>100113101</td>\n",
       "      <td>1</td>\n",
       "      <td>5</td>\n",
       "      <td>6</td>\n",
       "      <td>5</td>\n",
       "      <td>3</td>\n",
       "      <td>2</td>\n",
       "      <td>2</td>\n",
       "      <td>11</td>\n",
       "      <td>...</td>\n",
       "      <td>1</td>\n",
       "      <td>0</td>\n",
       "      <td>0</td>\n",
       "      <td>0</td>\n",
       "      <td>0</td>\n",
       "      <td>0</td>\n",
       "      <td>1</td>\n",
       "      <td>0</td>\n",
       "      <td>1.782162</td>\n",
       "      <td>1.922659</td>\n",
       "    </tr>\n",
       "  </tbody>\n",
       "</table>\n",
       "<p>10 rows × 468 columns</p>\n",
       "</div>"
      ],
      "text/plain": [
       "   archhsn    archpsn  tenure3  hhdtypb  nssec8  nssec5  nssec3  hhchild  \\\n",
       "0  1001011  100101101        1        7       6       5       3        2   \n",
       "1  1001021  100102101        3        2       2       1       1        2   \n",
       "2  1001021  100102102        3        2       2       1       1        2   \n",
       "3  1001041  100104101        3        3      -9      -9      -9        1   \n",
       "4  1001061  100106101        3        1       6       5       3        2   \n",
       "5  1001071  100107101        1        5       2       1       1        2   \n",
       "6  1001071  100107103        1        5       2       1       1        2   \n",
       "7  1001091  100109101        3        3       6       5       3        1   \n",
       "8  1001101  100110101        1        7       6       5       3        2   \n",
       "9  1001131  100113101        1        5       6       5       3        2   \n",
       "\n",
       "   region  whsyear    ...     exvigno  exerv  exercise  exergrp  exergrp5  \\\n",
       "0       2       11    ...           0      4         1        2         5   \n",
       "1       2       11    ...           0      3         0        1         4   \n",
       "2       2       11    ...           0      7         1        2         5   \n",
       "3       2       11    ...           1      0         0        1         4   \n",
       "4       2       11    ...           1      0         0        0         0   \n",
       "5       2       11    ...           0      2         0        1         3   \n",
       "6       2       11    ...           1      0         0        0         0   \n",
       "7       2       11    ...           0      1         0        1         2   \n",
       "8       2       11    ...           1      0         0        0         0   \n",
       "9       2       11    ...           1      0         0        0         0   \n",
       "\n",
       "   exerstr  exer0  noex  wt_hhold  wt_adult  \n",
       "0        3      0     1  1.342344  1.132830  \n",
       "1        3      0     1  1.759103  2.053860  \n",
       "2        3      0     1  1.759103  2.565752  \n",
       "3        2      0     1  1.465895  1.783198  \n",
       "4        0      1     0  1.314582  1.349142  \n",
       "5        3      0     1  1.651591  1.797099  \n",
       "6        1      1     1  1.651591  1.526991  \n",
       "7        3      0     1  1.497235  1.621857  \n",
       "8        0      1     0  1.549911  1.422498  \n",
       "9        0      1     0  1.782162  1.922659  \n",
       "\n",
       "[10 rows x 468 columns]"
      ]
     },
     "execution_count": 2,
     "metadata": {},
     "output_type": "execute_result"
    }
   ],
   "source": [
    "whs = pd.read_csv(\"Welsh Health Status/tab/whs_2014_adult_archive.tab\",delimiter=\"\\t\",low_memory=False)\n",
    "whs.head(10)"
   ]
  },
  {
   "cell_type": "code",
   "execution_count": 3,
   "metadata": {
    "collapsed": true
   },
   "outputs": [],
   "source": [
    "def get_labels(path,flag):\n",
    "\n",
    "    # open explain file\n",
    "    explain = open(path, 'r')\n",
    "\n",
    "    # read the whole file as a single giant string\n",
    "    explain_text = explain.read()\n",
    "\n",
    "    # locate variable target string in the whole file\n",
    "    target_string_var = 'Variable label ='\n",
    "    target_loc_var = [m.end() for m in re.finditer(target_string_var, explain_text)]\n",
    "    var_name_list = []\n",
    "    # locate type target string in the whole file\n",
    "    target_string_type = 'the SPSS measurement level is'\n",
    "    target_loc_type = [m.end() for m in re.finditer(target_string_type, explain_text)]\n",
    "    type_list = [\"Categorical\" for i in target_loc_var]\n",
    "\n",
    "    #Find Numeric or Categorical\n",
    "    for index, loc in enumerate(target_loc_type):\n",
    "        # get feature character\n",
    "        char = explain_text[loc+10]\n",
    "        if char == \"S\" or char == \"s\":\n",
    "            # it is SPSS data type ORDINAL or NOMINAL\n",
    "            # it is categorical data\n",
    "            type_list[index] = \"Numeric\"\n",
    "\n",
    "            \n",
    "    #Find variable label\n",
    "    if flag == 0:\n",
    "        for loc in target_loc_var:\n",
    "            start_point = loc+11\n",
    "            end_point = explain_text.find('\\\\\\n', loc)\n",
    "            var_name_list.append(explain_text[start_point:end_point])\n",
    "    elif flag ==1:\n",
    "        for loc in target_loc_var:\n",
    "            start_point = loc+8\n",
    "            end_point = explain_text.find('\\par', loc)\n",
    "            var_name_list.append(explain_text[start_point:end_point])\n",
    "        \n",
    "    explain.close()   \n",
    "    return var_name_list, type_list"
   ]
  },
  {
   "cell_type": "code",
   "execution_count": 7,
   "metadata": {
    "collapsed": false
   },
   "outputs": [
    {
     "name": "stdout",
     "output_type": "stream",
     "text": [
      "['Household serial number (archive)', 'Person serial number (archive)', '(D) 3 class Housing Tenure']\n"
     ]
    }
   ],
   "source": [
    "# get labels for predictors\n",
    "whs_path = 'Welsh Health Status/mrdoc/allissue/whs_2014_adult_archive_ukda_data_dictionary.rtf'\n",
    "whs_labels, whs_type  = get_labels(whs_path,1)\n",
    "print whs_labels[:3]\n",
    "whs.columns = whs_labels\n",
    "whs.head(10)"
   ]
  },
  {
   "cell_type": "code",
   "execution_count": 11,
   "metadata": {
    "collapsed": false
   },
   "outputs": [
    {
     "name": "stdout",
     "output_type": "stream",
     "text": [
      "(14170, 468)\n"
     ]
    }
   ],
   "source": [
    "#replace blank with nan\n",
    "whs.replace(' ',np.nan,inplace=True)\n",
    "print whs.shape"
   ]
  },
  {
   "cell_type": "code",
   "execution_count": 10,
   "metadata": {
    "collapsed": false
   },
   "outputs": [
    {
     "name": "stdout",
     "output_type": "stream",
     "text": [
      "0\n",
      "0\n",
      "0\n",
      "0\n",
      "0\n",
      "0\n",
      "0\n",
      "0\n",
      "0\n",
      "0\n",
      "0\n",
      "0\n",
      "0\n",
      "0\n",
      "0\n",
      "0\n",
      "0\n",
      "0\n",
      "0\n",
      "0\n",
      "0\n",
      "0\n",
      "0\n",
      "0\n",
      "0\n",
      "0\n",
      "0\n",
      "0\n",
      "0\n",
      "0\n",
      "0\n",
      "0\n",
      "0\n",
      "0\n",
      "0\n",
      "0\n",
      "0\n",
      "14170\n",
      "14170\n",
      "14170\n",
      "14170\n",
      "0\n",
      "14170\n",
      "14170\n",
      "14170\n",
      "14170\n",
      "0\n",
      "14170\n",
      "14170\n",
      "14170\n",
      "14170\n",
      "0\n",
      "14170\n",
      "14170\n",
      "14170\n",
      "14170\n",
      "0\n",
      "0\n",
      "0\n",
      "0\n",
      "0\n",
      "0\n",
      "0\n",
      "0\n",
      "0\n",
      "0\n",
      "0\n",
      "0\n",
      "0\n",
      "0\n",
      "0\n",
      "0\n",
      "0\n",
      "0\n",
      "0\n",
      "0\n",
      "0\n",
      "0\n",
      "0\n",
      "0\n",
      "0\n",
      "0\n",
      "0\n",
      "0\n",
      "0\n",
      "0\n",
      "0\n",
      "0\n",
      "0\n",
      "0\n",
      "0\n",
      "0\n",
      "0\n",
      "0\n",
      "0\n",
      "0\n",
      "0\n",
      "0\n",
      "0\n",
      "0\n",
      "0\n",
      "0\n",
      "0\n",
      "0\n",
      "0\n",
      "0\n",
      "0\n",
      "0\n",
      "0\n",
      "0\n",
      "0\n",
      "0\n",
      "0\n",
      "0\n",
      "0\n",
      "0\n",
      "0\n",
      "0\n",
      "0\n",
      "0\n",
      "0\n",
      "0\n",
      "0\n",
      "0\n",
      "0\n",
      "0\n",
      "0\n",
      "0\n",
      "0\n",
      "0\n",
      "0\n",
      "0\n",
      "0\n",
      "0\n",
      "0\n",
      "0\n",
      "0\n",
      "0\n",
      "0\n",
      "0\n",
      "0\n",
      "0\n",
      "0\n",
      "0\n",
      "0\n",
      "0\n",
      "0\n",
      "0\n",
      "0\n",
      "0\n",
      "0\n",
      "0\n",
      "0\n",
      "0\n",
      "0\n",
      "0\n",
      "0\n",
      "0\n",
      "0\n",
      "0\n",
      "0\n",
      "14170\n",
      "14170\n",
      "14170\n",
      "14170\n",
      "14170\n",
      "14170\n",
      "14170\n",
      "14170\n",
      "0\n",
      "0\n",
      "0\n",
      "0\n",
      "0\n",
      "0\n",
      "0\n",
      "0\n",
      "0\n",
      "0\n",
      "0\n",
      "0\n",
      "0\n",
      "0\n",
      "0\n",
      "0\n",
      "0\n",
      "0\n",
      "0\n",
      "0\n",
      "0\n",
      "0\n",
      "0\n",
      "0\n",
      "0\n",
      "0\n",
      "0\n",
      "0\n",
      "0\n",
      "0\n",
      "0\n",
      "0\n",
      "0\n",
      "0\n",
      "0\n",
      "0\n",
      "0\n",
      "0\n",
      "0\n",
      "0\n",
      "0\n",
      "0\n",
      "0\n",
      "0\n",
      "0\n",
      "0\n",
      "0\n",
      "0\n",
      "0\n",
      "0\n",
      "0\n",
      "0\n",
      "0\n",
      "0\n",
      "0\n",
      "0\n",
      "0\n",
      "0\n",
      "0\n",
      "0\n",
      "0\n",
      "0\n",
      "0\n",
      "0\n",
      "0\n",
      "0\n",
      "0\n",
      "0\n",
      "0\n",
      "0\n",
      "0\n",
      "0\n",
      "0\n",
      "0\n",
      "0\n",
      "0\n",
      "0\n",
      "0\n",
      "0\n",
      "0\n",
      "0\n",
      "0\n",
      "0\n",
      "0\n",
      "0\n",
      "0\n",
      "0\n",
      "0\n",
      "0\n",
      "0\n",
      "0\n",
      "0\n",
      "0\n",
      "0\n",
      "0\n",
      "0\n",
      "0\n",
      "0\n",
      "0\n",
      "0\n",
      "0\n",
      "0\n",
      "0\n",
      "0\n",
      "0\n",
      "0\n",
      "0\n",
      "0\n",
      "0\n",
      "0\n",
      "0\n",
      "0\n",
      "0\n",
      "0\n",
      "0\n",
      "0\n",
      "0\n",
      "0\n",
      "0\n",
      "0\n",
      "0\n",
      "0\n",
      "0\n",
      "0\n",
      "0\n",
      "0\n",
      "0\n",
      "0\n",
      "0\n",
      "0\n",
      "14170\n",
      "14170\n",
      "14170\n",
      "14170\n",
      "14170\n",
      "14170\n",
      "14170\n",
      "14170\n",
      "0\n",
      "0\n",
      "0\n",
      "0\n",
      "0\n",
      "0\n",
      "0\n",
      "0\n",
      "0\n",
      "0\n",
      "0\n",
      "0\n",
      "0\n",
      "0\n",
      "0\n",
      "0\n",
      "0\n",
      "0\n",
      "0\n",
      "0\n",
      "0\n",
      "0\n",
      "0\n",
      "0\n",
      "0\n",
      "0\n",
      "0\n",
      "0\n",
      "0\n",
      "0\n",
      "0\n",
      "0\n",
      "0\n",
      "0\n",
      "0\n",
      "0\n",
      "0\n",
      "0\n",
      "0\n",
      "0\n",
      "0\n",
      "0\n",
      "0\n",
      "0\n",
      "0\n",
      "0\n",
      "0\n",
      "0\n",
      "0\n",
      "0\n",
      "0\n",
      "0\n",
      "0\n",
      "0\n",
      "0\n",
      "0\n",
      "0\n",
      "0\n",
      "0\n",
      "0\n",
      "0\n",
      "0\n",
      "0\n",
      "0\n",
      "0\n",
      "0\n",
      "0\n",
      "0\n",
      "0\n",
      "0\n",
      "0\n",
      "0\n",
      "0\n",
      "0\n",
      "0\n",
      "0\n",
      "0\n",
      "0\n",
      "0\n",
      "0\n",
      "0\n",
      "0\n",
      "0\n",
      "0\n",
      "0\n",
      "0\n",
      "0\n",
      "0\n",
      "0\n",
      "0\n",
      "0\n",
      "0\n",
      "0\n",
      "0\n",
      "0\n",
      "0\n",
      "0\n",
      "0\n",
      "0\n",
      "0\n",
      "0\n",
      "0\n",
      "0\n",
      "0\n",
      "0\n",
      "0\n",
      "0\n",
      "0\n",
      "0\n",
      "0\n",
      "0\n",
      "0\n",
      "0\n",
      "0\n",
      "0\n",
      "0\n",
      "0\n",
      "0\n",
      "0\n",
      "0\n",
      "0\n",
      "0\n",
      "0\n",
      "0\n",
      "0\n",
      "0\n",
      "0\n",
      "0\n",
      "0\n",
      "0\n",
      "0\n",
      "0\n",
      "0\n",
      "0\n",
      "0\n",
      "0\n",
      "0\n",
      "0\n",
      "0\n",
      "0\n",
      "0\n",
      "0\n",
      "0\n",
      "0\n",
      "0\n",
      "0\n",
      "0\n",
      "0\n",
      "0\n",
      "0\n",
      "0\n",
      "0\n",
      "0\n",
      "0\n",
      "0\n",
      "0\n",
      "0\n",
      "0\n",
      "0\n",
      "0\n",
      "0\n"
     ]
    }
   ],
   "source": [
    "#Check nan values\n",
    "def check_nan(df, name):\n",
    "    print len(df[name][df[name].isnull()])\n",
    "    \n",
    "for name in whs.columns:\n",
    "    check_nan(whs,name)"
   ]
  },
  {
   "cell_type": "code",
   "execution_count": 36,
   "metadata": {
    "collapsed": true
   },
   "outputs": [],
   "source": [
    "#convert all the predictors to numeric and replace negtive values as nan\n",
    "def to_numeric(df):         \n",
    "    #process data        \n",
    "    x = df.copy()\n",
    "    \n",
    "    for index,column in enumerate(x.columns.values):\n",
    "        temp = pd.to_numeric(x.iloc[:,index],errors='coerce')\n",
    "        temp[temp < 0] = np.NaN\n",
    "        x[column] = temp\n",
    "    return x"
   ]
  },
  {
   "cell_type": "code",
   "execution_count": 37,
   "metadata": {
    "collapsed": false
   },
   "outputs": [],
   "source": [
    "#cleaned data of whole population\n",
    "whs_complete = to_numeric(whs) "
   ]
  },
  {
   "cell_type": "code",
   "execution_count": 155,
   "metadata": {
    "collapsed": false
   },
   "outputs": [
    {
     "data": {
      "text/plain": [
       "2.0    13256\n",
       "1.0      137\n",
       "Name: Epilepsy - currently treated, dtype: int64"
      ]
     },
     "execution_count": 155,
     "metadata": {},
     "output_type": "execute_result"
    }
   ],
   "source": [
    "#see number of epilepsy patients\n",
    "whs_complete[\"Epilepsy - currently treated\"].value_counts()"
   ]
  },
  {
   "cell_type": "code",
   "execution_count": 177,
   "metadata": {
    "collapsed": false
   },
   "outputs": [
    {
     "name": "stdout",
     "output_type": "stream",
     "text": [
      "(137, 468)\n"
     ]
    },
    {
     "data": {
      "text/html": [
       "<div>\n",
       "<table border=\"1\" class=\"dataframe\">\n",
       "  <thead>\n",
       "    <tr style=\"text-align: right;\">\n",
       "      <th></th>\n",
       "      <th>Household serial number (archive)</th>\n",
       "      <th>Person serial number (archive)</th>\n",
       "      <th>(D) 3 class Housing Tenure</th>\n",
       "      <th>(D) Household Type</th>\n",
       "      <th>(D) NS-SEC 8 classes</th>\n",
       "      <th>(D) NS-SEC 5 classes</th>\n",
       "      <th>(D) NS-SEC 3 classes</th>\n",
       "      <th>(D) Any children in household</th>\n",
       "      <th>(D) Region</th>\n",
       "      <th>WHS year</th>\n",
       "      <th>...</th>\n",
       "      <th>No vigorous exercise in last 7 days</th>\n",
       "      <th>(D) No of days of vigorous exercise</th>\n",
       "      <th>(D) At least 30 mins mod/vigorous exercise on 5+ days</th>\n",
       "      <th>(D) No of days at least 30 mins mod/vigorous exercise</th>\n",
       "      <th>(D) No of days at least 30 mins mod/vigorous exercise (grouped)</th>\n",
       "      <th>(D) Most strenuous exercise done in last 7 days</th>\n",
       "      <th>(D) 0 active days</th>\n",
       "      <th>(D) No exercise in last week - binary</th>\n",
       "      <th>Household NR weight</th>\n",
       "      <th>Individual NR weight</th>\n",
       "    </tr>\n",
       "  </thead>\n",
       "  <tbody>\n",
       "    <tr>\n",
       "      <th>381</th>\n",
       "      <td>1019221</td>\n",
       "      <td>101922102</td>\n",
       "      <td>2.0</td>\n",
       "      <td>5</td>\n",
       "      <td>5.0</td>\n",
       "      <td>4.0</td>\n",
       "      <td>3.0</td>\n",
       "      <td>2</td>\n",
       "      <td>2</td>\n",
       "      <td>11</td>\n",
       "      <td>...</td>\n",
       "      <td>1.0</td>\n",
       "      <td>0.0</td>\n",
       "      <td>0.0</td>\n",
       "      <td>0.0</td>\n",
       "      <td>0.0</td>\n",
       "      <td>1.0</td>\n",
       "      <td>1.0</td>\n",
       "      <td>1.0</td>\n",
       "      <td>0.819936</td>\n",
       "      <td>0.876701</td>\n",
       "    </tr>\n",
       "    <tr>\n",
       "      <th>527</th>\n",
       "      <td>1025201</td>\n",
       "      <td>102520102</td>\n",
       "      <td>1.0</td>\n",
       "      <td>6</td>\n",
       "      <td>3.0</td>\n",
       "      <td>2.0</td>\n",
       "      <td>2.0</td>\n",
       "      <td>2</td>\n",
       "      <td>1</td>\n",
       "      <td>11</td>\n",
       "      <td>...</td>\n",
       "      <td>1.0</td>\n",
       "      <td>0.0</td>\n",
       "      <td>0.0</td>\n",
       "      <td>0.0</td>\n",
       "      <td>0.0</td>\n",
       "      <td>1.0</td>\n",
       "      <td>1.0</td>\n",
       "      <td>1.0</td>\n",
       "      <td>0.641642</td>\n",
       "      <td>0.543043</td>\n",
       "    </tr>\n",
       "    <tr>\n",
       "      <th>905</th>\n",
       "      <td>1043061</td>\n",
       "      <td>104306102</td>\n",
       "      <td>1.0</td>\n",
       "      <td>6</td>\n",
       "      <td>3.0</td>\n",
       "      <td>2.0</td>\n",
       "      <td>2.0</td>\n",
       "      <td>2</td>\n",
       "      <td>1</td>\n",
       "      <td>11</td>\n",
       "      <td>...</td>\n",
       "      <td>1.0</td>\n",
       "      <td>0.0</td>\n",
       "      <td>1.0</td>\n",
       "      <td>2.0</td>\n",
       "      <td>5.0</td>\n",
       "      <td>2.0</td>\n",
       "      <td>0.0</td>\n",
       "      <td>1.0</td>\n",
       "      <td>0.610468</td>\n",
       "      <td>0.498620</td>\n",
       "    </tr>\n",
       "    <tr>\n",
       "      <th>969</th>\n",
       "      <td>1045251</td>\n",
       "      <td>104525102</td>\n",
       "      <td>2.0</td>\n",
       "      <td>6</td>\n",
       "      <td>6.0</td>\n",
       "      <td>5.0</td>\n",
       "      <td>3.0</td>\n",
       "      <td>2</td>\n",
       "      <td>1</td>\n",
       "      <td>11</td>\n",
       "      <td>...</td>\n",
       "      <td>1.0</td>\n",
       "      <td>0.0</td>\n",
       "      <td>0.0</td>\n",
       "      <td>0.0</td>\n",
       "      <td>0.0</td>\n",
       "      <td>0.0</td>\n",
       "      <td>1.0</td>\n",
       "      <td>0.0</td>\n",
       "      <td>1.416261</td>\n",
       "      <td>1.427064</td>\n",
       "    </tr>\n",
       "    <tr>\n",
       "      <th>1017</th>\n",
       "      <td>1048031</td>\n",
       "      <td>104803101</td>\n",
       "      <td>1.0</td>\n",
       "      <td>2</td>\n",
       "      <td>2.0</td>\n",
       "      <td>1.0</td>\n",
       "      <td>1.0</td>\n",
       "      <td>2</td>\n",
       "      <td>3</td>\n",
       "      <td>11</td>\n",
       "      <td>...</td>\n",
       "      <td>0.0</td>\n",
       "      <td>2.0</td>\n",
       "      <td>0.0</td>\n",
       "      <td>1.0</td>\n",
       "      <td>3.0</td>\n",
       "      <td>3.0</td>\n",
       "      <td>0.0</td>\n",
       "      <td>1.0</td>\n",
       "      <td>1.140673</td>\n",
       "      <td>1.286743</td>\n",
       "    </tr>\n",
       "  </tbody>\n",
       "</table>\n",
       "<p>5 rows × 468 columns</p>\n",
       "</div>"
      ],
      "text/plain": [
       "      Household serial number (archive)  Person serial number (archive)  \\\n",
       "381                             1019221                       101922102   \n",
       "527                             1025201                       102520102   \n",
       "905                             1043061                       104306102   \n",
       "969                             1045251                       104525102   \n",
       "1017                            1048031                       104803101   \n",
       "\n",
       "      (D) 3 class Housing Tenure  (D) Household Type  (D) NS-SEC 8 classes  \\\n",
       "381                          2.0                   5                   5.0   \n",
       "527                          1.0                   6                   3.0   \n",
       "905                          1.0                   6                   3.0   \n",
       "969                          2.0                   6                   6.0   \n",
       "1017                         1.0                   2                   2.0   \n",
       "\n",
       "      (D) NS-SEC 5 classes  (D) NS-SEC 3 classes  \\\n",
       "381                    4.0                   3.0   \n",
       "527                    2.0                   2.0   \n",
       "905                    2.0                   2.0   \n",
       "969                    5.0                   3.0   \n",
       "1017                   1.0                   1.0   \n",
       "\n",
       "      (D) Any children in household  (D) Region  WHS year  \\\n",
       "381                               2           2        11   \n",
       "527                               2           1        11   \n",
       "905                               2           1        11   \n",
       "969                               2           1        11   \n",
       "1017                              2           3        11   \n",
       "\n",
       "              ...           No vigorous exercise in last 7 days  \\\n",
       "381           ...                                           1.0   \n",
       "527           ...                                           1.0   \n",
       "905           ...                                           1.0   \n",
       "969           ...                                           1.0   \n",
       "1017          ...                                           0.0   \n",
       "\n",
       "      (D) No of days of vigorous exercise  \\\n",
       "381                                   0.0   \n",
       "527                                   0.0   \n",
       "905                                   0.0   \n",
       "969                                   0.0   \n",
       "1017                                  2.0   \n",
       "\n",
       "      (D) At least 30 mins mod/vigorous exercise on 5+ days  \\\n",
       "381                                                 0.0       \n",
       "527                                                 0.0       \n",
       "905                                                 1.0       \n",
       "969                                                 0.0       \n",
       "1017                                                0.0       \n",
       "\n",
       "      (D) No of days at least 30 mins mod/vigorous exercise  \\\n",
       "381                                                 0.0       \n",
       "527                                                 0.0       \n",
       "905                                                 2.0       \n",
       "969                                                 0.0       \n",
       "1017                                                1.0       \n",
       "\n",
       "      (D) No of days at least 30 mins mod/vigorous exercise (grouped)  \\\n",
       "381                                                 0.0                 \n",
       "527                                                 0.0                 \n",
       "905                                                 5.0                 \n",
       "969                                                 0.0                 \n",
       "1017                                                3.0                 \n",
       "\n",
       "      (D) Most strenuous exercise done in last 7 days  (D) 0 active days  \\\n",
       "381                                               1.0                1.0   \n",
       "527                                               1.0                1.0   \n",
       "905                                               2.0                0.0   \n",
       "969                                               0.0                1.0   \n",
       "1017                                              3.0                0.0   \n",
       "\n",
       "      (D) No exercise in last week - binary  Household NR weight  \\\n",
       "381                                     1.0             0.819936   \n",
       "527                                     1.0             0.641642   \n",
       "905                                     1.0             0.610468   \n",
       "969                                     0.0             1.416261   \n",
       "1017                                    1.0             1.140673   \n",
       "\n",
       "      Individual NR weight  \n",
       "381               0.876701  \n",
       "527               0.543043  \n",
       "905               0.498620  \n",
       "969               1.427064  \n",
       "1017              1.286743  \n",
       "\n",
       "[5 rows x 468 columns]"
      ]
     },
     "execution_count": 177,
     "metadata": {},
     "output_type": "execute_result"
    }
   ],
   "source": [
    "#epilepsy patients!\n",
    "response = \"Epilepsy - currently treated\"\n",
    "epi = whs_complete[whs_complete[response] == 1]\n",
    "print epi.shape\n",
    "epi.head()"
   ]
  },
  {
   "cell_type": "markdown",
   "metadata": {},
   "source": [
    ">### Data Analysis"
   ]
  },
  {
   "cell_type": "markdown",
   "metadata": {},
   "source": [
    "There are in total **137** epilepsy patients of all **14170** people. In this part, I want to compare several key features of **epilepsy patients** to the **general population**, such as **well-being, health, medication**. From all the predictors I will select some features that shows noticeable **difference** between epilepsy patients and the whole population."
   ]
  },
  {
   "cell_type": "code",
   "execution_count": 160,
   "metadata": {
    "collapsed": true
   },
   "outputs": [],
   "source": [
    "#a function to deliver comparation\n",
    "def compare(name):\n",
    "    #ratio and count among whole population\n",
    "    print pd.to_numeric(whs_complete[name],errors='coerce').value_counts()/pd.to_numeric(whs_complete[name],errors='coerce').value_counts().sum()\n",
    "    print whs_complete[name].value_counts()\n",
    "    \n",
    "    #ratio and count among epilepsy patients\n",
    "    print epi[name].value_counts()/epi[name].value_counts().sum()\n",
    "    print epi[name].value_counts()"
   ]
  },
  {
   "cell_type": "code",
   "execution_count": 178,
   "metadata": {
    "collapsed": false
   },
   "outputs": [
    {
     "name": "stdout",
     "output_type": "stream",
     "text": [
      "1.0    0.642320\n",
      "2.0    0.225074\n",
      "3.0    0.131329\n",
      "4.0    0.001276\n",
      "Name: General Health, dtype: float64\n",
      "1.0    9058\n",
      "2.0    3174\n",
      "3.0    1852\n",
      "4.0      18\n",
      "Name: General Health, dtype: int64\n",
      "3.0    0.445255\n",
      "2.0    0.306569\n",
      "1.0    0.240876\n",
      "4.0    0.007299\n",
      "Name: General Health, dtype: float64\n",
      "3.0    61\n",
      "2.0    42\n",
      "1.0    33\n",
      "4.0     1\n",
      "Name: General Health, dtype: int64\n"
     ]
    }
   ],
   "source": [
    "compare(\"General Health\")"
   ]
  },
  {
   "cell_type": "code",
   "execution_count": 158,
   "metadata": {
    "collapsed": false
   },
   "outputs": [
    {
     "name": "stdout",
     "output_type": "stream",
     "text": [
      "2.0     0.471669\n",
      "9.0     0.278480\n",
      "10.0    0.077261\n",
      "8.0     0.057927\n",
      "1.0     0.052201\n",
      "11.0    0.030562\n",
      "6.0     0.014352\n",
      "4.0     0.006023\n",
      "7.0     0.004387\n",
      "3.0     0.003941\n",
      "5.0     0.003198\n",
      "Name: Work status, dtype: float64\n",
      "2.0     6343\n",
      "9.0     3745\n",
      "10.0    1039\n",
      "8.0      779\n",
      "1.0      702\n",
      "11.0     411\n",
      "6.0      193\n",
      "4.0       81\n",
      "7.0       59\n",
      "3.0       53\n",
      "5.0       43\n",
      "Name: Work status, dtype: int64\n",
      "8.0     0.408\n",
      "2.0     0.224\n",
      "9.0     0.208\n",
      "10.0    0.048\n",
      "11.0    0.040\n",
      "6.0     0.024\n",
      "3.0     0.024\n",
      "7.0     0.016\n",
      "4.0     0.008\n",
      "Name: Work status, dtype: float64\n",
      "8.0     51\n",
      "2.0     28\n",
      "9.0     26\n",
      "10.0     6\n",
      "11.0     5\n",
      "6.0      3\n",
      "3.0      3\n",
      "7.0      2\n",
      "4.0      1\n",
      "Name: Work status, dtype: int64\n"
     ]
    }
   ],
   "source": [
    "compare(\"Work status\")"
   ]
  },
  {
   "cell_type": "code",
   "execution_count": 159,
   "metadata": {
    "collapsed": false
   },
   "outputs": [
    {
     "name": "stdout",
     "output_type": "stream",
     "text": [
      "1.0    0.583279\n",
      "2.0    0.416721\n",
      "Name: Regular prescribed medication, dtype: float64\n",
      "1.0    8044\n",
      "2.0    5747\n",
      "Name: Regular prescribed medication, dtype: int64\n",
      "1.0    0.970588\n",
      "2.0    0.029412\n",
      "Name: Regular prescribed medication, dtype: float64\n",
      "1.0    132\n",
      "2.0      4\n",
      "Name: Regular prescribed medication, dtype: int64\n"
     ]
    }
   ],
   "source": [
    "compare(\"Regular prescribed medication\")"
   ]
  },
  {
   "cell_type": "code",
   "execution_count": 166,
   "metadata": {
    "collapsed": false
   },
   "outputs": [
    {
     "name": "stdout",
     "output_type": "stream",
     "text": [
      "0.0    0.640539\n",
      "1.0    0.359461\n",
      "Name: 5+ O levels/CSEs (grade 1) GCSEs (grade A-C) 1 A level, 2-3 AS levels, etc, dtype: float64\n",
      "0.0    8409\n",
      "1.0    4719\n",
      "Name: 5+ O levels/CSEs (grade 1) GCSEs (grade A-C) 1 A level, 2-3 AS levels, etc, dtype: int64\n",
      "0.0    0.769231\n",
      "1.0    0.230769\n",
      "Name: 5+ O levels/CSEs (grade 1) GCSEs (grade A-C) 1 A level, 2-3 AS levels, etc, dtype: float64\n",
      "0.0    90\n",
      "1.0    27\n",
      "Name: 5+ O levels/CSEs (grade 1) GCSEs (grade A-C) 1 A level, 2-3 AS levels, etc, dtype: int64\n"
     ]
    }
   ],
   "source": [
    "compare(\"5+ O levels/CSEs (grade 1) GCSEs (grade A-C) 1 A level, 2-3 AS levels, etc\")"
   ]
  },
  {
   "cell_type": "code",
   "execution_count": 168,
   "metadata": {
    "collapsed": false
   },
   "outputs": [
    {
     "name": "stdout",
     "output_type": "stream",
     "text": [
      "0.0    0.606871\n",
      "1.0    0.393129\n",
      "Name: 1-4 O levels/CSEs/GCSEs (any grades), dtype: float64\n",
      "0.0    7967\n",
      "1.0    5161\n",
      "Name: 1-4 O levels/CSEs/GCSEs (any grades), dtype: int64\n",
      "0.0    0.769231\n",
      "1.0    0.230769\n",
      "Name: 1-4 O levels/CSEs/GCSEs (any grades), dtype: float64\n",
      "0.0    90\n",
      "1.0    27\n",
      "Name: 1-4 O levels/CSEs/GCSEs (any grades), dtype: int64\n"
     ]
    }
   ],
   "source": [
    "compare(\"1-4 O levels/CSEs/GCSEs (any grades)\")"
   ]
  },
  {
   "cell_type": "markdown",
   "metadata": {},
   "source": [
    "> ### Plot and visualize"
   ]
  },
  {
   "cell_type": "markdown",
   "metadata": {},
   "source": [
    "Of all the 468 features, I filtered some that are most representative of the life of epilepsy patients. From the statistics below, you can really see what epilepsy has brought to the life of epilepsy patients. "
   ]
  },
  {
   "cell_type": "markdown",
   "metadata": {},
   "source": [
    "**Key words** of life of epilepsy patients:\n",
    "- Chronic Disease\n",
    "- Regular Prescribed medication\n",
    "- Depression\n",
    "- Anxiety\n",
    "- Permanently unable to work\n",
    "- Low education\n",
    "- Not Healthy\n",
    "- Low Vitality\n",
    "- Low life satisfaction\n",
    "- Limit on bathing or dressing "
   ]
  },
  {
   "cell_type": "code",
   "execution_count": 340,
   "metadata": {
    "collapsed": true
   },
   "outputs": [],
   "source": [
    "def stat(name):\n",
    "    \n",
    "    #ratio and count among whole population\n",
    "    whole = pd.to_numeric(whs_complete[name],errors='coerce').value_counts()/pd.to_numeric(whs_complete[name],errors='coerce').value_counts().sum()\n",
    "    whole.sort_index(inplace = True)\n",
    "    print whole\n",
    "    \n",
    "    #ratio and count among epilepsy patients\n",
    "    e = epi[name].value_counts()/epi[name].value_counts().sum()\n",
    "    e.sort_index(inplace = True)\n",
    "    print e\n",
    "    \n",
    "    if name == \"Work status\":\n",
    "        return whole[[2,3,8]].values, e[[2,3,8]].values\n",
    "    else:\n",
    "        return whole.values, e.values"
   ]
  },
  {
   "cell_type": "code",
   "execution_count": 341,
   "metadata": {
    "collapsed": true
   },
   "outputs": [],
   "source": [
    "def plot(title, ticks, a, b):\n",
    "\n",
    "    # create plot\n",
    "    fig, ax = plt.subplots()\n",
    "    index = np.arange(len(a))\n",
    "    bar_width = 0.15/4 * len(a)\n",
    "    opacity = 0.8\n",
    "\n",
    "    rects1 = plt.bar(index, a, bar_width,\n",
    "                     alpha=opacity,\n",
    "                     color='grey',\n",
    "                     label='Population',align='center')\n",
    "\n",
    "    rects2 = plt.bar(index + bar_width, b, bar_width,\n",
    "                     alpha=opacity,\n",
    "                     color='red',\n",
    "                     label='Epilepsy',align='center')\n",
    "\n",
    "    #plt.xlabel('Person')\n",
    "    plt.ylabel('Percentage')\n",
    "    plt.title(title)\n",
    "    plt.xticks(index + bar_width, ticks)\n",
    "    plt.legend(loc = \"best\")\n",
    "\n",
    "    plt.tight_layout()\n",
    "    plt.show()\n",
    "    plt.savefig(title +\".png\")"
   ]
  },
  {
   "cell_type": "markdown",
   "metadata": {},
   "source": [
    "- General Health"
   ]
  },
  {
   "cell_type": "code",
   "execution_count": 342,
   "metadata": {
    "collapsed": false
   },
   "outputs": [
    {
     "name": "stdout",
     "output_type": "stream",
     "text": [
      "1.0    0.642320\n",
      "2.0    0.225074\n",
      "3.0    0.131329\n",
      "4.0    0.001276\n",
      "Name: General Health, dtype: float64\n",
      "1.0    0.240876\n",
      "2.0    0.306569\n",
      "3.0    0.445255\n",
      "4.0    0.007299\n",
      "Name: General Health, dtype: float64\n"
     ]
    }
   ],
   "source": [
    "a,b = stat(\"General Health\")"
   ]
  },
  {
   "cell_type": "code",
   "execution_count": 343,
   "metadata": {
    "collapsed": false
   },
   "outputs": [
    {
     "data": {
      "image/png": "[encoded data removed]",
      "text/plain": [
       "<matplotlib.figure.Figure at 0x125b6d650>"
      ]
     },
     "metadata": {},
     "output_type": "display_data"
    }
   ],
   "source": [
    "plot(\"Self-evaluated General Health\", [\"Good\",\"Fairly Good\",\"Not Good\",\"Don't Know\"],a,b)"
   ]
  },
  {
   "cell_type": "markdown",
   "metadata": {},
   "source": [
    "- Chronic illness"
   ]
  },
  {
   "cell_type": "code",
   "execution_count": 308,
   "metadata": {
    "collapsed": false
   },
   "outputs": [
    {
     "name": "stdout",
     "output_type": "stream",
     "text": [
      "0.0    0.416721\n",
      "1.0    0.583279\n",
      "Name: (D) Regular prescribed medication - binary, dtype: float64\n",
      "0.0    0.029412\n",
      "1.0    0.970588\n",
      "Name: (D) Regular prescribed medication - binary, dtype: float64\n"
     ]
    }
   ],
   "source": [
    "a,b = stat(\"(D) Regular prescribed medication - binary\")"
   ]
  },
  {
   "cell_type": "code",
   "execution_count": 309,
   "metadata": {
    "collapsed": false
   },
   "outputs": [
    {
     "data": {
      "image/png": "[encoded data removed]",
      "text/plain": [
       "<matplotlib.figure.Figure at 0x122c17550>"
      ]
     },
     "metadata": {},
     "output_type": "display_data"
    }
   ],
   "source": [
    "plot(\"Regular Prescribed medication\",[\"No\",\"Yes\"],a,b)"
   ]
  },
  {
   "cell_type": "markdown",
   "metadata": {},
   "source": [
    "- Depression"
   ]
  },
  {
   "cell_type": "code",
   "execution_count": 310,
   "metadata": {
    "collapsed": false
   },
   "outputs": [
    {
     "name": "stdout",
     "output_type": "stream",
     "text": [
      "0.0    0.907093\n",
      "1.0    0.092907\n",
      "Name: (D) Currently treated for depression - binary, dtype: float64\n",
      "0.0    0.650794\n",
      "1.0    0.349206\n",
      "Name: (D) Currently treated for depression - binary, dtype: float64\n"
     ]
    }
   ],
   "source": [
    "a,b = stat(\"(D) Currently treated for depression - binary\")"
   ]
  },
  {
   "cell_type": "code",
   "execution_count": 311,
   "metadata": {
    "collapsed": false
   },
   "outputs": [
    {
     "data": {
      "image/png": "[encoded data removed]",
      "text/plain": [
       "<matplotlib.figure.Figure at 0x122a456d0>"
      ]
     },
     "metadata": {},
     "output_type": "display_data"
    }
   ],
   "source": [
    "plot(\"Treated for Depression\",[\"No\",\"Yes\"],a,b)"
   ]
  },
  {
   "cell_type": "markdown",
   "metadata": {},
   "source": [
    "- Anxiety\n"
   ]
  },
  {
   "cell_type": "code",
   "execution_count": 312,
   "metadata": {
    "collapsed": false
   },
   "outputs": [
    {
     "name": "stdout",
     "output_type": "stream",
     "text": [
      "0.0    0.923804\n",
      "1.0    0.076196\n",
      "Name: (D) Currently treated for anxiety - binary, dtype: float64\n",
      "0.0    0.691667\n",
      "1.0    0.308333\n",
      "Name: (D) Currently treated for anxiety - binary, dtype: float64\n"
     ]
    },
    {
     "data": {
      "image/png": "[encoded data removed]",
      "text/plain": [
       "<matplotlib.figure.Figure at 0x1217ad410>"
      ]
     },
     "metadata": {},
     "output_type": "display_data"
    }
   ],
   "source": [
    "a,b = stat(\"(D) Currently treated for anxiety - binary\")\n",
    "plot(\"Treated for Anxiety\",[\"No\",\"Yes\"],a,b)"
   ]
  },
  {
   "cell_type": "markdown",
   "metadata": {},
   "source": [
    "- Permanently unable to work\n"
   ]
  },
  {
   "cell_type": "code",
   "execution_count": 344,
   "metadata": {
    "collapsed": false
   },
   "outputs": [
    {
     "name": "stdout",
     "output_type": "stream",
     "text": [
      "1.0     0.052201\n",
      "2.0     0.471669\n",
      "3.0     0.003941\n",
      "4.0     0.006023\n",
      "5.0     0.003198\n",
      "6.0     0.014352\n",
      "7.0     0.004387\n",
      "8.0     0.057927\n",
      "9.0     0.278480\n",
      "10.0    0.077261\n",
      "11.0    0.030562\n",
      "Name: Work status, dtype: float64\n",
      "2.0     0.224\n",
      "3.0     0.024\n",
      "4.0     0.008\n",
      "6.0     0.024\n",
      "7.0     0.016\n",
      "8.0     0.408\n",
      "9.0     0.208\n",
      "10.0    0.048\n",
      "11.0    0.040\n",
      "Name: Work status, dtype: float64\n"
     ]
    }
   ],
   "source": [
    "a,b = stat(\"Work status\")"
   ]
  },
  {
   "cell_type": "code",
   "execution_count": 345,
   "metadata": {
    "collapsed": false
   },
   "outputs": [
    {
     "data": {
      "image/png": "[encoded data removed]",
      "text/plain": [
       "<matplotlib.figure.Figure at 0x1234aefd0>"
      ]
     },
     "metadata": {},
     "output_type": "display_data"
    }
   ],
   "source": [
    "plot(\"Work Status\",[\"Paid\",\"Government Scheme\", \"Unable to work\"],a,b)"
   ]
  },
  {
   "cell_type": "markdown",
   "metadata": {},
   "source": [
    "- Low education\n"
   ]
  },
  {
   "cell_type": "code",
   "execution_count": 346,
   "metadata": {
    "collapsed": false
   },
   "outputs": [
    {
     "name": "stdout",
     "output_type": "stream",
     "text": [
      "0.0    0.640539\n",
      "1.0    0.359461\n",
      "Name: 5+ O levels/CSEs (grade 1) GCSEs (grade A-C) 1 A level, 2-3 AS levels, etc, dtype: float64\n",
      "0.0    0.769231\n",
      "1.0    0.230769\n",
      "Name: 5+ O levels/CSEs (grade 1) GCSEs (grade A-C) 1 A level, 2-3 AS levels, etc, dtype: float64\n"
     ]
    },
    {
     "data": {
      "image/png": "[encoded data removed]",
      "text/plain": [
       "<matplotlib.figure.Figure at 0x125ca1050>"
      ]
     },
     "metadata": {},
     "output_type": "display_data"
    }
   ],
   "source": [
    "a,b = stat(\"5+ O levels/CSEs (grade 1) GCSEs (grade A-C) 1 A level, 2-3 AS levels, etc\")\n",
    "plot(\"Good Grades\",[\"No\",\"Yes\"],a,b)"
   ]
  },
  {
   "cell_type": "markdown",
   "metadata": {},
   "source": [
    "- Not Healthy\n"
   ]
  },
  {
   "cell_type": "code",
   "execution_count": 347,
   "metadata": {
    "collapsed": false
   },
   "outputs": [
    {
     "name": "stdout",
     "output_type": "stream",
     "text": [
      "0.0    0.798392\n",
      "1.0    0.201608\n",
      "Name: (D) Fair or poor health - binary, dtype: float64\n",
      "0.0    0.473684\n",
      "1.0    0.526316\n",
      "Name: (D) Fair or poor health - binary, dtype: float64\n"
     ]
    },
    {
     "data": {
      "image/png": "[encoded data removed]",
      "text/plain": [
       "<matplotlib.figure.Figure at 0x1261a3610>"
      ]
     },
     "metadata": {},
     "output_type": "display_data"
    }
   ],
   "source": [
    "a,b = stat(\"(D) Fair or poor health - binary\")\n",
    "plot(\"Fair or poor health\",[\"No\",\"Yes\"],a,b)"
   ]
  },
  {
   "cell_type": "markdown",
   "metadata": {},
   "source": [
    "- Low Vitality\n"
   ]
  },
  {
   "cell_type": "code",
   "execution_count": 348,
   "metadata": {
    "collapsed": false
   },
   "outputs": [
    {
     "name": "stdout",
     "output_type": "stream",
     "text": [
      "0.0      0.128531\n",
      "25.0     0.147507\n",
      "50.0     0.277425\n",
      "75.0     0.374425\n",
      "100.0    0.072112\n",
      "Name: (D) SF12v2 Vitality score, dtype: float64\n",
      "0.0      0.325397\n",
      "25.0     0.166667\n",
      "50.0     0.206349\n",
      "75.0     0.253968\n",
      "100.0    0.047619\n",
      "Name: (D) SF12v2 Vitality score, dtype: float64\n"
     ]
    }
   ],
   "source": [
    "a,b = stat(\"(D) SF12v2 Vitality score\")"
   ]
  },
  {
   "cell_type": "code",
   "execution_count": 349,
   "metadata": {
    "collapsed": false
   },
   "outputs": [
    {
     "data": {
      "image/png": "[encoded data removed]",
      "text/plain": [
       "<matplotlib.figure.Figure at 0x1234717d0>"
      ]
     },
     "metadata": {},
     "output_type": "display_data"
    }
   ],
   "source": [
    "plot(\"Vitality Score\",[\"0\",\"25\",\"50\",\"75\",\"100\"],a,b)"
   ]
  },
  {
   "cell_type": "markdown",
   "metadata": {},
   "source": [
    "- Low life satisfaction\n"
   ]
  },
  {
   "cell_type": "code",
   "execution_count": 350,
   "metadata": {
    "collapsed": false
   },
   "outputs": [
    {
     "name": "stdout",
     "output_type": "stream",
     "text": [
      "0.0     0.021170\n",
      "1.0     0.010330\n",
      "2.0     0.021170\n",
      "3.0     0.030554\n",
      "4.0     0.033755\n",
      "5.0     0.100393\n",
      "6.0     0.079150\n",
      "7.0     0.154590\n",
      "8.0     0.248727\n",
      "9.0     0.139532\n",
      "10.0    0.160629\n",
      "Name: Life satisfaction, dtype: float64\n",
      "0.0     0.112903\n",
      "1.0     0.024194\n",
      "2.0     0.040323\n",
      "3.0     0.096774\n",
      "4.0     0.040323\n",
      "5.0     0.161290\n",
      "6.0     0.048387\n",
      "7.0     0.161290\n",
      "8.0     0.153226\n",
      "9.0     0.032258\n",
      "10.0    0.129032\n",
      "Name: Life satisfaction, dtype: float64\n"
     ]
    },
    {
     "data": {
      "image/png": "[encoded data removed]",
      "text/plain": [
       "<matplotlib.figure.Figure at 0x122c24c90>"
      ]
     },
     "metadata": {},
     "output_type": "display_data"
    }
   ],
   "source": [
    "a,b = stat(\"Life satisfaction\")\n",
    "plot(\"Life satisfaction\",range(11),a,b)"
   ]
  },
  {
   "cell_type": "markdown",
   "metadata": {},
   "source": [
    "- Limit on bathing or dressing"
   ]
  },
  {
   "cell_type": "code",
   "execution_count": 351,
   "metadata": {
    "collapsed": false
   },
   "outputs": [
    {
     "name": "stdout",
     "output_type": "stream",
     "text": [
      "1.0    0.068842\n",
      "2.0    0.097399\n",
      "3.0    0.833758\n",
      "Name: SF Health limits bathing or dressing yourself, dtype: float64\n",
      "1.0    0.218750\n",
      "2.0    0.289062\n",
      "3.0    0.492188\n",
      "Name: SF Health limits bathing or dressing yourself, dtype: float64\n"
     ]
    },
    {
     "data": {
      "image/png": "[encoded data removed]",
      "text/plain": [
       "<matplotlib.figure.Figure at 0x11f015d10>"
      ]
     },
     "metadata": {},
     "output_type": "display_data"
    }
   ],
   "source": [
    "a,b = stat(\"SF Health limits bathing or dressing yourself\")\n",
    "plot(\"Limits on Bathing or Dressing\",[\"Limited a Lot\",\"Limited a Little\",\"Not Limited\"],a,b)"
   ]
  },
  {
   "cell_type": "markdown",
   "metadata": {},
   "source": [
    "> ### Conclusions"
   ]
  },
  {
   "cell_type": "markdown",
   "metadata": {},
   "source": [
    "From the analysis above we see that epilepsy patients are suffering from the chronic disease. From attitude towards life to life quality, they are showing somehow negtive performance. They have to count on permanent medication to control seizures. Moreover, the side effects of medication can heavily influence their vitality."
   ]
  },
  {
   "cell_type": "markdown",
   "metadata": {},
   "source": [
    "An idea comes to my mind. What are epilepsy patients saying about life? What are they doing? Are they really afraid or anxious? Then I go to read their stories and visualize their life by words.http://livingwellwithepilepsy.com/blog"
   ]
  },
  {
   "cell_type": "code",
   "execution_count": 375,
   "metadata": {
    "collapsed": true
   },
   "outputs": [],
   "source": [
    "#!/usr/bin/env python\n",
    "\"\"\"\n",
    "Using custom colors\n",
    "====================\n",
    "Using the recolor method and custom coloring functions.\n",
    "\"\"\"\n",
    "\n",
    "import numpy as np\n",
    "from PIL import Image\n",
    "from os import path\n",
    "import matplotlib.pyplot as plt\n",
    "import random\n",
    "\n",
    "from wordcloud import WordCloud, STOPWORDS\n",
    "\n",
    "\n",
    "def grey_color_func(word, font_size, position, orientation, random_state=None, **kwargs):\n",
    "    return \"hsl(0, 0%%, %d%%)\" % random.randint(60, 100)\n",
    "\n",
    "#d = path.dirname(__file__)\n",
    "\n",
    "# read the mask image\n",
    "# taken from\n",
    "# http://www.stencilry.org/stencils/movies/star%20wars/storm-trooper.gif\n",
    "mask = np.array(Image.open(\"Word Cloud/stormtrooper_mask.png\"))\n",
    "\n",
    "# movie script of \"a new hope\"\n",
    "# http://www.imsdb.com/scripts/Star-Wars-A-New-Hope.html\n",
    "# May the lawyers deem this fair use.\n",
    "text = open(\"Word Cloud/epilepsy_blog.txt\").read()\n",
    "\n",
    "# adding movie script specific stopwords\n",
    "stopwords = set(STOPWORDS)\n",
    "stopwords.add(\"jessica\")\n",
    "stopwords.add(\"link\")\n",
    "stopwords.add(\"follow\")\n",
    "stopwords.add(\"post\")\n",
    "stopwords.add(\"Blog\")\n",
    "stopwords.add(\"blog\")\n",
    "\n",
    "wc = WordCloud(max_words=300, stopwords=stopwords, margin=10,\n",
    "               random_state=1).generate(text)\n",
    "# store default colored image"
   ]
  },
  {
   "cell_type": "code",
   "execution_count": 376,
   "metadata": {
    "collapsed": false
   },
   "outputs": [
    {
     "data": {
      "image/png": "[encoded data removed]",
      "text/plain": [
       "<matplotlib.figure.Figure at 0x126027cd0>"
      ]
     },
     "metadata": {},
     "output_type": "display_data"
    },
    {
     "data": {
      "image/png": "[encoded data removed]",
      "text/plain": [
       "<matplotlib.figure.Figure at 0x126119f90>"
      ]
     },
     "metadata": {},
     "output_type": "display_data"
    }
   ],
   "source": [
    "plt.figure(figsize=(10,10))\n",
    "default_colors = wc.to_array()\n",
    "plt.title(\"Custom colors\")\n",
    "plt.imshow(wc.recolor(color_func=grey_color_func, random_state=3))\n",
    "wc.to_file(\"Word Cloud/a_new_hope.png\")\n",
    "plt.axis(\"off\")\n",
    "plt.figure(figsize=(10,10))\n",
    "plt.title(\"Default colors\")\n",
    "plt.imshow(default_colors)\n",
    "plt.axis(\"off\")\n",
    "plt.show()"
   ]
  },
  {
   "cell_type": "markdown",
   "metadata": {},
   "source": [
    "From their stories, I find **Hope**. Look at the words: time, living, will, help, today, well, life.... I am moved by their postive attitude. And I really hope more and more epilepsy patients can share their life and cheer up to live a better life!"
   ]
  }
 ],
 "metadata": {
  "anaconda-cloud": {},
  "kernelspec": {
   "display_name": "Python [Root]",
   "language": "python",
   "name": "Python [Root]"
  },
  "language_info": {
   "codemirror_mode": {
    "name": "ipython",
    "version": 2
   },
   "file_extension": ".py",
   "mimetype": "text/x-python",
   "name": "python",
   "nbconvert_exporter": "python",
   "pygments_lexer": "ipython2",
   "version": "2.7.12"
  }
 },
 "nbformat": 4,
 "nbformat_minor": 0
}
