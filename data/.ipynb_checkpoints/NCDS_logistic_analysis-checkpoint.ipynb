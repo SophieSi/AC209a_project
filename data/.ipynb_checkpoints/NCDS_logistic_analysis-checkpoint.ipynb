{
 "cells": [
  {
   "cell_type": "code",
   "execution_count": 151,
   "metadata": {
    "collapsed": true
   },
   "outputs": [],
   "source": [
    "import numpy as np\n",
    "import pandas as pd\n",
    "import matplotlib.pyplot as plt\n",
    "%matplotlib inline\n",
    "\n",
    "from sklearn.linear_model import LogisticRegressionCV\n",
    "from sklearn.preprocessing import scale\n",
    "from sklearn.metrics import confusion_matrix\n",
    "from sklearn.model_selection import KFold\n",
    "from sklearn.model_selection import GridSearchCV\n",
    "from sklearn.model_selection import train_test_split"
   ]
  },
  {
   "cell_type": "code",
   "execution_count": 152,
   "metadata": {
    "collapsed": true
   },
   "outputs": [],
   "source": [
    "# load data\n",
    "data = pd.read_csv('./born_data.csv')\n",
    "\n",
    "# separate x and y\n",
    "y_df = data.iloc[:, -1].copy()\n",
    "y_df[y_df <> 5] = 0\n",
    "y_df[y_df == 5] = 1\n",
    "x_df = data.iloc[:, 0:-1].copy()"
   ]
  },
  {
   "cell_type": "code",
   "execution_count": null,
   "metadata": {
    "collapsed": true
   },
   "outputs": [],
   "source": [
    "for col in x_df.columns:\n",
    "    if '11 years' in col or '16 years' in col:\n",
    "        x_df.drop(col, axis = 1, inplace = True)"
   ]
  },
  {
   "cell_type": "code",
   "execution_count": 153,
   "metadata": {
    "collapsed": false
   },
   "outputs": [
    {
     "name": "stdout",
     "output_type": "stream",
     "text": [
      "data shape before dummification/standardization (18558, 66)\n",
      "data shape after dummification/standardization (18558, 556)\n"
     ]
    }
   ],
   "source": [
    "# if more than 15 unique values, then treated as numerical\n",
    "master_list = []\n",
    "\n",
    "for col in x_df.columns:\n",
    "    # get unique count\n",
    "    unique_count = len(x_df[col].unique())\n",
    "    \n",
    "    # numerical variable\n",
    "    if unique_count > 15:\n",
    "        # get a copy for processing\n",
    "        curr_df = pd.DataFrame(x_df[col])\n",
    "        # handle NaN\n",
    "        curr_df[curr_df.isnull()] = -1\n",
    "        # standardize\n",
    "        curr_df = pd.DataFrame(scale(curr_df.values))\n",
    "        # reset index\n",
    "        curr_df.index = x_df.index\n",
    "        # change column label\n",
    "        curr_df.columns = [col]\n",
    "        # append to master list\n",
    "        master_list.append(curr_df)\n",
    "    # categorical variable\n",
    "    else:\n",
    "        # get a copy\n",
    "        curr_df = x_df[col].copy()\n",
    "        # get dummy\n",
    "        # if contains NaN\n",
    "        if curr_df.isnull().values.any():\n",
    "            dummy = pd.get_dummies(curr_df, dummy_na = True)\n",
    "        # if no NaN\n",
    "        else:\n",
    "            dummy = pd.get_dummies(curr_df, dummy_na = False)\n",
    "        # reset columns\n",
    "        dummy.columns = [str(col)+'='+str(value) for value in dummy.columns]\n",
    "        # reset index\n",
    "        dummy.index = x_df.index\n",
    "        # append to master list\n",
    "        master_list.append(dummy)\n",
    "        \n",
    "# concatenate master list\n",
    "x_df_extended = pd.concat(master_list, axis = 1)\n",
    "\n",
    "print 'data shape before dummification/standardization', x_df.shape\n",
    "print 'data shape after dummification/standardization', x_df_extended.shape"
   ]
  },
  {
   "cell_type": "code",
   "execution_count": 155,
   "metadata": {
    "collapsed": false
   },
   "outputs": [
    {
     "name": "stdout",
     "output_type": "stream",
     "text": [
      "try again\n"
     ]
    }
   ],
   "source": [
    "while True:\n",
    "    x_train, x_test, y_train, y_test = train_test_split(\\\n",
    "        x_df_extended.values, y_df.values, test_size = 0.25)\n",
    "    if sum(y_train == 1) > 2 and sum(y_test == 1) > 0:\n",
    "        break\n",
    "    else:\n",
    "        print 'try again'"
   ]
  },
  {
   "cell_type": "code",
   "execution_count": 156,
   "metadata": {
    "collapsed": false
   },
   "outputs": [],
   "source": [
    "weight_list = [{1:value} for value in 10**np.arange(2, 12, 2)]\n",
    "parameters = {'class_weight':weight_list}\n",
    "gscv = GridSearchCV(LogisticRegressionCV(), parameters, scoring = 'roc_auc')\n",
    "gscv.fit(x_train, y_train)\n",
    "best_lr_model = gscv.best_estimator_"
   ]
  },
  {
   "cell_type": "code",
   "execution_count": 157,
   "metadata": {
    "collapsed": false
   },
   "outputs": [
    {
     "name": "stdout",
     "output_type": "stream",
     "text": [
      "most positive variables\n",
      "5.47401257949 1M Maternal illness while pregnantM:C1-2=2.0\n",
      "3.14038828966 0  Inhalational analgesia=3.0\n",
      "2.97976761386 0  Duration of labour-1st stage:hours=6.0\n",
      "2.8756103458 0 Interval between this birth and last=6.0\n",
      "2.74117173444 0 Abnormality during pregnancy=9.0\n",
      "2.57597723771 0  Total number of antenatal vsits=5.0\n",
      "2.561060463 0  Total number of antenatal vsits=2.0\n",
      "2.44691796668 0 Mother's age last birthday,in years\n",
      "2.42684059368 0 Mother's weight in stones,1958=4.0\n",
      "2.37042254832 Region at NCDS3 (1974) - 16 years=6.0\n",
      "2.17387208977 0 Smoking during pregnancy=2.0\n",
      "2.06673005326 Region at NCDS2 (1969) - 11 years=6.0\n",
      "1.9272961839 0 Smoking prior to pregnancy=7.0\n",
      "1.90994935109 Region at NCDS3 (1974) - 16 years=3.0\n",
      "1.90952600216 0 Birthweight-gestational age for sex=5.0\n",
      "1.86248115601 Region at NCDS1 (1965) - 7 years=3.0\n",
      "1.81502062676 Region at NCDS1 (1965) - 7 years=6.0\n",
      "1.80132973435 0  Was mum at sch. after min.leaving age=5.0\n",
      "1.65390368553 0  Week of mothers 1st antenatal visit=nan\n",
      "1.64643009687 0 Prev premature livebirths. . 5lb 9oz.=1.0\n",
      "1.62405849168 1M Maternal illness while pregnantM:C1-2=1.0\n"
     ]
    }
   ],
   "source": [
    "# get coefficient\n",
    "coef = best_lr_model.coef_.flatten()\n",
    "\n",
    "most_pos_var_index = np.argsort(coef)[-21:][::-1]\n",
    "most_neg_var_index = np.argsort(coef)[0:3]\n",
    "\n",
    "print 'most positive variables'\n",
    "for index in most_pos_var_index:\n",
    "    print coef[index], x_df_extended.columns[index]"
   ]
  },
  {
   "cell_type": "code",
   "execution_count": 158,
   "metadata": {
    "collapsed": false
   },
   "outputs": [
    {
     "name": "stdout",
     "output_type": "stream",
     "text": [
      "0.999568965517\n",
      "0.999568872602\n",
      "1.0\n"
     ]
    }
   ],
   "source": [
    "best_lr_model = gscv.best_estimator_\n",
    "\n",
    "y_predict = best_lr_model.predict(x_test)\n",
    "cm = confusion_matrix(y_test, y_predict)\n",
    "accuracy_all = best_lr_model.score(x_test, y_test)\n",
    "accuracy_epilepsy = float(cm[1,1])/float(cm[1,0]+cm[1,1])\n",
    "accuracy_healthy = float(cm[0,0])/float(cm[0,0]+cm[0,1])\n",
    "\n",
    "print accuracy_all\n",
    "print accuracy_healthy\n",
    "print accuracy_epilepsy"
   ]
  },
  {
   "cell_type": "code",
   "execution_count": 159,
   "metadata": {
    "collapsed": false
   },
   "outputs": [
    {
     "name": "stdout",
     "output_type": "stream",
     "text": [
      "[[4637    2]\n",
      " [   0    1]]\n"
     ]
    }
   ],
   "source": [
    "print cm"
   ]
  },
  {
   "cell_type": "code",
   "execution_count": 160,
   "metadata": {
    "collapsed": false
   },
   "outputs": [
    {
     "name": "stdout",
     "output_type": "stream",
     "text": [
      "{'class_weight': {1: 100000000}}\n",
      "0.978687620262\n"
     ]
    }
   ],
   "source": [
    "print gscv.best_params_\n",
    "print gscv.best_score_"
   ]
  },
  {
   "cell_type": "code",
   "execution_count": 161,
   "metadata": {
    "collapsed": true
   },
   "outputs": [],
   "source": [
    "#a function to deliver comparation\n",
    "def compare(name):\n",
    "    #ratio and count among whole population\n",
    "    print pd.to_numeric(data[name],errors='coerce').value_counts()/pd.to_numeric(data[name],errors='coerce').value_counts().sum()\n",
    "    print data[name].value_counts()\n",
    "    \n",
    "    #ratio and count among epilepsy patients\n",
    "    print epi[name].value_counts()/epi[name].value_counts().sum()\n",
    "    print epi[name].value_counts()"
   ]
  },
  {
   "cell_type": "code",
   "execution_count": 162,
   "metadata": {
    "collapsed": false,
    "scrolled": true
   },
   "outputs": [
    {
     "name": "stdout",
     "output_type": "stream",
     "text": [
      "10.0    0.568194\n",
      "1.0     0.330745\n",
      "2.0     0.082627\n",
      "3.0     0.018375\n",
      "4.0     0.000059\n",
      "Name: 0  Mums min. haemoglobin while pregnant, dtype: float64\n",
      "10.0    9586\n",
      "1.0     5580\n",
      "2.0     1394\n",
      "3.0      310\n",
      "4.0        1\n",
      "Name: 0  Mums min. haemoglobin while pregnant, dtype: int64\n"
     ]
    },
    {
     "ename": "NameError",
     "evalue": "global name 'epi' is not defined",
     "output_type": "error",
     "traceback": [
      "\u001b[0;31m---------------------------------------------------------------------------\u001b[0m",
      "\u001b[0;31mNameError\u001b[0m                                 Traceback (most recent call last)",
      "\u001b[0;32m<ipython-input-162-034c7d6eabe3>\u001b[0m in \u001b[0;36m<module>\u001b[0;34m()\u001b[0m\n\u001b[0;32m----> 1\u001b[0;31m \u001b[0mcompare\u001b[0m\u001b[0;34m(\u001b[0m\u001b[0;34m\"0  Mums min. haemoglobin while pregnant\"\u001b[0m\u001b[0;34m)\u001b[0m\u001b[0;34m\u001b[0m\u001b[0m\n\u001b[0m",
      "\u001b[0;32m<ipython-input-161-3f1b01d9244a>\u001b[0m in \u001b[0;36mcompare\u001b[0;34m(name)\u001b[0m\n\u001b[1;32m      6\u001b[0m \u001b[0;34m\u001b[0m\u001b[0m\n\u001b[1;32m      7\u001b[0m     \u001b[0;31m#ratio and count among epilepsy patients\u001b[0m\u001b[0;34m\u001b[0m\u001b[0;34m\u001b[0m\u001b[0m\n\u001b[0;32m----> 8\u001b[0;31m     \u001b[0;32mprint\u001b[0m \u001b[0mepi\u001b[0m\u001b[0;34m[\u001b[0m\u001b[0mname\u001b[0m\u001b[0;34m]\u001b[0m\u001b[0;34m.\u001b[0m\u001b[0mvalue_counts\u001b[0m\u001b[0;34m(\u001b[0m\u001b[0;34m)\u001b[0m\u001b[0;34m/\u001b[0m\u001b[0mepi\u001b[0m\u001b[0;34m[\u001b[0m\u001b[0mname\u001b[0m\u001b[0;34m]\u001b[0m\u001b[0;34m.\u001b[0m\u001b[0mvalue_counts\u001b[0m\u001b[0;34m(\u001b[0m\u001b[0;34m)\u001b[0m\u001b[0;34m.\u001b[0m\u001b[0msum\u001b[0m\u001b[0;34m(\u001b[0m\u001b[0;34m)\u001b[0m\u001b[0;34m\u001b[0m\u001b[0m\n\u001b[0m\u001b[1;32m      9\u001b[0m     \u001b[0;32mprint\u001b[0m \u001b[0mepi\u001b[0m\u001b[0;34m[\u001b[0m\u001b[0mname\u001b[0m\u001b[0;34m]\u001b[0m\u001b[0;34m.\u001b[0m\u001b[0mvalue_counts\u001b[0m\u001b[0;34m(\u001b[0m\u001b[0;34m)\u001b[0m\u001b[0;34m\u001b[0m\u001b[0m\n",
      "\u001b[0;31mNameError\u001b[0m: global name 'epi' is not defined"
     ]
    }
   ],
   "source": [
    "compare(\"0  Mums min. haemoglobin while pregnant\")"
   ]
  }
 ],
 "metadata": {
  "anaconda-cloud": {},
  "kernelspec": {
   "display_name": "Python [conda root]",
   "language": "python",
   "name": "conda-root-py"
  },
  "language_info": {
   "codemirror_mode": {
    "name": "ipython",
    "version": 2
   },
   "file_extension": ".py",
   "mimetype": "text/x-python",
   "name": "python",
   "nbconvert_exporter": "python",
   "pygments_lexer": "ipython2",
   "version": "2.7.12"
  }
 },
 "nbformat": 4,
 "nbformat_minor": 1
}
