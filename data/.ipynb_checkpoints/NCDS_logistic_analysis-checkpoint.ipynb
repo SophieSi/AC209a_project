{
 "cells": [
  {
   "cell_type": "code",
   "execution_count": 78,
   "metadata": {
    "collapsed": true
   },
   "outputs": [],
   "source": [
    "import numpy as np\n",
    "import pandas as pd\n",
    "import matplotlib.pyplot as plt\n",
    "%matplotlib inline\n",
    "from sklearn import linear_model\n",
    "from sklearn import preprocessing\n",
    "from sklearn import model_selection\n",
    "from sklearn import metrics\n",
    "from sklearn.model_selection import KFold"
   ]
  },
  {
   "cell_type": "code",
   "execution_count": 25,
   "metadata": {
    "collapsed": true
   },
   "outputs": [],
   "source": [
    "# load data\n",
    "data = pd.read_csv('./born_data.csv')\n",
    "\n",
    "# separate x and y\n",
    "y_df = data.iloc[:, -1].copy()\n",
    "y_df[y_df <> 5] = 0\n",
    "y_df[y_df == 5] = 1\n",
    "x_df = data.iloc[:, 0:-1].copy()"
   ]
  },
  {
   "cell_type": "code",
   "execution_count": 26,
   "metadata": {
    "collapsed": false
   },
   "outputs": [
    {
     "name": "stdout",
     "output_type": "stream",
     "text": [
      "data shape before dummification/standardization (18558, 64)\n",
      "data shape after dummification/standardization (18558, 537)\n"
     ]
    }
   ],
   "source": [
    "# if more than 15 unique values, then treated as numerical\n",
    "master_list = []\n",
    "\n",
    "for col in x_df.columns:\n",
    "    # get unique count\n",
    "    unique_count = len(x_df[col].unique())\n",
    "    \n",
    "    # numerical variable\n",
    "    if unique_count > 15:\n",
    "        # get a copy for processing\n",
    "        curr_df = pd.DataFrame(x_df[col])\n",
    "        # handle NaN\n",
    "        curr_df[curr_df.isnull()] = -1\n",
    "        # standardize\n",
    "        curr_df = pd.DataFrame(preprocessing.scale(curr_df.values))\n",
    "        # reset index\n",
    "        curr_df.index = x_df.index\n",
    "        # change column label\n",
    "        curr_df.columns = [col]\n",
    "        # append to master list\n",
    "        master_list.append(curr_df)\n",
    "    # categorical variable\n",
    "    else:\n",
    "        # get a copy\n",
    "        curr_df = x_df[col].copy()\n",
    "        # get dummy\n",
    "        # if contains NaN\n",
    "        if curr_df.isnull().values.any():\n",
    "            dummy = pd.get_dummies(curr_df, dummy_na = True)\n",
    "        # if no NaN\n",
    "        else:\n",
    "            dummy = pd.get_dummies(curr_df, dummy_na = False)\n",
    "        # reset columns\n",
    "        dummy.columns = [str(col)+'='+str(value) for value in dummy.columns]\n",
    "        # reset index\n",
    "        dummy.index = x_df.index\n",
    "        # append to master list\n",
    "        master_list.append(dummy)\n",
    "        \n",
    "# concatenate master list\n",
    "x_df_extended = pd.concat(master_list, axis = 1)\n",
    "\n",
    "print 'data shape before dummification/standardization', x_df.shape\n",
    "print 'data shape after dummification/standardization', x_df_extended.shape"
   ]
  },
  {
   "cell_type": "code",
   "execution_count": 94,
   "metadata": {
    "collapsed": true
   },
   "outputs": [],
   "source": [
    "# cross validataion\n",
    "kf = KFold(n_splits = 5)\n",
    "accuracy_df = pd.DataFrame(columns = ['accuracy_all', 'accuracy_healthy', 'accuracy_epilepsy'])\n",
    "weight_power = np.arange(2, 12, 1)\n",
    "weight_list = 10**weight_power\n",
    "\n",
    "for weight in weight_list:\n",
    "    accuracy_df.loc[weight] = [0, 0, 0]\n",
    "    for train_index, test_index in kf.split(x_df_extended.values):\n",
    "        x_train = x_df_extended.values[train_index, :]\n",
    "        x_test = x_df_extended.values[test_index, :]\n",
    "        y_train = y_df.values[train_index]\n",
    "        y_test = y_df.values[test_index]\n",
    "    \n",
    "        # build model\n",
    "        lr_model = linear_model.LogisticRegressionCV(class_weight = {1:weight},scoring=\"roc_auc\")\n",
    "\n",
    "        # train model\n",
    "        lr_model.fit(x_train, y_train)\n",
    "\n",
    "        # predict\n",
    "        y_test_predict = lr_model.predict(x_test)\n",
    "        \n",
    "        #y_test_predict_proba = lr_model.predict_proba(x_test)[:, 0]\n",
    "        #threshold = 0.5\n",
    "        #mask_0 = y_test_predict_proba > threshold\n",
    "        #y_test_predict = np.ones(y_test_predict_proba.shape)\n",
    "        #y_test_predict[mask_0] = 0\n",
    "    \n",
    "        # confusion matrix\n",
    "        cm = metrics.confusion_matrix(y_test, y_test_predict)\n",
    "        cm_df = pd.DataFrame(cm, columns = ['predict 0', 'predict 1'], index = ['true 0', 'true 1'])\n",
    "\n",
    "        # score\n",
    "        accuracy_all = float(sum(y_test_predict == y_test))/float(len(y_test))\n",
    "        accuracy_healthy = float(cm[0,0])/float(cm[0,0]+cm[0,1])\n",
    "        accuracy_epilepsy = float(cm[1,1])/float(cm[1,0]+cm[1,1])\n",
    "    \n",
    "        # append to dataframe\n",
    "        accuracy_df.loc[weight] += [accuracy_all, accuracy_healthy, accuracy_epilepsy]\n",
    "        \n",
    "accuracy_df /= 5"
   ]
  },
  {
   "cell_type": "code",
   "execution_count": 95,
   "metadata": {
    "collapsed": false
   },
   "outputs": [
    {
     "name": "stdout",
     "output_type": "stream",
     "text": [
      "              accuracy_all  accuracy_healthy  accuracy_epilepsy\n",
      "100               0.965944          0.968863           0.048951\n",
      "1000              0.906241          0.908636           0.148096\n",
      "10000             0.858068          0.860088           0.216472\n",
      "100000            0.848642          0.850637           0.216472\n",
      "1000000           0.824827          0.826742           0.216472\n",
      "10000000          0.775302          0.776670           0.324165\n",
      "100000000         0.853003          0.855080           0.201088\n",
      "1000000000        0.843735          0.845729           0.219270\n",
      "10000000000       0.834467          0.836377           0.241492\n",
      "100000000000      0.826708          0.828593           0.241492\n"
     ]
    }
   ],
   "source": [
    "# output\n",
    "print accuracy_df"
   ]
  },
  {
   "cell_type": "code",
   "execution_count": 96,
   "metadata": {
    "collapsed": false
   },
   "outputs": [
    {
     "name": "stdout",
     "output_type": "stream",
     "text": [
      "most positive variables\n",
      "['0  Past complications of pregnancy, etc=2.0'\n",
      " '0 Smoking prior to pregnancy=1.0'\n",
      " '0  SEG maternal GPa as mum left school (GRO 1951)=5.0'\n",
      " '0 Birthweight-gestational age for sex=2.0'\n",
      " 'Region at NCDS1 (1965) - 7 years=3.0' '0  Foetal distress=1.0'\n",
      " 'Region at PMS (1958) - Birth=8.0'\n",
      " '0 Week in which mother stopped work=7.0'\n",
      " 'Region at NCDS1 (1965) - 7 years=6.0'\n",
      " '0  Delivery-Supervision Groups=5.0' 'Region at PMS (1958) - Birth=4.0'\n",
      " '0  Mum-No. cooked for when 1st pregnant=9.0'\n",
      " '0  Whether labour induced=10.0'\n",
      " \"0 Socio-economic group mother's husband (GRO 1951)=11.0\"\n",
      " '0  Duration membranes ruptured-hours=7.0' '0  Whether labour induced=4.0'\n",
      " '0  SEG maternal GPa as mum left school (GRO 1951)=1.0'\n",
      " '0  Duration of labour-1st stage:hours=2.0'\n",
      " '0 Abnormality during pregnancy=8.0' '0  Inhalational analgesia=9.0']\n",
      "most negative variables\n",
      "['Region at NCDS1 (1965) - 7 years=nan' 'Region at PMS (1958) - Birth=3.0'\n",
      " '0  Duration membranes ruptured-hours=3.0']\n"
     ]
    }
   ],
   "source": [
    "# get coefficient\n",
    "lr_model = linear_model.LogisticRegressionCV(class_weight = {1:10000000},scoring=\"roc_auc\")\n",
    "lr_model.fit(x_train, y_train)\n",
    "coef = lr_model.coef_.flatten()\n",
    "\n",
    "most_pos_var_index = np.argsort(coef)[-21:][:-1]\n",
    "most_neg_var_index = np.argsort(coef)[0:3]\n",
    "\n",
    "most_pos_var = x_df_extended.columns[most_pos_var_index]\n",
    "most_neg_var = x_df_extended.columns[most_neg_var_index]\n",
    "\n",
    "print 'most positive variables'\n",
    "print most_pos_var.values\n",
    "print 'most negative variables'\n",
    "print most_neg_var.values"
   ]
  },
  {
   "cell_type": "code",
   "execution_count": 76,
   "metadata": {
    "collapsed": true
   },
   "outputs": [],
   "source": [
    "#a function to deliver comparation\n",
    "def compare(name):\n",
    "    #ratio and count among whole population\n",
    "    print pd.to_numeric(data[name],errors='coerce').value_counts()/pd.to_numeric(data[name],errors='coerce').value_counts().sum()\n",
    "    print data[name].value_counts()\n",
    "    \n",
    "    #ratio and count among epilepsy patients\n",
    "    print epi[name].value_counts()/epi[name].value_counts().sum()\n",
    "    print epi[name].value_counts()"
   ]
  },
  {
   "cell_type": "code",
   "execution_count": 77,
   "metadata": {
    "collapsed": false,
    "scrolled": true
   },
   "outputs": [
    {
     "name": "stdout",
     "output_type": "stream",
     "text": [
      "10.0    0.568194\n",
      "1.0     0.330745\n",
      "2.0     0.082627\n",
      "3.0     0.018375\n",
      "4.0     0.000059\n",
      "Name: 0  Mums min. haemoglobin while pregnant, dtype: float64\n",
      "10.0    9586\n",
      "1.0     5580\n",
      "2.0     1394\n",
      "3.0      310\n",
      "4.0        1\n",
      "Name: 0  Mums min. haemoglobin while pregnant, dtype: int64\n",
      "10.0    0.584906\n",
      "1.0     0.358491\n",
      "2.0     0.056604\n",
      "Name: 0  Mums min. haemoglobin while pregnant, dtype: float64\n",
      "10.0    31\n",
      "1.0     19\n",
      "2.0      3\n",
      "Name: 0  Mums min. haemoglobin while pregnant, dtype: int64\n"
     ]
    }
   ],
   "source": [
    "compare(\"0  Mums min. haemoglobin while pregnant\")"
   ]
  }
 ],
 "metadata": {
  "anaconda-cloud": {},
  "kernelspec": {
   "display_name": "Python [conda root]",
   "language": "python",
   "name": "conda-root-py"
  },
  "language_info": {
   "codemirror_mode": {
    "name": "ipython",
    "version": 2
   },
   "file_extension": ".py",
   "mimetype": "text/x-python",
   "name": "python",
   "nbconvert_exporter": "python",
   "pygments_lexer": "ipython2",
   "version": "2.7.12"
  }
 },
 "nbformat": 4,
 "nbformat_minor": 1
}
