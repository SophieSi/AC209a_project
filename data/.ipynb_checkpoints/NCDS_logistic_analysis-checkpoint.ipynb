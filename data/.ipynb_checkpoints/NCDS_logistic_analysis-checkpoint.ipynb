{
 "cells": [
  {
   "cell_type": "code",
   "execution_count": 27,
   "metadata": {
    "collapsed": true
   },
   "outputs": [],
   "source": [
    "import numpy as np\n",
    "import pandas as pd\n",
    "import matplotlib.pyplot as plt\n",
    "%matplotlib inline\n",
    "from sklearn import linear_model\n",
    "from sklearn import preprocessing\n",
    "from sklearn import model_selection\n",
    "from sklearn import metrics"
   ]
  },
  {
   "cell_type": "code",
   "execution_count": 28,
   "metadata": {
    "collapsed": false
   },
   "outputs": [],
   "source": [
    "# load data\n",
    "data = pd.read_csv('./clean_data.csv')\n",
    "\n",
    "# separate x and y\n",
    "y_label = 'CMI:75 F3a) Epilepsy: Ever suffered'\n",
    "y_df = data[y_label].copy()\n",
    "x_df = data.drop(y_label, axis = 1)"
   ]
  },
  {
   "cell_type": "code",
   "execution_count": 29,
   "metadata": {
    "collapsed": false
   },
   "outputs": [
    {
     "name": "stdout",
     "output_type": "stream",
     "text": [
      "data shape before dummification/standardization (11326, 1474)\n",
      "data shape after dummification/standardization (11326, 7651)\n"
     ]
    }
   ],
   "source": [
    "# if more than 15 unique values, then treated as numerical\n",
    "master_list = []\n",
    "\n",
    "for col in x_df.columns:\n",
    "    # get unique count\n",
    "    unique_count = len(x_df[col].unique())\n",
    "    \n",
    "    # numerical variable\n",
    "    if unique_count > 15:\n",
    "        # get a copy for processing\n",
    "        curr_df = x_df[col].copy()\n",
    "        # handle NaN\n",
    "        curr_df[curr_df.isnull()] = -1\n",
    "        # standardize\n",
    "        curr_df = pd.DataFrame(preprocessing.scale(curr_df.values))\n",
    "        # reset index\n",
    "        curr_df.index = x_df.index\n",
    "        # append to master list\n",
    "        master_list.append(curr_df)\n",
    "    # categorical variable\n",
    "    else:\n",
    "        # get a copy\n",
    "        curr_df = x_df[col].copy()\n",
    "        # get dummy\n",
    "        # if contains NaN\n",
    "        if curr_df.isnull().values.any():\n",
    "            dummy = pd.get_dummies(curr_df, dummy_na = True)\n",
    "        # if no NaN\n",
    "        else:\n",
    "            dummy = pd.get_dummies(curr_df, dummy_na = False)\n",
    "        # reset columns\n",
    "        dummy.columns = [str(col)+'='+str(value) for value in dummy.columns]\n",
    "        # reset index\n",
    "        dummy.index = x_df.index\n",
    "        # append to master list\n",
    "        master_list.append(dummy)\n",
    "        \n",
    "# concatenate master list\n",
    "x_df_extended = pd.concat(master_list, axis = 1)\n",
    "\n",
    "print 'data shape before dummification/standardization', x_df.shape\n",
    "print 'data shape after dummification/standardization', x_df_extended.shape\n",
    "\n",
    "# for y_df\n",
    "# 1: have epilepsy\n",
    "# 2: have epilepsy only when pregnant\n",
    "# 3: not have epilepsy\n",
    "\n",
    "mask_0 = y_df == 3\n",
    "y_df_masked = y_df.copy()\n",
    "y_df_masked[mask_0] = 0\n",
    "y_df_masked[~mask_0] = 1"
   ]
  },
  {
   "cell_type": "code",
   "execution_count": 41,
   "metadata": {
    "collapsed": false
   },
   "outputs": [
    {
     "name": "stdout",
     "output_type": "stream",
     "text": [
      "accuracy overall: 0.996\n",
      "accuracy on healthy patients: 0.997\n",
      "accuracy on epilepsy patients: 0.938\n"
     ]
    },
    {
     "data": {
      "text/html": [
       "<div>\n",
       "<table border=\"1\" class=\"dataframe\">\n",
       "  <thead>\n",
       "    <tr style=\"text-align: right;\">\n",
       "      <th></th>\n",
       "      <th>predict 0</th>\n",
       "      <th>predict 1</th>\n",
       "    </tr>\n",
       "  </thead>\n",
       "  <tbody>\n",
       "    <tr>\n",
       "      <th>true 0</th>\n",
       "      <td>2792</td>\n",
       "      <td>8</td>\n",
       "    </tr>\n",
       "    <tr>\n",
       "      <th>true 1</th>\n",
       "      <td>2</td>\n",
       "      <td>30</td>\n",
       "    </tr>\n",
       "  </tbody>\n",
       "</table>\n",
       "</div>"
      ],
      "text/plain": [
       "        predict 0  predict 1\n",
       "true 0       2792          8\n",
       "true 1          2         30"
      ]
     },
     "execution_count": 41,
     "metadata": {},
     "output_type": "execute_result"
    }
   ],
   "source": [
    "# train test split\n",
    "x_train, x_test, y_train, y_test = model_selection.train_test_split(\\\n",
    "    x_df_extended.values, y_df_masked.values)\n",
    "\n",
    "# build model\n",
    "lr_model = linear_model.LogisticRegressionCV()\n",
    "\n",
    "# train model\n",
    "lr_model.fit(x_train, y_train)\n",
    "\n",
    "# predict\n",
    "y_test_predict_proba = lr_model.predict_proba(x_test)[:, 0]\n",
    "threshold = 0.999\n",
    "mask_0 = y_test_predict_proba > threshold\n",
    "y_test_predict = np.ones(y_test_predict_proba.shape)\n",
    "y_test_predict[mask_0] = 0\n",
    "\n",
    "# confusion matrix\n",
    "cm = metrics.confusion_matrix(y_test, y_test_predict)\n",
    "cm_df = pd.DataFrame(cm, columns = ['predict 0', 'predict 1'], index = ['true 0', 'true 1'])\n",
    "\n",
    "# score\n",
    "accuracy_all = float(sum(y_test_predict == y_test))/float(len(y_test))\n",
    "accuracy_healthy = float(cm[0,0])/float(cm[0,0]+cm[0,1])\n",
    "accuracy_epilepsy = float(cm[1,1])/float(cm[1,0]+cm[1,1])\n",
    "\n",
    "# output\n",
    "print 'accuracy overall: %.3f' % accuracy_all\n",
    "print 'accuracy on healthy patients: %.3f' % accuracy_healthy\n",
    "print 'accuracy on epilepsy patients: %.3f' % accuracy_epilepsy\n",
    "cm_df"
   ]
  },
  {
   "cell_type": "code",
   "execution_count": 40,
   "metadata": {
    "collapsed": false
   },
   "outputs": [
    {
     "name": "stdout",
     "output_type": "stream",
     "text": [
      "most positive variables\n",
      "['CMI:75 F3a) Hernia: Ever suffered=2.0'\n",
      " 'CMI:75 F3c) Epilepsy: Seen doctor in last 12 months=1.0'\n",
      " 'CMI:75 F3b) Epilepsy: Suffered in last12 months=1.0']\n",
      "most negative variables\n",
      "['CMI:75 F3b) Epilepsy: Suffered in last12 months=nan'\n",
      " 'CMI:75 F3c) Epilepsy: Seen doctor in last 12 months=nan'\n",
      " 'CMI:75 F3a) Heart trouble: Ever suffered=3.0']\n"
     ]
    }
   ],
   "source": [
    "# get coefficient\n",
    "coef = lr_model.coef_.flatten()\n",
    "\n",
    "most_pos_var_index = np.argsort(coef)[-4:][:-1]\n",
    "most_neg_var_index = np.argsort(coef)[0:3]\n",
    "\n",
    "most_pos_var = x_df_extended.columns[most_pos_var_index]\n",
    "most_neg_var = x_df_extended.columns[most_neg_var_index]\n",
    "\n",
    "print 'most positive variables'\n",
    "print most_pos_var.values\n",
    "print 'most negative variables'\n",
    "print most_neg_var.values"
   ]
  },
  {
   "cell_type": "code",
   "execution_count": null,
   "metadata": {
    "collapsed": true
   },
   "outputs": [],
   "source": []
  }
 ],
 "metadata": {
  "anaconda-cloud": {},
  "kernelspec": {
   "display_name": "Python [conda root]",
   "language": "python",
   "name": "conda-root-py"
  },
  "language_info": {
   "codemirror_mode": {
    "name": "ipython",
    "version": 2
   },
   "file_extension": ".py",
   "mimetype": "text/x-python",
   "name": "python",
   "nbconvert_exporter": "python",
   "pygments_lexer": "ipython2",
   "version": "2.7.12"
  }
 },
 "nbformat": 4,
 "nbformat_minor": 1
}
