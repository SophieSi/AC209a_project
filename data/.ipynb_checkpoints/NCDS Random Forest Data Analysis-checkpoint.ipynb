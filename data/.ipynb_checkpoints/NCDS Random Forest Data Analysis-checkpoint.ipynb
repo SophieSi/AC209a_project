{
 "cells": [
  {
   "cell_type": "code",
   "execution_count": 258,
   "metadata": {
    "collapsed": true
   },
   "outputs": [],
   "source": [
    "import pandas as pd\n",
    "import numpy as np\n",
    "import re\n",
    "from sklearn.tree import DecisionTreeClassifier\n",
    "from sklearn.ensemble import RandomForestClassifier\n",
    "from sklearn.cross_validation import train_test_split, KFold\n",
    "import matplotlib\n",
    "import matplotlib.pyplot as plt\n",
    "%matplotlib inline"
   ]
  },
  {
   "cell_type": "markdown",
   "metadata": {},
   "source": [
    "# Load Data"
   ]
  },
  {
   "cell_type": "code",
   "execution_count": 2,
   "metadata": {
    "collapsed": false,
    "scrolled": false
   },
   "outputs": [
    {
     "name": "stdout",
     "output_type": "stream",
     "text": [
      "(11326, 1450)\n"
     ]
    },
    {
     "data": {
      "text/html": [
       "<div>\n",
       "<table border=\"1\" class=\"dataframe\">\n",
       "  <thead>\n",
       "    <tr style=\"text-align: right;\">\n",
       "      <th></th>\n",
       "      <th>CMI:75 F3a) Epilepsy: Ever suffered</th>\n",
       "      <th>1P Child 8 years-old at NCDS1 Parental</th>\n",
       "      <th>1P Family moves since child's birth</th>\n",
       "      <th>1P Moves out of local area</th>\n",
       "      <th>1P Informant's relationship to child</th>\n",
       "      <th>1P No. kids undr 21 hhld,inc liv away</th>\n",
       "      <th>1P Number of people in the household</th>\n",
       "      <th>1P Child's posn hhld ,inc those away</th>\n",
       "      <th>1P Relationship person acting as mother</th>\n",
       "      <th>1P Relationship person acting as father</th>\n",
       "      <th>...</th>\n",
       "      <th>CMI:94 F74d) ROAD TRAFFIC ACCIDENT 4: Offence #5</th>\n",
       "      <th>CMI:94 F74d) ROAD TRAFFIC ACCIDENT 4: Offence #6</th>\n",
       "      <th>CMI:95 F75a) CHECK: F64 - Has driving licence</th>\n",
       "      <th>CMI:95 F75b) Ever been convicted of traffic offence (excl F73-74)</th>\n",
       "      <th>CMI:95 F75c) Additional traffic offence conviction #1</th>\n",
       "      <th>CMI:95 F75c) Additional traffic offence conviction #2</th>\n",
       "      <th>CMI:95 F75c) Additional traffic offence conviction #3</th>\n",
       "      <th>CMI:95 F75c) Additional traffic offence conviction #4</th>\n",
       "      <th>CMI:95 F75c) Additional traffic offence conviction #5</th>\n",
       "      <th>CMI:95 F75c) Additional traffic offence conviction #6</th>\n",
       "    </tr>\n",
       "  </thead>\n",
       "  <tbody>\n",
       "    <tr>\n",
       "      <th>0</th>\n",
       "      <td>3.0</td>\n",
       "      <td>NaN</td>\n",
       "      <td>1.0</td>\n",
       "      <td>3.0</td>\n",
       "      <td>1.0</td>\n",
       "      <td>3.0</td>\n",
       "      <td>5.0</td>\n",
       "      <td>1.0</td>\n",
       "      <td>2.0</td>\n",
       "      <td>2.0</td>\n",
       "      <td>...</td>\n",
       "      <td>NaN</td>\n",
       "      <td>NaN</td>\n",
       "      <td>1.0</td>\n",
       "      <td>2.0</td>\n",
       "      <td>NaN</td>\n",
       "      <td>NaN</td>\n",
       "      <td>NaN</td>\n",
       "      <td>NaN</td>\n",
       "      <td>NaN</td>\n",
       "      <td>NaN</td>\n",
       "    </tr>\n",
       "    <tr>\n",
       "      <th>1</th>\n",
       "      <td>3.0</td>\n",
       "      <td>NaN</td>\n",
       "      <td>3.0</td>\n",
       "      <td>2.0</td>\n",
       "      <td>1.0</td>\n",
       "      <td>2.0</td>\n",
       "      <td>4.0</td>\n",
       "      <td>2.0</td>\n",
       "      <td>2.0</td>\n",
       "      <td>2.0</td>\n",
       "      <td>...</td>\n",
       "      <td>NaN</td>\n",
       "      <td>NaN</td>\n",
       "      <td>1.0</td>\n",
       "      <td>2.0</td>\n",
       "      <td>NaN</td>\n",
       "      <td>NaN</td>\n",
       "      <td>NaN</td>\n",
       "      <td>NaN</td>\n",
       "      <td>NaN</td>\n",
       "      <td>NaN</td>\n",
       "    </tr>\n",
       "    <tr>\n",
       "      <th>2</th>\n",
       "      <td>3.0</td>\n",
       "      <td>NaN</td>\n",
       "      <td>3.0</td>\n",
       "      <td>3.0</td>\n",
       "      <td>1.0</td>\n",
       "      <td>2.0</td>\n",
       "      <td>4.0</td>\n",
       "      <td>2.0</td>\n",
       "      <td>2.0</td>\n",
       "      <td>2.0</td>\n",
       "      <td>...</td>\n",
       "      <td>NaN</td>\n",
       "      <td>NaN</td>\n",
       "      <td>1.0</td>\n",
       "      <td>2.0</td>\n",
       "      <td>NaN</td>\n",
       "      <td>NaN</td>\n",
       "      <td>NaN</td>\n",
       "      <td>NaN</td>\n",
       "      <td>NaN</td>\n",
       "      <td>NaN</td>\n",
       "    </tr>\n",
       "    <tr>\n",
       "      <th>3</th>\n",
       "      <td>3.0</td>\n",
       "      <td>NaN</td>\n",
       "      <td>NaN</td>\n",
       "      <td>NaN</td>\n",
       "      <td>NaN</td>\n",
       "      <td>NaN</td>\n",
       "      <td>NaN</td>\n",
       "      <td>NaN</td>\n",
       "      <td>NaN</td>\n",
       "      <td>NaN</td>\n",
       "      <td>...</td>\n",
       "      <td>NaN</td>\n",
       "      <td>NaN</td>\n",
       "      <td>1.0</td>\n",
       "      <td>2.0</td>\n",
       "      <td>NaN</td>\n",
       "      <td>NaN</td>\n",
       "      <td>NaN</td>\n",
       "      <td>NaN</td>\n",
       "      <td>NaN</td>\n",
       "      <td>NaN</td>\n",
       "    </tr>\n",
       "    <tr>\n",
       "      <th>4</th>\n",
       "      <td>3.0</td>\n",
       "      <td>NaN</td>\n",
       "      <td>12.0</td>\n",
       "      <td>2.0</td>\n",
       "      <td>2.0</td>\n",
       "      <td>2.0</td>\n",
       "      <td>4.0</td>\n",
       "      <td>1.0</td>\n",
       "      <td>2.0</td>\n",
       "      <td>2.0</td>\n",
       "      <td>...</td>\n",
       "      <td>NaN</td>\n",
       "      <td>NaN</td>\n",
       "      <td>1.0</td>\n",
       "      <td>2.0</td>\n",
       "      <td>NaN</td>\n",
       "      <td>NaN</td>\n",
       "      <td>NaN</td>\n",
       "      <td>NaN</td>\n",
       "      <td>NaN</td>\n",
       "      <td>NaN</td>\n",
       "    </tr>\n",
       "    <tr>\n",
       "      <th>5</th>\n",
       "      <td>3.0</td>\n",
       "      <td>1.0</td>\n",
       "      <td>0.0</td>\n",
       "      <td>1.0</td>\n",
       "      <td>1.0</td>\n",
       "      <td>8.0</td>\n",
       "      <td>NaN</td>\n",
       "      <td>6.0</td>\n",
       "      <td>2.0</td>\n",
       "      <td>2.0</td>\n",
       "      <td>...</td>\n",
       "      <td>NaN</td>\n",
       "      <td>NaN</td>\n",
       "      <td>1.0</td>\n",
       "      <td>2.0</td>\n",
       "      <td>NaN</td>\n",
       "      <td>NaN</td>\n",
       "      <td>NaN</td>\n",
       "      <td>NaN</td>\n",
       "      <td>NaN</td>\n",
       "      <td>NaN</td>\n",
       "    </tr>\n",
       "    <tr>\n",
       "      <th>6</th>\n",
       "      <td>3.0</td>\n",
       "      <td>NaN</td>\n",
       "      <td>0.0</td>\n",
       "      <td>1.0</td>\n",
       "      <td>1.0</td>\n",
       "      <td>4.0</td>\n",
       "      <td>6.0</td>\n",
       "      <td>3.0</td>\n",
       "      <td>2.0</td>\n",
       "      <td>2.0</td>\n",
       "      <td>...</td>\n",
       "      <td>NaN</td>\n",
       "      <td>NaN</td>\n",
       "      <td>1.0</td>\n",
       "      <td>2.0</td>\n",
       "      <td>NaN</td>\n",
       "      <td>NaN</td>\n",
       "      <td>NaN</td>\n",
       "      <td>NaN</td>\n",
       "      <td>NaN</td>\n",
       "      <td>NaN</td>\n",
       "    </tr>\n",
       "    <tr>\n",
       "      <th>7</th>\n",
       "      <td>3.0</td>\n",
       "      <td>NaN</td>\n",
       "      <td>0.0</td>\n",
       "      <td>1.0</td>\n",
       "      <td>1.0</td>\n",
       "      <td>6.0</td>\n",
       "      <td>8.0</td>\n",
       "      <td>4.0</td>\n",
       "      <td>2.0</td>\n",
       "      <td>2.0</td>\n",
       "      <td>...</td>\n",
       "      <td>NaN</td>\n",
       "      <td>NaN</td>\n",
       "      <td>1.0</td>\n",
       "      <td>2.0</td>\n",
       "      <td>NaN</td>\n",
       "      <td>NaN</td>\n",
       "      <td>NaN</td>\n",
       "      <td>NaN</td>\n",
       "      <td>NaN</td>\n",
       "      <td>NaN</td>\n",
       "    </tr>\n",
       "    <tr>\n",
       "      <th>8</th>\n",
       "      <td>3.0</td>\n",
       "      <td>NaN</td>\n",
       "      <td>2.0</td>\n",
       "      <td>2.0</td>\n",
       "      <td>1.0</td>\n",
       "      <td>2.0</td>\n",
       "      <td>4.0</td>\n",
       "      <td>1.0</td>\n",
       "      <td>2.0</td>\n",
       "      <td>2.0</td>\n",
       "      <td>...</td>\n",
       "      <td>NaN</td>\n",
       "      <td>NaN</td>\n",
       "      <td>1.0</td>\n",
       "      <td>2.0</td>\n",
       "      <td>NaN</td>\n",
       "      <td>NaN</td>\n",
       "      <td>NaN</td>\n",
       "      <td>NaN</td>\n",
       "      <td>NaN</td>\n",
       "      <td>NaN</td>\n",
       "    </tr>\n",
       "    <tr>\n",
       "      <th>9</th>\n",
       "      <td>3.0</td>\n",
       "      <td>NaN</td>\n",
       "      <td>1.0</td>\n",
       "      <td>3.0</td>\n",
       "      <td>1.0</td>\n",
       "      <td>4.0</td>\n",
       "      <td>6.0</td>\n",
       "      <td>1.0</td>\n",
       "      <td>2.0</td>\n",
       "      <td>2.0</td>\n",
       "      <td>...</td>\n",
       "      <td>NaN</td>\n",
       "      <td>NaN</td>\n",
       "      <td>1.0</td>\n",
       "      <td>2.0</td>\n",
       "      <td>NaN</td>\n",
       "      <td>NaN</td>\n",
       "      <td>NaN</td>\n",
       "      <td>NaN</td>\n",
       "      <td>NaN</td>\n",
       "      <td>NaN</td>\n",
       "    </tr>\n",
       "  </tbody>\n",
       "</table>\n",
       "<p>10 rows × 1450 columns</p>\n",
       "</div>"
      ],
      "text/plain": [
       "   CMI:75 F3a) Epilepsy: Ever suffered  \\\n",
       "0                                  3.0   \n",
       "1                                  3.0   \n",
       "2                                  3.0   \n",
       "3                                  3.0   \n",
       "4                                  3.0   \n",
       "5                                  3.0   \n",
       "6                                  3.0   \n",
       "7                                  3.0   \n",
       "8                                  3.0   \n",
       "9                                  3.0   \n",
       "\n",
       "   1P Child 8 years-old at NCDS1 Parental  \\\n",
       "0                                     NaN   \n",
       "1                                     NaN   \n",
       "2                                     NaN   \n",
       "3                                     NaN   \n",
       "4                                     NaN   \n",
       "5                                     1.0   \n",
       "6                                     NaN   \n",
       "7                                     NaN   \n",
       "8                                     NaN   \n",
       "9                                     NaN   \n",
       "\n",
       "   1P Family moves since child's birth  1P Moves out of local area  \\\n",
       "0                                  1.0                         3.0   \n",
       "1                                  3.0                         2.0   \n",
       "2                                  3.0                         3.0   \n",
       "3                                  NaN                         NaN   \n",
       "4                                 12.0                         2.0   \n",
       "5                                  0.0                         1.0   \n",
       "6                                  0.0                         1.0   \n",
       "7                                  0.0                         1.0   \n",
       "8                                  2.0                         2.0   \n",
       "9                                  1.0                         3.0   \n",
       "\n",
       "   1P Informant's relationship to child  \\\n",
       "0                                   1.0   \n",
       "1                                   1.0   \n",
       "2                                   1.0   \n",
       "3                                   NaN   \n",
       "4                                   2.0   \n",
       "5                                   1.0   \n",
       "6                                   1.0   \n",
       "7                                   1.0   \n",
       "8                                   1.0   \n",
       "9                                   1.0   \n",
       "\n",
       "   1P No. kids undr 21 hhld,inc liv away  \\\n",
       "0                                    3.0   \n",
       "1                                    2.0   \n",
       "2                                    2.0   \n",
       "3                                    NaN   \n",
       "4                                    2.0   \n",
       "5                                    8.0   \n",
       "6                                    4.0   \n",
       "7                                    6.0   \n",
       "8                                    2.0   \n",
       "9                                    4.0   \n",
       "\n",
       "   1P Number of people in the household  1P Child's posn hhld ,inc those away  \\\n",
       "0                                   5.0                                   1.0   \n",
       "1                                   4.0                                   2.0   \n",
       "2                                   4.0                                   2.0   \n",
       "3                                   NaN                                   NaN   \n",
       "4                                   4.0                                   1.0   \n",
       "5                                   NaN                                   6.0   \n",
       "6                                   6.0                                   3.0   \n",
       "7                                   8.0                                   4.0   \n",
       "8                                   4.0                                   1.0   \n",
       "9                                   6.0                                   1.0   \n",
       "\n",
       "   1P Relationship person acting as mother  \\\n",
       "0                                      2.0   \n",
       "1                                      2.0   \n",
       "2                                      2.0   \n",
       "3                                      NaN   \n",
       "4                                      2.0   \n",
       "5                                      2.0   \n",
       "6                                      2.0   \n",
       "7                                      2.0   \n",
       "8                                      2.0   \n",
       "9                                      2.0   \n",
       "\n",
       "   1P Relationship person acting as father  \\\n",
       "0                                      2.0   \n",
       "1                                      2.0   \n",
       "2                                      2.0   \n",
       "3                                      NaN   \n",
       "4                                      2.0   \n",
       "5                                      2.0   \n",
       "6                                      2.0   \n",
       "7                                      2.0   \n",
       "8                                      2.0   \n",
       "9                                      2.0   \n",
       "\n",
       "                           ...                            \\\n",
       "0                          ...                             \n",
       "1                          ...                             \n",
       "2                          ...                             \n",
       "3                          ...                             \n",
       "4                          ...                             \n",
       "5                          ...                             \n",
       "6                          ...                             \n",
       "7                          ...                             \n",
       "8                          ...                             \n",
       "9                          ...                             \n",
       "\n",
       "   CMI:94 F74d) ROAD TRAFFIC ACCIDENT 4: Offence #5  \\\n",
       "0                                               NaN   \n",
       "1                                               NaN   \n",
       "2                                               NaN   \n",
       "3                                               NaN   \n",
       "4                                               NaN   \n",
       "5                                               NaN   \n",
       "6                                               NaN   \n",
       "7                                               NaN   \n",
       "8                                               NaN   \n",
       "9                                               NaN   \n",
       "\n",
       "   CMI:94 F74d) ROAD TRAFFIC ACCIDENT 4: Offence #6  \\\n",
       "0                                               NaN   \n",
       "1                                               NaN   \n",
       "2                                               NaN   \n",
       "3                                               NaN   \n",
       "4                                               NaN   \n",
       "5                                               NaN   \n",
       "6                                               NaN   \n",
       "7                                               NaN   \n",
       "8                                               NaN   \n",
       "9                                               NaN   \n",
       "\n",
       "   CMI:95 F75a) CHECK: F64 - Has driving licence  \\\n",
       "0                                            1.0   \n",
       "1                                            1.0   \n",
       "2                                            1.0   \n",
       "3                                            1.0   \n",
       "4                                            1.0   \n",
       "5                                            1.0   \n",
       "6                                            1.0   \n",
       "7                                            1.0   \n",
       "8                                            1.0   \n",
       "9                                            1.0   \n",
       "\n",
       "   CMI:95 F75b) Ever been convicted of traffic offence (excl F73-74)  \\\n",
       "0                                                2.0                   \n",
       "1                                                2.0                   \n",
       "2                                                2.0                   \n",
       "3                                                2.0                   \n",
       "4                                                2.0                   \n",
       "5                                                2.0                   \n",
       "6                                                2.0                   \n",
       "7                                                2.0                   \n",
       "8                                                2.0                   \n",
       "9                                                2.0                   \n",
       "\n",
       "   CMI:95 F75c) Additional traffic offence conviction #1  \\\n",
       "0                                                NaN       \n",
       "1                                                NaN       \n",
       "2                                                NaN       \n",
       "3                                                NaN       \n",
       "4                                                NaN       \n",
       "5                                                NaN       \n",
       "6                                                NaN       \n",
       "7                                                NaN       \n",
       "8                                                NaN       \n",
       "9                                                NaN       \n",
       "\n",
       "   CMI:95 F75c) Additional traffic offence conviction #2  \\\n",
       "0                                                NaN       \n",
       "1                                                NaN       \n",
       "2                                                NaN       \n",
       "3                                                NaN       \n",
       "4                                                NaN       \n",
       "5                                                NaN       \n",
       "6                                                NaN       \n",
       "7                                                NaN       \n",
       "8                                                NaN       \n",
       "9                                                NaN       \n",
       "\n",
       "   CMI:95 F75c) Additional traffic offence conviction #3  \\\n",
       "0                                                NaN       \n",
       "1                                                NaN       \n",
       "2                                                NaN       \n",
       "3                                                NaN       \n",
       "4                                                NaN       \n",
       "5                                                NaN       \n",
       "6                                                NaN       \n",
       "7                                                NaN       \n",
       "8                                                NaN       \n",
       "9                                                NaN       \n",
       "\n",
       "   CMI:95 F75c) Additional traffic offence conviction #4  \\\n",
       "0                                                NaN       \n",
       "1                                                NaN       \n",
       "2                                                NaN       \n",
       "3                                                NaN       \n",
       "4                                                NaN       \n",
       "5                                                NaN       \n",
       "6                                                NaN       \n",
       "7                                                NaN       \n",
       "8                                                NaN       \n",
       "9                                                NaN       \n",
       "\n",
       "   CMI:95 F75c) Additional traffic offence conviction #5  \\\n",
       "0                                                NaN       \n",
       "1                                                NaN       \n",
       "2                                                NaN       \n",
       "3                                                NaN       \n",
       "4                                                NaN       \n",
       "5                                                NaN       \n",
       "6                                                NaN       \n",
       "7                                                NaN       \n",
       "8                                                NaN       \n",
       "9                                                NaN       \n",
       "\n",
       "   CMI:95 F75c) Additional traffic offence conviction #6  \n",
       "0                                                NaN      \n",
       "1                                                NaN      \n",
       "2                                                NaN      \n",
       "3                                                NaN      \n",
       "4                                                NaN      \n",
       "5                                                NaN      \n",
       "6                                                NaN      \n",
       "7                                                NaN      \n",
       "8                                                NaN      \n",
       "9                                                NaN      \n",
       "\n",
       "[10 rows x 1450 columns]"
      ]
     },
     "execution_count": 2,
     "metadata": {},
     "output_type": "execute_result"
    }
   ],
   "source": [
    "df = pd.read_csv(\"clean_data2.csv\",delimiter=\",\",low_memory=False)\n",
    "print df.shape\n",
    "df.head(10)"
   ]
  },
  {
   "cell_type": "code",
   "execution_count": 28,
   "metadata": {
    "collapsed": false
   },
   "outputs": [],
   "source": [
    "#I have already deleted these relevant predictors\n",
    "drop = [\"1M Epileptic condition\",\"1M Reason for Special Education MC3:3\",\"1M Reason for Special Education MC2:3\",\"1M Reason for Special Education MC1:3\",\"2P Has child had epilepsy attacks-MC 3:3\",\"2P Has child had epilepsy attacks-MC 2:3\",\n",
    "        \"2P Has child had epilepsy attacks-MC 1:3\",\"2M Reason for special education - MC1:3\",\"2M Reason for special education - MC2:3\",\n",
    "        \"2M Reason for special education - MC3:3\",\"2P Age at most recent epilepsy attack\",\"2P Age at 1st epilepsy attack\"\n",
    "       ,\"3P Nature of child-s disability-MC 1:5\",\"3P Nature of child-s disability-MC 2:5\",\"3P Nature of child-s disability-MC 4:5\",\n",
    "        \"3P Nature of child-s disability-MC 5:5\",\"3M Category of child's handicap MC1:3\",\"3M Category of child's handicap MC2:3\",\n",
    "       \"3M Category of child's handicap MC3:3\",\"3M Reason for hosp admiss last 12 mnths\",\"3M Reason hosp outpatient last yr\"\n",
    "       ,\"3M Epilepsy\",\"3M CNS condition,other than epilepsy\",\"CMI:75 F3b) Epilepsy: Suffered in last12 months\",\"CMI:75 F3c) Epilepsy: Seen doctor in last 12 months\" ]"
   ]
  },
  {
   "cell_type": "markdown",
   "metadata": {},
   "source": [
    "# **Instructions**:\n",
    "The dataset is a combination (merge by ID number) of sweep 0-3 and sweep 5. There are in total 11326 samples with 1474 predictors and one response at the **first** row. I manually filtered good variables related to predicting epilepsy:\n",
    "\n",
    "### sweep0-3:\n",
    "- 1P NCDS1 (1965) Parental Questionnaire \n",
    "- 1PD NCDS1 (1965) Parental Questionnaire (Derived Variable) \n",
    "- 1M NCDS1 (1965) Medical Questionnaire \n",
    "- ~~1S NCDS1 (1965) Educational Assessment~~ \n",
    "- 1D NCDS1 (1965) Derived Variable \n",
    "- 2P NCDS2 (1969) Parental Questionnaire \n",
    "- 2M NCDS2 (1969) Medical Questionnaire \n",
    "- 3P NCDS3 (1974) Parental Interview \n",
    "- ~~3S NCDS3 (1974) Educational Questionnaire~~ \n",
    "- 3M NCDS3 (1974) Medical Examination \n",
    "\n",
    "### sweep6:\n",
    "Health variables from NCDS official website.  \n",
    "http://www.cls.ioe.ac.uk/datadictionary/page.asp?section=000100010001001000010007&sectionTitle=G+%2D+Health\n",
    "\n",
    "**Response variable: N503930\tCMI:75 F3a) Epilepsy: Ever suffered**:\n",
    "\n",
    "    Pos. = 1140\tVariable = n503930\tVariable label = CMI:75 F3a) Epilepsy: Ever suffered  \n",
    "    This variable is  numeric, the SPSS measurement level is ORDINAL \n",
    "\n",
    "    Value label information for n503930  \n",
    "    Value = 1.0\tLabel = Yes  \n",
    "    Value = 2.0\tLabel = Only when pregnant  \n",
    "    Value = 3.0\tLabel = No  "
   ]
  },
  {
   "cell_type": "markdown",
   "metadata": {},
   "source": [
    "#  Random Forest Classification"
   ]
  },
  {
   "cell_type": "code",
   "execution_count": 6,
   "metadata": {
    "collapsed": false,
    "scrolled": true
   },
   "outputs": [
    {
     "name": "stdout",
     "output_type": "stream",
     "text": [
      "with epilepsy:  141\n",
      "with epilepsy only when pregnant:  22\n",
      "without epilepsy:  11163\n"
     ]
    }
   ],
   "source": [
    "target = \"CMI:75 F3a) Epilepsy: Ever suffered\"\n",
    "print \"with epilepsy: \", len(df[target][df[target] == 1])\n",
    "print \"with epilepsy only when pregnant: \",len(df[target][df[target] == 2])\n",
    "print \"without epilepsy: \", len(df[target][df[target] == 3])"
   ]
  },
  {
   "cell_type": "markdown",
   "metadata": {},
   "source": [
    "**Ideas**: For the whole population part, maybe delete samples **with epilepsy only when pregnant** and do a binary classification. We can further target at women to do three class classification. :)"
   ]
  },
  {
   "cell_type": "code",
   "execution_count": 9,
   "metadata": {
    "collapsed": false
   },
   "outputs": [],
   "source": [
    "# Turn to a binary classifier\n",
    "df[target][df[target] == 2] = 0\n",
    "df[target][df[target] == 3] = 0"
   ]
  },
  {
   "cell_type": "code",
   "execution_count": 18,
   "metadata": {
    "collapsed": false
   },
   "outputs": [],
   "source": [
    "# Drop columns with excessive missing data\n",
    "for column in df.columns:\n",
    "    null_ratio = sum(df[column].isnull()) / float(len(df[column]))\n",
    "    if null_ratio > 0.25:\n",
    "        del df[column]"
   ]
  },
  {
   "cell_type": "code",
   "execution_count": 48,
   "metadata": {
    "collapsed": true
   },
   "outputs": [],
   "source": [
    "# Fill in missing data\n",
    "for column in df.columns:\n",
    "    # If the column is categorical, fill in with most common\n",
    "    if len(df[column].unique()) <= 8:\n",
    "        df[column].fillna(df[column].mode()[0], inplace=True)\n",
    "    else:\n",
    "        df[column].fillna(df[column].mean(), inplace=True)"
   ]
  },
  {
   "cell_type": "code",
   "execution_count": 50,
   "metadata": {
    "collapsed": false
   },
   "outputs": [],
   "source": [
    "# One-hot encode\n",
    "new_df = pd.DataFrame()\n",
    "\n",
    "for column in df.columns:\n",
    "    # If the column is categorical\n",
    "    if len(df[column].unique()) <= 8 and len(df[column].unique()) > 2:\n",
    "        dummies = pd.get_dummies(df[column], prefix=\"{}: \".format(column))\n",
    "        new_df = pd.concat((new_df, dummies), axis = 1)\n",
    "    else:\n",
    "        new_df[column] = df[column]"
   ]
  },
  {
   "cell_type": "code",
   "execution_count": 51,
   "metadata": {
    "collapsed": false
   },
   "outputs": [
    {
     "name": "stdout",
     "output_type": "stream",
     "text": [
      "(11326, 2479)\n"
     ]
    }
   ],
   "source": [
    "print new_df.shape"
   ]
  },
  {
   "cell_type": "code",
   "execution_count": 57,
   "metadata": {
    "collapsed": false
   },
   "outputs": [],
   "source": [
    "y = new_df[target]\n",
    "x = new_df.drop(target, axis=1)"
   ]
  },
  {
   "cell_type": "code",
   "execution_count": 254,
   "metadata": {
    "collapsed": true
   },
   "outputs": [],
   "source": [
    "x_train, x_test, y_train, y_test = train_test_split(x, y, train_size = 0.75)"
   ]
  },
  {
   "cell_type": "code",
   "execution_count": 289,
   "metadata": {
    "collapsed": false
   },
   "outputs": [],
   "source": [
    "weights = [80 + 5 * i for i in range(0, 7)]\n",
    "healthy_scores = []\n",
    "epilepsy_scores = []\n",
    "scores = []\n",
    "k = 5\n",
    "kfold = KFold(len(x), n_folds=k)\n",
    "\n",
    "for weight in weights:\n",
    "    healthy_score = 0\n",
    "    epilepsy_score = 0\n",
    "    score = 0\n",
    "    for tr, te in kfold:\n",
    "        rf = RandomForestClassifier(max_depth = 3, class_weight={\n",
    "                1: weight\n",
    "            })\n",
    "        rf.fit(x.iloc[tr,:], y.iloc[tr])\n",
    "        preds = rf.predict(x.iloc[te, :])\n",
    "        y_test = np.array(y.iloc[te])\n",
    "        \n",
    "        \n",
    "        score += rf.score(x.iloc[te, :], y.iloc[te])\n",
    "        healthy_score += sum(preds[y_test == 0] == y_test[y_test == 0]) / float(len(y_test[y_test == 0]))\n",
    "        epilepsy_score += sum(preds[y_test == 1] == y_test[y_test == 1]) / float(len(y_test[y_test == 1]))\n",
    "    \n",
    "    scores.append(score / k)\n",
    "    healthy_scores.append(healthy_score / k)\n",
    "    epilepsy_scores.append(epilepsy_score / k)"
   ]
  },
  {
   "cell_type": "code",
   "execution_count": 290,
   "metadata": {
    "collapsed": false
   },
   "outputs": [
    {
     "data": {
      "text/plain": [
       "<matplotlib.text.Text at 0x13fa35490>"
      ]
     },
     "execution_count": 290,
     "metadata": {},
     "output_type": "execute_result"
    },
    {
     "data": {
      "image/png": "[encoded data removed]",
      "text/plain": [
       "<matplotlib.figure.Figure at 0x13f7fc110>"
      ]
     },
     "metadata": {},
     "output_type": "display_data"
    }
   ],
   "source": [
    "plt.plot(weights, scores, label=\"All patients\")\n",
    "plt.plot(weights, healthy_scores, label=\"Healthy patients\")\n",
    "plt.plot(weights, epilepsy_scores, label=\"Epileptic patients\")\n",
    "plt.xlabel(\"Weight assigned to Epileptic class\")\n",
    "plt.ylabel(\"Classification accuracy\")\n",
    "plt.title(\"Tuning weight for imbalanced classification\")"
   ]
  },
  {
   "cell_type": "code",
   "execution_count": 295,
   "metadata": {
    "collapsed": true
   },
   "outputs": [],
   "source": [
    "best_weight = 105"
   ]
  },
  {
   "cell_type": "code",
   "execution_count": 296,
   "metadata": {
    "collapsed": false
   },
   "outputs": [],
   "source": [
    "n_estimators = [10 + i*10 for i in range(1, 10)]\n",
    "healthy_scores = []\n",
    "epilepsy_scores = []\n",
    "scores = []\n",
    "k = 5\n",
    "kfold = KFold(len(x), n_folds=k)\n",
    "\n",
    "for n in n_estimators:\n",
    "    healthy_score = 0\n",
    "    epilepsy_score = 0\n",
    "    score = 0\n",
    "    for tr, te in kfold:\n",
    "        rf = RandomForestClassifier(n_estimators = n, max_depth = 3, class_weight={\n",
    "                1: 105\n",
    "            })\n",
    "        rf.fit(x.iloc[tr,:], y.iloc[tr])\n",
    "        preds = rf.predict(x.iloc[te, :])\n",
    "        y_test = np.array(y.iloc[te])\n",
    "        \n",
    "        \n",
    "        score += rf.score(x.iloc[te, :], y.iloc[te])\n",
    "        healthy_score += sum(preds[y_test == 0] == y_test[y_test == 0]) / float(len(y_test[y_test == 0]))\n",
    "        epilepsy_score += sum(preds[y_test == 1] == y_test[y_test == 1]) / float(len(y_test[y_test == 1]))\n",
    "    \n",
    "    scores.append(score / k)\n",
    "    healthy_scores.append(healthy_score / k)\n",
    "    epilepsy_scores.append(epilepsy_score / k)"
   ]
  },
  {
   "cell_type": "code",
   "execution_count": 300,
   "metadata": {
    "collapsed": false
   },
   "outputs": [
    {
     "data": {
      "image/png": "[encoded data removed]",
      "text/plain": [
       "<matplotlib.figure.Figure at 0x11ec322d0>"
      ]
     },
     "metadata": {},
     "output_type": "display_data"
    }
   ],
   "source": [
    "plt.plot(n_estimators, scores, label=\"All patients\")\n",
    "plt.plot(n_estimators, healthy_scores, label=\"Healthy patients\")\n",
    "plt.plot(n_estimators, epilepsy_scores, label=\"Epileptic patients\")\n",
    "plt.xlabel(\"Number of estimators\")\n",
    "plt.ylabel(\"Classification accuracy\")\n",
    "plt.legend(loc=\"best\")\n",
    "plt.title(\"Tuning number of estimators\")\n",
    "plt.show()"
   ]
  },
  {
   "cell_type": "code",
   "execution_count": 301,
   "metadata": {
    "collapsed": false
   },
   "outputs": [],
   "source": [
    "best_n = 50"
   ]
  },
  {
   "cell_type": "code",
   "execution_count": 311,
   "metadata": {
    "collapsed": false
   },
   "outputs": [
    {
     "data": {
      "text/plain": [
       "RandomForestClassifier(bootstrap=True, class_weight={1: 105},\n",
       "            criterion='gini', max_depth=3, max_features='auto',\n",
       "            max_leaf_nodes=None, min_samples_leaf=1, min_samples_split=2,\n",
       "            min_weight_fraction_leaf=0.0, n_estimators=50, n_jobs=1,\n",
       "            oob_score=False, random_state=None, verbose=0,\n",
       "            warm_start=False)"
      ]
     },
     "execution_count": 311,
     "metadata": {},
     "output_type": "execute_result"
    }
   ],
   "source": [
    "rf = RandomForestClassifier(n_estimators = best_n, max_depth = 3, class_weight={\n",
    "                1: best_weight\n",
    "            })\n",
    "rf.fit(x, y)"
   ]
  },
  {
   "cell_type": "code",
   "execution_count": 312,
   "metadata": {
    "collapsed": false
   },
   "outputs": [],
   "source": [
    "importances = [(new_df.columns[i], imp) for i, imp in enumerate(rf.feature_importances_)]\n",
    "importances_sorted = sorted(importances, key = lambda i: i[1], reverse=True)"
   ]
  },
  {
   "cell_type": "code",
   "execution_count": 313,
   "metadata": {
    "collapsed": false
   },
   "outputs": [
    {
     "name": "stdout",
     "output_type": "stream",
     "text": [
      "CMI:75 F3a) Persistent mouth/gum trouble: Ever suffered: _3.0\n",
      "CMI:82 F33a) Regular medical supervision for other conditions\n",
      "CMI:94 F74a) ROAD TRAFFIC ACCIDENT 4: Incident No. (F36a): _8.0\n",
      "CMI:91 F63a) Ever get out of breath ineveryday activities\n",
      "CMI:85 F39c 10th most recent hospital admission - Reason 3\n",
      "2M Eye used to look down tube-MC 2:2\n",
      "CMI:91 F65) CHECK: F65b) - CM has fullcar/van licence\n",
      "2P Ever seen spec-asthma,whzy bronchitis: _5.0\n",
      "CMI:92 F71 No. times driven/ridden over limit in last 12 months: _4.0\n",
      "CMI:88 F54a) Ever had drink to steady hands, etc first thing in day\n",
      "CMI:78 F21 Suffered any 'emotional problem' since March 1981\n",
      "CMI:86 F40 MALAISE  4: Often have bad head-aches\n",
      "2P Ever seen specialist-convulsions,fits: _4.0\n",
      "CMI:92 F72 CM/other household member owns: Vehicle #1: _5.0\n",
      "2M No. squares marked-left hand in 1min\n",
      "CMI:88 F50b) No. measures spirits/liqueurs in lst 7 days\n",
      "2M MO-access to school medical record\n",
      "2P Ever seen specialist-convulsions,fits: _1.0\n",
      "CMI:88 F56a) Ever had alcohol during breaks in daily work\n",
      "2M Psychiatric,psychological treatment: _1.0\n"
     ]
    }
   ],
   "source": [
    "for imp in importances_sorted[:20]:\n",
    "    print imp[0]"
   ]
  },
  {
   "cell_type": "code",
   "execution_count": 314,
   "metadata": {
    "collapsed": true
   },
   "outputs": [],
   "source": [
    "depths = [2, 3,4, 5]\n",
    "healthy_scores = []\n",
    "epilepsy_scores = []\n",
    "scores = []\n",
    "k = 5\n",
    "kfold = KFold(len(x), n_folds=k)\n",
    "\n",
    "for d in depths:\n",
    "    healthy_score = 0\n",
    "    epilepsy_score = 0\n",
    "    score = 0\n",
    "    for tr, te in kfold:\n",
    "        rf = RandomForestClassifier(n_estimators = best_n, max_depth = d, class_weight={\n",
    "                1: best_weight\n",
    "            })\n",
    "        rf.fit(x.iloc[tr,:], y.iloc[tr])\n",
    "        preds = rf.predict(x.iloc[te, :])\n",
    "        y_test = np.array(y.iloc[te])\n",
    "        \n",
    "        \n",
    "        score += rf.score(x.iloc[te, :], y.iloc[te])\n",
    "        healthy_score += sum(preds[y_test == 0] == y_test[y_test == 0]) / float(len(y_test[y_test == 0]))\n",
    "        epilepsy_score += sum(preds[y_test == 1] == y_test[y_test == 1]) / float(len(y_test[y_test == 1]))\n",
    "    \n",
    "    scores.append(score / k)\n",
    "    healthy_scores.append(healthy_score / k)\n",
    "    epilepsy_scores.append(epilepsy_score / k)"
   ]
  },
  {
   "cell_type": "code",
   "execution_count": 316,
   "metadata": {
    "collapsed": false
   },
   "outputs": [
    {
     "data": {
      "image/png": "[encoded data removed]",
      "text/plain": [
       "<matplotlib.figure.Figure at 0x11efdb110>"
      ]
     },
     "metadata": {},
     "output_type": "display_data"
    }
   ],
   "source": [
    "plt.plot(depths, scores, label=\"All patients\")\n",
    "plt.plot(depths, healthy_scores, label=\"Healthy patients\")\n",
    "plt.plot(depths, epilepsy_scores, label=\"Epileptic patients\")\n",
    "plt.xlabel(\"Depth\")\n",
    "plt.ylabel(\"Classification accuracy\")\n",
    "plt.legend(loc=\"best\")\n",
    "plt.title(\"Tuning depth of RF\")\n",
    "plt.show()"
   ]
  },
  {
   "cell_type": "code",
   "execution_count": null,
   "metadata": {
    "collapsed": true
   },
   "outputs": [],
   "source": []
  }
 ],
 "metadata": {
  "anaconda-cloud": {},
  "kernelspec": {
   "display_name": "Python [default]",
   "language": "python",
   "name": "python2"
  },
  "language_info": {
   "codemirror_mode": {
    "name": "ipython",
    "version": 2
   },
   "file_extension": ".py",
   "mimetype": "text/x-python",
   "name": "python",
   "nbconvert_exporter": "python",
   "pygments_lexer": "ipython2",
   "version": "2.7.12"
  }
 },
 "nbformat": 4,
 "nbformat_minor": 0
}
