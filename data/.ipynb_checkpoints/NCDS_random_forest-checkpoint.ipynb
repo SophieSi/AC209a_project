{
 "cells": [
  {
   "cell_type": "code",
   "execution_count": 42,
   "metadata": {
    "collapsed": true
   },
   "outputs": [],
   "source": [
    "import numpy as np\n",
    "import pandas as pd\n",
    "import matplotlib.pyplot as plt\n",
    "%matplotlib inline\n",
    "from sklearn.ensemble import RandomForestClassifier\n",
    "from sklearn.preprocessing import scale\n",
    "from sklearn.metrics import confusion_matrix\n",
    "from sklearn.model_selection import GridSearchCV\n",
    "from sklearn.model_selection import KFold"
   ]
  },
  {
   "cell_type": "code",
   "execution_count": 43,
   "metadata": {
    "collapsed": true
   },
   "outputs": [],
   "source": [
    "# load data\n",
    "data = pd.read_csv('./born_data.csv')\n",
    "\n",
    "# separate x and y\n",
    "y_df = data.iloc[:, -1].copy()\n",
    "y_df[y_df <> 5] = 0\n",
    "y_df[y_df == 5] = 1\n",
    "x_df = data.iloc[:, 0:-1].copy()"
   ]
  },
  {
   "cell_type": "code",
   "execution_count": 44,
   "metadata": {
    "collapsed": false,
    "scrolled": true
   },
   "outputs": [
    {
     "name": "stdout",
     "output_type": "stream",
     "text": [
      "data shape before dummification/standardization (18558, 66)\n",
      "data shape after dummification/standardization (18558, 556)\n"
     ]
    }
   ],
   "source": [
    "# if more than 15 unique values, then treated as numerical\n",
    "master_list = []\n",
    "\n",
    "for col in x_df.columns:\n",
    "    # get unique count\n",
    "    unique_count = len(x_df[col].unique())\n",
    "    \n",
    "    # numerical variable\n",
    "    if unique_count > 15:\n",
    "        # get a copy for processing\n",
    "        curr_df = pd.DataFrame(x_df[col])\n",
    "        # handle NaN\n",
    "        curr_df[curr_df.isnull()] = -1\n",
    "        # standardize\n",
    "        curr_df = pd.DataFrame(scale(curr_df.values))\n",
    "        # reset index\n",
    "        curr_df.index = x_df.index\n",
    "        # change column label\n",
    "        curr_df.columns = [col]\n",
    "        # append to master list\n",
    "        master_list.append(curr_df)\n",
    "    # categorical variable\n",
    "    else:\n",
    "        # get a copy\n",
    "        curr_df = x_df[col].copy()\n",
    "        # get dummy\n",
    "        # if contains NaN\n",
    "        if curr_df.isnull().values.any():\n",
    "            dummy = pd.get_dummies(curr_df, dummy_na = True)\n",
    "        # if no NaN\n",
    "        else:\n",
    "            dummy = pd.get_dummies(curr_df, dummy_na = False)\n",
    "        # reset columns\n",
    "        dummy.columns = [str(col)+'='+str(value) for value in dummy.columns]\n",
    "        # reset index\n",
    "        dummy.index = x_df.index\n",
    "        # append to master list\n",
    "        master_list.append(dummy)\n",
    "        \n",
    "# concatenate master list\n",
    "x_df_extended = pd.concat(master_list, axis = 1)\n",
    "\n",
    "print 'data shape before dummification/standardization', x_df.shape\n",
    "print 'data shape after dummification/standardization', x_df_extended.shape"
   ]
  },
  {
   "cell_type": "code",
   "execution_count": 45,
   "metadata": {
    "collapsed": true
   },
   "outputs": [],
   "source": [
    "def scorer(estimator, x, y):\n",
    "    y_predict = estimator.predict(x)\n",
    "    cm = confusion_matrix(y, y_predict)\n",
    "    accuracy_all = estimator.score(x_test, y_test)\n",
    "    accuracy_epilepsy = float(cm[1,1])/float(cm[1,0]+cm[1,1])\n",
    "    accuracy_healthy = float(cm[0,0])/float(cm[0,0]+cm[0,1])\n",
    "    return accuracy_all * accuracy_healthy * accuracy_epilepsy"
   ]
  },
  {
   "cell_type": "code",
   "execution_count": null,
   "metadata": {
    "collapsed": true
   },
   "outputs": [],
   "source": [
    "while True:\n",
    "    x_train, x_test, y_train, y_test = train_test_split(\\\n",
    "        x_df_extended.values, y_df.values, test_size = 0.25)\n",
    "    if sum(y_train == 1) > 2 and sum(y_test == 1) > 0:\n",
    "        break\n",
    "    else:\n",
    "        print 'try again'"
   ]
  },
  {
   "cell_type": "code",
   "execution_count": 46,
   "metadata": {
    "collapsed": false
   },
   "outputs": [],
   "source": [
    "# cross validataion to find best models\n",
    "n_estimator_list = np.arange(10, 200, 20)\n",
    "depth_list = np.arange(1, 10, 10)\n",
    "class_weight_list = [{1:value} for value in 10**np.arange(2, 12, 1)]\n",
    "\n",
    "parameters = {'n_estimators':n_estimator_list,\\\n",
    "              'max_depth':depth_list,\\\n",
    "              'class_weight':class_weight_list}\n",
    "\n",
    "gscv = GridSearchCV(RandomForestClassifier(), parameters, scoring = scorer)\n",
    "gscv.fit(x_train, y_train)\n",
    "\n",
    "best_rf_model = gscv.best_estimator_"
   ]
  },
  {
   "cell_type": "code",
   "execution_count": 47,
   "metadata": {
    "collapsed": false
   },
   "outputs": [
    {
     "name": "stdout",
     "output_type": "stream",
     "text": [
      "most positive variables\n",
      "0.0470588235294 0  Place of booking-& delivery if diff\n",
      "0.0470588235294 0 Mother's age last birthday,in years\n",
      "0.0352941176471 0  Total number of antenatal vsits=6.0\n",
      "0.0352941176471 0 Abnormality during pregnancy=1.0\n",
      "0.0294117647059 0  Inhalational analgesia=3.0\n",
      "0.0294117647059 0 Smoking during pregnancy=1.0\n",
      "0.0294117647059 0 Husband's age in years,1958\n",
      "0.0294117647059 0 Abnormality during pregnancy=9.0\n",
      "0.0235294117647 0 Gestation period in days\n",
      "0.0235294117647 0  Was mum at sch. after min.leaving age=5.0\n",
      "0.0235294117647 0 Socio-economic group mother's husband (GRO 1951)=1.0\n",
      "0.0235294117647 Region at NCDS3 (1974) - 16 years=6.0\n",
      "0.0235294117647 1M Maternal illness while pregnantM:C1-2=2.0\n",
      "0.0176470588235 0 Birthweight for gest age for sex=9.0\n",
      "0.0176470588235 0 Mother's weight in stones,1958=9.0\n",
      "0.0176470588235 Region at NCDS2 (1969) - 11 years=3.0\n",
      "0.0176470588235 0  Week of mothers 1st antenatal visit=4.0\n",
      "0.0176470588235 0 Mums paid job during pregnancy (GRO 1951)\n",
      "0.0176470588235 0  Weight of baby in ounces\n",
      "0.0176470588235 Region at NCDS1 (1965) - 7 years=6.0\n",
      "0.0176470588235 1M Maternal illness while pregnantM:C1-2=nan\n"
     ]
    }
   ],
   "source": [
    "# get importance (coef)\n",
    "coef = best_rf_model.feature_importances_\n",
    "\n",
    "most_pos_var_index = np.argsort(coef)[-21:][::-1]\n",
    "most_neg_var_index = np.argsort(coef)[0:3]\n",
    "\n",
    "print 'most positive variables'\n",
    "for index in most_pos_var_index:\n",
    "    print coef[index], x_df_extended.columns[index]"
   ]
  },
  {
   "cell_type": "code",
   "execution_count": 51,
   "metadata": {
    "collapsed": false
   },
   "outputs": [
    {
     "name": "stdout",
     "output_type": "stream",
     "text": [
      "accuracy_overall     0.567572\n",
      "accuracy_healthy     0.567432\n",
      "accuracy_epilepsy    1.000000\n",
      "dtype: float64\n"
     ]
    }
   ],
   "source": [
    "best_rf_model = gscv.best_estimator_\n",
    "\n",
    "y_predict = best_rf_model.predict(x_test)\n",
    "cm = confusion_matrix(y_test, y_predict)\n",
    "accuracy_all = best_rf_model.score(x_test, y_test)\n",
    "accuracy_epilepsy = float(cm[1,1])/float(cm[1,0]+cm[1,1])\n",
    "accuracy_healthy = float(cm[0,0])/float(cm[0,0]+cm[0,1])\n",
    "\n",
    "print accuracy_all\n",
    "print accuracy_healthy\n",
    "print accuracy_epilepsy"
   ]
  },
  {
   "cell_type": "code",
   "execution_count": 49,
   "metadata": {
    "collapsed": true
   },
   "outputs": [],
   "source": [
    "#a function to deliver comparation\n",
    "def compare(name):\n",
    "    #ratio and count among whole population\n",
    "    print pd.to_numeric(data[name],errors='coerce').value_counts()/pd.to_numeric(data[name],errors='coerce').value_counts().sum()\n",
    "    print data[name].value_counts()\n",
    "    \n",
    "    #ratio and count among epilepsy patients\n",
    "    print epi[name].value_counts()/epi[name].value_counts().sum()\n",
    "    print epi[name].value_counts()"
   ]
  },
  {
   "cell_type": "code",
   "execution_count": 50,
   "metadata": {
    "collapsed": false,
    "scrolled": true
   },
   "outputs": [
    {
     "name": "stdout",
     "output_type": "stream",
     "text": [
      "10.0    0.568194\n",
      "1.0     0.330745\n",
      "2.0     0.082627\n",
      "3.0     0.018375\n",
      "4.0     0.000059\n",
      "Name: 0  Mums min. haemoglobin while pregnant, dtype: float64\n",
      "10.0    9586\n",
      "1.0     5580\n",
      "2.0     1394\n",
      "3.0      310\n",
      "4.0        1\n",
      "Name: 0  Mums min. haemoglobin while pregnant, dtype: int64\n"
     ]
    },
    {
     "ename": "NameError",
     "evalue": "global name 'epi' is not defined",
     "output_type": "error",
     "traceback": [
      "\u001b[0;31m---------------------------------------------------------------------------\u001b[0m",
      "\u001b[0;31mNameError\u001b[0m                                 Traceback (most recent call last)",
      "\u001b[0;32m<ipython-input-50-034c7d6eabe3>\u001b[0m in \u001b[0;36m<module>\u001b[0;34m()\u001b[0m\n\u001b[0;32m----> 1\u001b[0;31m \u001b[0mcompare\u001b[0m\u001b[0;34m(\u001b[0m\u001b[0;34m\"0  Mums min. haemoglobin while pregnant\"\u001b[0m\u001b[0;34m)\u001b[0m\u001b[0;34m\u001b[0m\u001b[0m\n\u001b[0m",
      "\u001b[0;32m<ipython-input-49-3f1b01d9244a>\u001b[0m in \u001b[0;36mcompare\u001b[0;34m(name)\u001b[0m\n\u001b[1;32m      6\u001b[0m \u001b[0;34m\u001b[0m\u001b[0m\n\u001b[1;32m      7\u001b[0m     \u001b[0;31m#ratio and count among epilepsy patients\u001b[0m\u001b[0;34m\u001b[0m\u001b[0;34m\u001b[0m\u001b[0m\n\u001b[0;32m----> 8\u001b[0;31m     \u001b[0;32mprint\u001b[0m \u001b[0mepi\u001b[0m\u001b[0;34m[\u001b[0m\u001b[0mname\u001b[0m\u001b[0;34m]\u001b[0m\u001b[0;34m.\u001b[0m\u001b[0mvalue_counts\u001b[0m\u001b[0;34m(\u001b[0m\u001b[0;34m)\u001b[0m\u001b[0;34m/\u001b[0m\u001b[0mepi\u001b[0m\u001b[0;34m[\u001b[0m\u001b[0mname\u001b[0m\u001b[0;34m]\u001b[0m\u001b[0;34m.\u001b[0m\u001b[0mvalue_counts\u001b[0m\u001b[0;34m(\u001b[0m\u001b[0;34m)\u001b[0m\u001b[0;34m.\u001b[0m\u001b[0msum\u001b[0m\u001b[0;34m(\u001b[0m\u001b[0;34m)\u001b[0m\u001b[0;34m\u001b[0m\u001b[0m\n\u001b[0m\u001b[1;32m      9\u001b[0m     \u001b[0;32mprint\u001b[0m \u001b[0mepi\u001b[0m\u001b[0;34m[\u001b[0m\u001b[0mname\u001b[0m\u001b[0;34m]\u001b[0m\u001b[0;34m.\u001b[0m\u001b[0mvalue_counts\u001b[0m\u001b[0;34m(\u001b[0m\u001b[0;34m)\u001b[0m\u001b[0;34m\u001b[0m\u001b[0m\n",
      "\u001b[0;31mNameError\u001b[0m: global name 'epi' is not defined"
     ]
    }
   ],
   "source": [
    "compare(\"0  Mums min. haemoglobin while pregnant\")"
   ]
  }
 ],
 "metadata": {
  "anaconda-cloud": {},
  "kernelspec": {
   "display_name": "Python [conda root]",
   "language": "python",
   "name": "conda-root-py"
  },
  "language_info": {
   "codemirror_mode": {
    "name": "ipython",
    "version": 2
   },
   "file_extension": ".py",
   "mimetype": "text/x-python",
   "name": "python",
   "nbconvert_exporter": "python",
   "pygments_lexer": "ipython2",
   "version": "2.7.12"
  }
 },
 "nbformat": 4,
 "nbformat_minor": 1
}
