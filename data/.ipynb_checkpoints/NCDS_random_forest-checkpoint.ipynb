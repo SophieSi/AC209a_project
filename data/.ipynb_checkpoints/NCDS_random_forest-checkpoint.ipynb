{
 "cells": [
  {
   "cell_type": "code",
   "execution_count": 1,
   "metadata": {
    "collapsed": true
   },
   "outputs": [],
   "source": [
    "import numpy as np\n",
    "import pandas as pd\n",
    "import matplotlib.pyplot as plt\n",
    "%matplotlib inline\n",
    "from sklearn import ensemble\n",
    "from sklearn import preprocessing\n",
    "from sklearn import model_selection\n",
    "from sklearn import metrics\n",
    "from sklearn.model_selection import GridSearchCV"
   ]
  },
  {
   "cell_type": "code",
   "execution_count": 2,
   "metadata": {
    "collapsed": true
   },
   "outputs": [],
   "source": [
    "# load data\n",
    "data = pd.read_csv('./born_data.csv')\n",
    "\n",
    "# separate x and y\n",
    "y_df = data.iloc[:, -1].copy()\n",
    "y_df[y_df <> 5] = 0\n",
    "y_df[y_df == 5] = 1\n",
    "x_df = data.iloc[:, 0:-1].copy()"
   ]
  },
  {
   "cell_type": "code",
   "execution_count": 3,
   "metadata": {
    "collapsed": false
   },
   "outputs": [
    {
     "name": "stdout",
     "output_type": "stream",
     "text": [
      "data shape before dummification/standardization (18558, 64)\n",
      "data shape after dummification/standardization (18558, 537)\n"
     ]
    }
   ],
   "source": [
    "# if more than 15 unique values, then treated as numerical\n",
    "master_list = []\n",
    "\n",
    "for col in x_df.columns:\n",
    "    # get unique count\n",
    "    unique_count = len(x_df[col].unique())\n",
    "    \n",
    "    # numerical variable\n",
    "    if unique_count > 15:\n",
    "        # get a copy for processing\n",
    "        curr_df = pd.DataFrame(x_df[col])\n",
    "        # handle NaN\n",
    "        curr_df[curr_df.isnull()] = -1\n",
    "        # standardize\n",
    "        curr_df = pd.DataFrame(preprocessing.scale(curr_df.values))\n",
    "        # reset index\n",
    "        curr_df.index = x_df.index\n",
    "        # change column label\n",
    "        curr_df.columns = [col]\n",
    "        # append to master list\n",
    "        master_list.append(curr_df)\n",
    "    # categorical variable\n",
    "    else:\n",
    "        # get a copy\n",
    "        curr_df = x_df[col].copy()\n",
    "        # get dummy\n",
    "        # if contains NaN\n",
    "        if curr_df.isnull().values.any():\n",
    "            dummy = pd.get_dummies(curr_df, dummy_na = True)\n",
    "        # if no NaN\n",
    "        else:\n",
    "            dummy = pd.get_dummies(curr_df, dummy_na = False)\n",
    "        # reset columns\n",
    "        dummy.columns = [str(col)+'='+str(value) for value in dummy.columns]\n",
    "        # reset index\n",
    "        dummy.index = x_df.index\n",
    "        # append to master list\n",
    "        master_list.append(dummy)\n",
    "        \n",
    "# concatenate master list\n",
    "x_df_extended = pd.concat(master_list, axis = 1)\n",
    "\n",
    "print 'data shape before dummification/standardization', x_df.shape\n",
    "print 'data shape after dummification/standardization', x_df_extended.shape"
   ]
  },
  {
   "cell_type": "code",
   "execution_count": 4,
   "metadata": {
    "collapsed": true
   },
   "outputs": [],
   "source": [
    "# cross validataion to find best models\n",
    "n_estimator_list = np.arange(10, 200, 20)\n",
    "depth_list = np.arange(1, 10, 10)\n",
    "class_weight_list = [{1:value} for value in 10**np.arange(2, 12, 1)]\n",
    "\n",
    "parameters = {'n_estimators':n_estimator_list,\\\n",
    "              'max_depth':depth_list,\\\n",
    "              'class_weight':class_weight_list}\n",
    "\n",
    "rf_model = ensemble.RandomForestClassifier()\n",
    "\n",
    "gscv = GridSearchCV(rf_model, parameters)\n",
    "gscv.fit(x_df_extended.values, y_df.values)\n",
    "\n",
    "best_rf_model = gscv.best_estimator_"
   ]
  },
  {
   "cell_type": "code",
   "execution_count": 5,
   "metadata": {
    "collapsed": false
   },
   "outputs": [
    {
     "name": "stdout",
     "output_type": "stream",
     "text": [
      "most positive variables\n",
      "['0  Birth order-all mums siblings=11.0'\n",
      " '0  Birth order-all mums siblings=1.0'\n",
      " '0  Birth order-all mums siblings=2.0'\n",
      " '0  Birth order-all mums siblings=3.0'\n",
      " '0  Birth order-all mums siblings=4.0'\n",
      " '0  Birth order-all mums siblings=5.0'\n",
      " '0  Birth order-all mums siblings=6.0'\n",
      " '0  Birth order-all mums siblings=nan'\n",
      " '0  Birth order-all mums siblings=7.0'\n",
      " '0  Birth order-all mums siblings=8.0'\n",
      " '0  Birth order-all mums siblings=9.0'\n",
      " '0  Birth order-all mums siblings=10.0'\n",
      " '0 Interval between this birth and last=nan'\n",
      " '0  Siblings alive when mum left school=6.0' '0  Mothers blood group=7.0'\n",
      " \"0 Ma's smoking after mth 4 of pregnancy=1.0\"\n",
      " '0 Illness noted in PMS-MC 1:3=1.0'\n",
      " '0  Duration of labour-1st stage:hours=2.0'\n",
      " \"0 Socio-economic group mother's husband (GRO 1951)=7.0\"\n",
      " '0 Birthweight (ounces) or estimate']\n",
      "most negative variables\n",
      "['0-3D Sex of child=1.0' '0  Whether labour induced=1.0'\n",
      " '0  Duration membranes ruptured-hours=nan']\n"
     ]
    }
   ],
   "source": [
    "# get importance (coef)\n",
    "coef = best_rf_model.feature_importances_\n",
    "\n",
    "most_pos_var_index = np.argsort(coef)[-21:][:-1]\n",
    "most_neg_var_index = np.argsort(coef)[0:3]\n",
    "\n",
    "most_pos_var = x_df_extended.columns[most_pos_var_index]\n",
    "most_neg_var = x_df_extended.columns[most_neg_var_index]\n",
    "\n",
    "print 'most positive variables'\n",
    "print most_pos_var.values\n",
    "print 'most negative variables'\n",
    "print most_neg_var.values"
   ]
  },
  {
   "cell_type": "code",
   "execution_count": null,
   "metadata": {
    "collapsed": true
   },
   "outputs": [],
   "source": [
    "#a function to deliver comparation\n",
    "def compare(name):\n",
    "    #ratio and count among whole population\n",
    "    print pd.to_numeric(data[name],errors='coerce').value_counts()/pd.to_numeric(data[name],errors='coerce').value_counts().sum()\n",
    "    print data[name].value_counts()\n",
    "    \n",
    "    #ratio and count among epilepsy patients\n",
    "    print epi[name].value_counts()/epi[name].value_counts().sum()\n",
    "    print epi[name].value_counts()"
   ]
  },
  {
   "cell_type": "code",
   "execution_count": null,
   "metadata": {
    "collapsed": false,
    "scrolled": true
   },
   "outputs": [],
   "source": [
    "compare(\"0  Mums min. haemoglobin while pregnant\")"
   ]
  }
 ],
 "metadata": {
  "anaconda-cloud": {},
  "kernelspec": {
   "display_name": "Python [conda root]",
   "language": "python",
   "name": "conda-root-py"
  },
  "language_info": {
   "codemirror_mode": {
    "name": "ipython",
    "version": 2
   },
   "file_extension": ".py",
   "mimetype": "text/x-python",
   "name": "python",
   "nbconvert_exporter": "python",
   "pygments_lexer": "ipython2",
   "version": "2.7.12"
  }
 },
 "nbformat": 4,
 "nbformat_minor": 1
}
