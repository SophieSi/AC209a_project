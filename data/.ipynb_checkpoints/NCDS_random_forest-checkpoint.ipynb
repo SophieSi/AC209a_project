{
 "cells": [
  {
   "cell_type": "code",
   "execution_count": 220,
   "metadata": {
    "collapsed": true
   },
   "outputs": [],
   "source": [
    "import numpy as np\n",
    "import pandas as pd\n",
    "import matplotlib.pyplot as plt\n",
    "%matplotlib inline\n",
    "\n",
    "from sklearn.linear_model import LogisticRegressionCV\n",
    "from sklearn.preprocessing import scale\n",
    "from sklearn.metrics import confusion_matrix\n",
    "from sklearn.model_selection import KFold\n",
    "from sklearn.model_selection import GridSearchCV\n",
    "from sklearn.model_selection import train_test_split"
   ]
  },
  {
   "cell_type": "code",
   "execution_count": 221,
   "metadata": {
    "collapsed": true
   },
   "outputs": [],
   "source": [
    "# load data\n",
    "data = pd.read_csv('./born_data.csv')\n",
    "\n",
    "# separate x and y\n",
    "y_label = '12D Epilepsy identification'\n",
    "y_df = data[y_label].copy()\n",
    "y_df[y_df <> 5] = 0\n",
    "y_df[y_df == 5] = 1\n",
    "x_df = data.drop(y_label, axis = 1).copy()"
   ]
  },
  {
   "cell_type": "code",
   "execution_count": 222,
   "metadata": {
    "collapsed": true
   },
   "outputs": [],
   "source": [
    "for col in x_df.columns:\n",
    "    if '11 years' in col or '16 years' in col:\n",
    "        x_df.drop(col, axis = 1, inplace = True)"
   ]
  },
  {
   "cell_type": "code",
   "execution_count": 223,
   "metadata": {
    "collapsed": false,
    "scrolled": true
   },
   "outputs": [
    {
     "name": "stdout",
     "output_type": "stream",
     "text": [
      "data shape before dummification/standardization (18558, 64)\n",
      "data shape after dummification/standardization (18558, 523)\n"
     ]
    }
   ],
   "source": [
    "# if more than 15 unique values, then treated as numerical\n",
    "master_list = []\n",
    "\n",
    "for col in x_df.columns:\n",
    "    # get unique count\n",
    "    unique_count = len(x_df[col].unique())\n",
    "    \n",
    "    # numerical variable\n",
    "    if unique_count > 15:\n",
    "        # get a copy for processing\n",
    "        curr_df = pd.DataFrame(x_df[col])\n",
    "        # handle NaN\n",
    "        curr_df[curr_df.isnull()] = -1\n",
    "        # standardize\n",
    "        curr_df = pd.DataFrame(scale(curr_df.values))\n",
    "        # reset index\n",
    "        curr_df.index = x_df.index\n",
    "        # change column label\n",
    "        curr_df.columns = [col]\n",
    "        # append to master list\n",
    "        master_list.append(curr_df)\n",
    "    # categorical variable\n",
    "    else:\n",
    "        # get a copy\n",
    "        curr_df = x_df[col].copy()\n",
    "        # get dummy\n",
    "        # if contains NaN\n",
    "        if curr_df.isnull().values.any():\n",
    "            dummy = pd.get_dummies(curr_df, dummy_na = True)\n",
    "        # if no NaN\n",
    "        else:\n",
    "            dummy = pd.get_dummies(curr_df, dummy_na = False)\n",
    "        # reset columns\n",
    "        dummy.columns = [str(col)+'='+str(value) for value in dummy.columns]\n",
    "        # reset index\n",
    "        dummy.index = x_df.index\n",
    "        # append to master list\n",
    "        master_list.append(dummy)\n",
    "        \n",
    "# concatenate master list\n",
    "x_df_extended = pd.concat(master_list, axis = 1)\n",
    "\n",
    "print 'data shape before dummification/standardization', x_df.shape\n",
    "print 'data shape after dummification/standardization', x_df_extended.shape"
   ]
  },
  {
   "cell_type": "code",
   "execution_count": 224,
   "metadata": {
    "collapsed": true
   },
   "outputs": [],
   "source": [
    "def scorer(estimator, x, y):\n",
    "    y_predict = estimator.predict(x)\n",
    "    cm = confusion_matrix(y, y_predict)\n",
    "    accuracy_all = estimator.score(x, y)\n",
    "    accuracy_healthy = float(cm[0,0])/float(cm[0,0]+cm[0,1])\n",
    "    accuracy_epilepsy = float(cm[1,1])/float(cm[1,0]+cm[1,1])\n",
    "    return accuracy_all * accuracy_healthy * accuracy_epilepsy"
   ]
  },
  {
   "cell_type": "code",
   "execution_count": 225,
   "metadata": {
    "collapsed": false
   },
   "outputs": [],
   "source": [
    "while True:\n",
    "    x_train, x_test, y_train, y_test = train_test_split(\\\n",
    "        x_df_extended.values, y_df.values, test_size = 0.25)\n",
    "    if sum(y_train == 1) > 2 and sum(y_test == 1) > 0:\n",
    "        break\n",
    "    else:\n",
    "        print 'try again'"
   ]
  },
  {
   "cell_type": "code",
   "execution_count": 226,
   "metadata": {
    "collapsed": true
   },
   "outputs": [],
   "source": [
    "def scorer(estimator, x, y):\n",
    "    y_predict = estimator.predict(x)\n",
    "    cm = confusion_matrix(y, y_predict)\n",
    "    accuracy_epilepsy = float(cm[1,1])/float(cm[1,0]+cm[1,1])\n",
    "    return accuracy_epilepsy"
   ]
  },
  {
   "cell_type": "code",
   "execution_count": 227,
   "metadata": {
    "collapsed": false
   },
   "outputs": [],
   "source": [
    "# cross validataion to find best models\n",
    "n_estimator_list = np.arange(10, 200, 10)\n",
    "depth_list = np.arange(1, 10, 10)\n",
    "class_weight_list = [{1:value} for value in 10**np.arange(-1, 5, 1)]\n",
    "\n",
    "parameters = {'n_estimators':n_estimator_list,\\\n",
    "              'max_depth':depth_list,\\\n",
    "              'class_weight':class_weight_list}\n",
    "\n",
    "gscv = GridSearchCV(RandomForestClassifier(), parameters, scoring = 'precision_macro')\n",
    "gscv.fit(x_train, y_train)\n",
    "\n",
    "best_rf_model = gscv.best_estimator_"
   ]
  },
  {
   "cell_type": "code",
   "execution_count": 228,
   "metadata": {
    "collapsed": false
   },
   "outputs": [
    {
     "name": "stdout",
     "output_type": "stream",
     "text": [
      "most positive variables\n",
      "0.3 0  Siblings alive when mum left school=6.0\n",
      "0.1 0 Birthweight for gest age for sex=5.0\n",
      "0.1 0 Socio-economic group mother's husband (GRO 1951)=5.0\n",
      "0.1 0  Siblings alive when mum left school=11.0\n",
      "0.1 0  Siblings alive,dead when mum left sch=3.0\n",
      "0.1 0 Mums paid job when starting this baby (GRO 1951)\n",
      "0.1 0  Mothers blood group=5.0\n",
      "0.1 Region at NCDS1 (1965) - 7 years=nan\n",
      "0.0 0 Hrs of work in pregnancy & wk stopped=1.0\n",
      "0.0 0 Hrs of work in pregnancy & wk stopped=4.0\n",
      "0.0 0 Hrs of work in pregnancy & wk stopped=3.0\n",
      "0.0 0 Hrs of work in pregnancy & wk stopped=2.0\n",
      "0.0 1M Maternal illness while pregnantM:C2-2=nan\n",
      "0.0 0 Hrs of work in pregnancy & wk stopped=6.0\n",
      "0.0 0 Mums paid job during pregnancy (GRO 1951)\n",
      "0.0 0  Siblings alive when mum left school=nan\n",
      "0.0 0  Siblings alive when mum left school=10.0\n",
      "0.0 0  Siblings alive when mum left school=9.0\n",
      "0.0 0  Siblings alive when mum left school=8.0\n",
      "0.0 0 Hrs of work in pregnancy & wk stopped=5.0\n",
      "0.0 0 Hrs of work in pregnancy & wk stopped=8.0\n"
     ]
    }
   ],
   "source": [
    "# get importance (coef)\n",
    "coef = best_rf_model.feature_importances_\n",
    "\n",
    "most_pos_var_index = np.argsort(coef)[-21:][::-1]\n",
    "most_neg_var_index = np.argsort(coef)[0:3]\n",
    "\n",
    "print 'most positive variables'\n",
    "for index in most_pos_var_index:\n",
    "    print coef[index], x_df_extended.columns[index]"
   ]
  },
  {
   "cell_type": "code",
   "execution_count": 229,
   "metadata": {
    "collapsed": false
   },
   "outputs": [
    {
     "name": "stdout",
     "output_type": "stream",
     "text": [
      "[[ 235 5932]\n",
      " [   0   19]]\n",
      "[[   0 6166]\n",
      " [   0   20]]\n",
      "[[ 455 5711]\n",
      " [   3   17]]\n",
      "accuracy_all         0.076301\n",
      "accuracy_healthy     0.073792\n",
      "accuracy_epilepsy    0.850000\n",
      "dtype: float64\n"
     ]
    }
   ],
   "source": [
    "best_rf_model = gscv.best_estimator_\n",
    "kf = KFold(n_splits = 3)\n",
    "adf = pd.DataFrame({}, columns = ['accuracy_all', 'accuracy_healthy', 'accuracy_epilepsy'])\n",
    "index = 0\n",
    "\n",
    "for train_index, test_index in kf.split(x_df_extended.values):\n",
    "    x_train = x_df_extended.values[train_index, :]\n",
    "    x_test = x_df_extended.values[test_index, :]\n",
    "    y_train = y_df.values[train_index]\n",
    "    y_test = y_df.values[test_index]\n",
    "    \n",
    "    best_rf_model.fit(x_train, y_train)\n",
    "    \n",
    "    y_predict = best_rf_model.predict(x_test)\n",
    "    cm = confusion_matrix(y_test, y_predict)\n",
    "    accuracy_all = best_rf_model.score(x_test, y_test)\n",
    "    accuracy_epilepsy = float(cm[1,1])/float(cm[1,0]+cm[1,1])\n",
    "    accuracy_healthy = float(cm[0,0])/float(cm[0,0]+cm[0,1])\n",
    "    \n",
    "    print cm\n",
    "    \n",
    "    adf.loc[index] = [accuracy_all, accuracy_healthy, accuracy_epilepsy]\n",
    "\n",
    "print adf.mean()"
   ]
  },
  {
   "cell_type": "code",
   "execution_count": 230,
   "metadata": {
    "collapsed": false
   },
   "outputs": [
    {
     "name": "stdout",
     "output_type": "stream",
     "text": [
      "0.501679494725\n",
      "{'n_estimators': 10, 'max_depth': 1, 'class_weight': {1: 1000}}\n"
     ]
    }
   ],
   "source": [
    "print gscv.best_score_\n",
    "print gscv.best_params_"
   ]
  }
 ],
 "metadata": {
  "anaconda-cloud": {},
  "kernelspec": {
   "display_name": "Python [conda root]",
   "language": "python",
   "name": "conda-root-py"
  },
  "language_info": {
   "codemirror_mode": {
    "name": "ipython",
    "version": 2
   },
   "file_extension": ".py",
   "mimetype": "text/x-python",
   "name": "python",
   "nbconvert_exporter": "python",
   "pygments_lexer": "ipython2",
   "version": "2.7.12"
  }
 },
 "nbformat": 4,
 "nbformat_minor": 1
}
