{
 "cells": [
  {
   "cell_type": "code",
   "execution_count": 214,
   "metadata": {
    "collapsed": false
   },
   "outputs": [],
   "source": [
    "import pandas as pd\n",
    "import numpy as np\n",
    "import matplotlib.pyplot as plt\n",
    "%matplotlib inline\n",
    "from sklearn import ensemble\n",
    "from sklearn import linear_model\n",
    "from sklearn import preprocessing\n",
    "from sklearn import model_selection\n",
    "import sys"
   ]
  },
  {
   "cell_type": "code",
   "execution_count": 215,
   "metadata": {
    "collapsed": false,
    "scrolled": false
   },
   "outputs": [],
   "source": [
    "# file path of data file\n",
    "data_path = './ncds_sweep4/tab/ncds4.tab'\n",
    "\n",
    "# read data file into Pandas DataFrame\n",
    "# delimiter is tab\n",
    "# use column 'ncdsid' as index\n",
    "data = pd.read_csv(data_path, delimiter='\\t').set_index('ncdsid')"
   ]
  },
  {
   "cell_type": "markdown",
   "metadata": {},
   "source": [
    "Pos. = 772\tVariable = n5765\tVariable label = 4I Fits,convulsions-ever called epileptic\n",
    "\n",
    "This variable is  numeric, the SPSS measurement level is ordinal.\n",
    "\n",
    "\tValue label information for n5765\n",
    "\tValue = 1\tLabel = YES\n",
    "\tValue = 2\tLabel = NO\n",
    "\tValue = 8\tLabel = DONT   KNOW"
   ]
  },
  {
   "cell_type": "code",
   "execution_count": 216,
   "metadata": {
    "collapsed": true
   },
   "outputs": [],
   "source": [
    "# file path of explain file\n",
    "explain_path = '/Users/hung-yiwu/Documents/AC209a_project/data/ncds_sweep4/mrdoc/allissue/ncds4_ukda_data_dictionary.rtf'\n",
    "\n",
    "# open explain file\n",
    "explain = open(explain_path, 'r')\n",
    "\n",
    "# read the whole file as a single giant string\n",
    "explain_text = explain.read()\n",
    "\n",
    "# target string\n",
    "target_string = 'the SPSS measurement level is'\n",
    "\n",
    "# locate target string in the whole file\n",
    "target_loc = [m.start() for m in re.finditer(target_string, explain_text)]\n",
    "target_loc = target_loc[1:]"
   ]
  },
  {
   "cell_type": "code",
   "execution_count": 217,
   "metadata": {
    "collapsed": false
   },
   "outputs": [
    {
     "name": "stdout",
     "output_type": "stream",
     "text": [
      "1472/1472"
     ]
    }
   ],
   "source": [
    "data_cp = data.copy()\n",
    "for index, loc in enumerate(target_loc):\n",
    "    char = explain_text[loc+len(target_string)+10]\n",
    "    unique = data.iloc[:,index].unique()\n",
    "    unique_type = [type(i) for i in unique]\n",
    "    \n",
    "    if data.columns[index] == 'n5765':\n",
    "        # response variable\n",
    "        continue\n",
    "    elif char == 'O' or char == 'o' or char == 'N' or char == 'n' \\\n",
    "        or 'region' in data.columns[index]\\\n",
    "        or type('str') in unique_type:\n",
    "        # it is SPSS data type ORDINAL or NOMINAL\n",
    "        # it is categorical data\n",
    "        data.iloc[:,index] = preprocessing.LabelEncoder().fit_transform(\\\n",
    "            data.iloc[:,index].values)\n",
    "        \n",
    "    # display progress\n",
    "    sys.stdout.write('\\r{}/{}'.format(index+1, len(data.columns)))\n",
    "    sys.stdout.flush()"
   ]
  },
  {
   "cell_type": "code",
   "execution_count": 218,
   "metadata": {
    "collapsed": false
   },
   "outputs": [
    {
     "name": "stdout",
     "output_type": "stream",
     "text": [
      "model score: 0.9689\n",
      "null model score: 0.9936\n"
     ]
    }
   ],
   "source": [
    "y_df = data['n5765']\n",
    "x_df = data.drop('n5765', axis=1)\n",
    "\n",
    "x = x_df.values\n",
    "y = np.array([1 if i == '1' else 0 for i in y_df.values])\n",
    "\n",
    "rf_model = ensemble.RandomForestClassifier()\n",
    "rf_model.fit(x, y)\n",
    "model_score = model_selection.cross_val_score(rf_model, x, y).mean()\n",
    "null_model_score = float(len(y[y==0]))/float(len(y))\n",
    "\n",
    "print 'model score: {}'.format(np.round(model_score, 4))\n",
    "print 'null model score: {}'.format(np.round(null_model_score, 4))"
   ]
  },
  {
   "cell_type": "code",
   "execution_count": 219,
   "metadata": {
    "collapsed": false
   },
   "outputs": [
    {
     "name": "stdout",
     "output_type": "stream",
     "text": [
      "     feature name  importance\n",
      "770         n5766   0.0438039\n",
      "772         n5769   0.0391674\n",
      "771         n5768   0.0377213\n",
      "1452      icdcat6   0.0210897\n",
      "769         n5764    0.020632\n",
      "757         n5749   0.0125374\n",
      "831         n5914  0.00885769\n",
      "1380     estfamg1   0.0087615\n",
      "1246      pregmar  0.00819785\n",
      "1074        ec228   0.0077941\n",
      "755         n5747  0.00724849\n",
      "832         n5915  0.00710724\n",
      "873         n5969  0.00697569\n",
      "394         n4917  0.00690405\n",
      "868         n5962  0.00618537\n"
     ]
    },
    {
     "name": "stderr",
     "output_type": "stream",
     "text": [
      "/Users/hung-yiwu/anaconda/lib/python2.7/site-packages/ipykernel/__main__.py:5: FutureWarning: sort(columns=....) is deprecated, use sort_values(by=.....)\n"
     ]
    }
   ],
   "source": [
    "importance = rf_model.feature_importances_.reshape(-1,1)\n",
    "feature = x_df.columns.values.reshape(-1,1)\n",
    "\n",
    "f = pd.DataFrame(np.concatenate([feature, importance], axis = 1),\\\n",
    "                 columns = ['feature name', 'importance'])\n",
    "f.sort('importance', ascending = False, inplace = True)\n",
    "print f.head(15)"
   ]
  },
  {
   "cell_type": "markdown",
   "metadata": {},
   "source": [
    "n5768: convulsions-prescribed medicines\n",
    "\n",
    "n5769: convulsions-medical supervision\n",
    "\n",
    "n5766: convulsions-age at last attack\n",
    "\n",
    "n5764: Fits,convulsions since 16th birthday\n",
    "\n",
    "n4139: Whether registered disabled page one\n",
    "\n",
    "**n6026: Malaise-11 twitching of face,head,shldrs**\n",
    "\n",
    "n5747: Disability-limits getting out alone\n",
    "\n",
    "meanjob: Mean length of all ft & pt jobs (mths)\n",
    "\n",
    "n5745: Disability-limits getting about house\n",
    "\n",
    "**n5959: Whether voted in 1979 general election**\n",
    "\n",
    "n5744: Disability-limits washing or dressing\n",
    "\n",
    "**subhq: Sub.of  high qual or current course**\n",
    "\n",
    "**ecactim2: Total months econ active-approx def**\n",
    "\n",
    "**n4223pw: 1st job - pay per week**\n",
    "\n",
    "n6458: Disability of respondent (1)"
   ]
  },
  {
   "cell_type": "code",
   "execution_count": 220,
   "metadata": {
    "collapsed": false
   },
   "outputs": [
    {
     "name": "stdout",
     "output_type": "stream",
     "text": [
      "(12537, 2)\n",
      "(11807, 2)\n"
     ]
    }
   ],
   "source": [
    "pay = data_cp['n4223pw'].apply(lambda i: 0 if i == ' ' else float(i)).values\n",
    "pay_df = pd.DataFrame(np.concatenate([pay.reshape(-1,1), y.reshape(-1,1)],\\\n",
    "                                     axis = 1), columns = ['pay', 'epilepsy'])\n",
    "print pay_df.shape\n",
    "pay_df = pay_df[np.logical_and(pay <> 0, pay <> -3)]\n",
    "print pay_df.shape"
   ]
  },
  {
   "cell_type": "code",
   "execution_count": 228,
   "metadata": {
    "collapsed": false
   },
   "outputs": [
    {
     "data": {
      "image/png": "[encoded data removed]",
      "text/plain": [
       "<matplotlib.figure.Figure at 0x123608bd0>"
      ]
     },
     "metadata": {},
     "output_type": "display_data"
    },
    {
     "data": {
      "text/plain": [
       "<matplotlib.figure.Figure at 0x11e295e90>"
      ]
     },
     "metadata": {},
     "output_type": "display_data"
    }
   ],
   "source": [
    "pay_epilepsy = pay_df[pay_df['epilepsy'] == 1]['pay'].values\n",
    "pay_normal = pay_df[pay_df['epilepsy'] == 0]['pay'].values\n",
    "\n",
    "fig, axs = plt.subplots(1,3, figsize = (15,5))\n",
    "\n",
    "axs[0].hist(pay_epilepsy, color = 'lightblue')\n",
    "axs[0].set_xlabel('1st jpb, pay per week')\n",
    "axs[0].set_ylabel('count')\n",
    "axs[0].set_title('with epilepsy')\n",
    "axs[1].hist(pay_normal, color = 'lightblue')\n",
    "axs[1].set_xlabel('1st job, pay per week')\n",
    "axs[1].set_ylabel('count')\n",
    "axs[1].set_title('normal')\n",
    "\n",
    "means = [np.mean(pay_epilepsy), np.mean(pay_normal)]\n",
    "stderrs = [np.std(pay_epilepsy)/np.sqrt(float(pay_epilepsy.shape[0])),\\\n",
    "           np.std(pay_normal)/np.sqrt(float(pay_epilepsy.shape[0]))]\n",
    "\n",
    "ind = np.array([0, 0.7])\n",
    "width = 0.35\n",
    "axs[2].bar(ind+width, means, width, yerr = stderrs, color = 'lightblue', alpha = 0.5)\n",
    "axs[2].set_xticks(ind+width*1.5)\n",
    "axs[2].set_xticklabels(['with epilepsy', 'normal'])\n",
    "axs[2].set_ylabel('1st job, pay per week')\n",
    "axs[2].set_title('no significant difference')\n",
    "axs[2].set_xlim([0,1.7])\n",
    "\n",
    "fig.tight_layout()\n",
    "plt.show()\n",
    "plt.savefig('payperweek.png')"
   ]
  },
  {
   "cell_type": "code",
   "execution_count": 223,
   "metadata": {
    "collapsed": false
   },
   "outputs": [
    {
     "name": "stdout",
     "output_type": "stream",
     "text": [
      "(12537, 2)\n",
      "(3121, 2)\n"
     ]
    }
   ],
   "source": [
    "subhq = data_cp['subhq'].apply(lambda i: -1 if i == ' ' else float(i)).values\n",
    "subhq_df = pd.DataFrame(np.concatenate([subhq.reshape(-1,1), y.reshape(-1,1)],\\\n",
    "                                     axis = 1), columns = ['subhq', 'epilepsy'])\n",
    "print subhq_df.shape\n",
    "subhq_df = subhq_df[subhq <> -1]\n",
    "print subhq_df.shape"
   ]
  },
  {
   "cell_type": "code",
   "execution_count": 224,
   "metadata": {
    "collapsed": false
   },
   "outputs": [
    {
     "name": "stdout",
     "output_type": "stream",
     "text": [
      "epilepsy  subhq\n",
      "0.0       7.0      0.353168\n",
      "          6.0      0.100032\n",
      "          8.0      0.088131\n",
      "          1.0      0.084593\n",
      "          2.0      0.076552\n",
      "          9.0      0.075587\n",
      "          3.0      0.066903\n",
      "          10.0     0.065294\n",
      "          11.0     0.045352\n",
      "          4.0      0.025410\n",
      "          5.0      0.018977\n",
      "1.0       7.0      0.333333\n",
      "          3.0      0.166667\n",
      "          8.0      0.166667\n",
      "          6.0      0.083333\n",
      "          9.0      0.083333\n",
      "          10.0     0.083333\n",
      "          11.0     0.083333\n",
      "Name: subhq, dtype: float64\n"
     ]
    }
   ],
   "source": [
    "print subhq_df.groupby('epilepsy')['subhq'].value_counts(normalize = True)"
   ]
  },
  {
   "cell_type": "code",
   "execution_count": 225,
   "metadata": {
    "collapsed": false
   },
   "outputs": [
    {
     "data": {
      "text/plain": [
       "([<matplotlib.patches.Wedge at 0x1236f6b90>,\n",
       "  <matplotlib.patches.Wedge at 0x1236d5590>,\n",
       "  <matplotlib.patches.Wedge at 0x1236d5f10>,\n",
       "  <matplotlib.patches.Wedge at 0x11a5208d0>,\n",
       "  <matplotlib.patches.Wedge at 0x11a501290>,\n",
       "  <matplotlib.patches.Wedge at 0x11a501c10>,\n",
       "  <matplotlib.patches.Wedge at 0x11e0cf5d0>],\n",
       " [<matplotlib.text.Text at 0x1236d5210>,\n",
       "  <matplotlib.text.Text at 0x1236d5b90>,\n",
       "  <matplotlib.text.Text at 0x11a520550>,\n",
       "  <matplotlib.text.Text at 0x11a520ed0>,\n",
       "  <matplotlib.text.Text at 0x11a501890>,\n",
       "  <matplotlib.text.Text at 0x11e0cf250>,\n",
       "  <matplotlib.text.Text at 0x11e0cfbd0>])"
      ]
     },
     "execution_count": 225,
     "metadata": {},
     "output_type": "execute_result"
    },
    {
     "data": {
      "image/png": "[encoded data removed]",
      "text/plain": [
       "<matplotlib.figure.Figure at 0x1eab53510>"
      ]
     },
     "metadata": {},
     "output_type": "display_data"
    }
   ],
   "source": [
    "plt.pie(subhq_df[subhq_df['epilepsy'] == 1]['subhq'].value_counts())"
   ]
  },
  {
   "cell_type": "code",
   "execution_count": null,
   "metadata": {
    "collapsed": true
   },
   "outputs": [],
   "source": []
  }
 ],
 "metadata": {
  "anaconda-cloud": {},
  "kernelspec": {
   "display_name": "Python [conda root]",
   "language": "python",
   "name": "conda-root-py"
  },
  "language_info": {
   "codemirror_mode": {
    "name": "ipython",
    "version": 2
   },
   "file_extension": ".py",
   "mimetype": "text/x-python",
   "name": "python",
   "nbconvert_exporter": "python",
   "pygments_lexer": "ipython2",
   "version": "2.7.12"
  }
 },
 "nbformat": 4,
 "nbformat_minor": 0
}
