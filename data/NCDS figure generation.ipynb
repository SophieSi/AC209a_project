{
 "cells": [
  {
   "cell_type": "code",
   "execution_count": 3,
   "metadata": {
    "collapsed": true
   },
   "outputs": [],
   "source": [
    "import numpy as np\n",
    "import pandas as pd\n",
    "import matplotlib.pyplot as plt\n",
    "%matplotlib inline\n",
    "\n",
    "from sklearn.linear_model import LogisticRegressionCV\n",
    "from sklearn.preprocessing import scale\n",
    "from sklearn.metrics import confusion_matrix\n",
    "from sklearn.model_selection import KFold\n",
    "from sklearn.model_selection import GridSearchCV\n",
    "from sklearn.model_selection import train_test_split"
   ]
  },
  {
   "cell_type": "code",
   "execution_count": 4,
   "metadata": {
    "collapsed": true
   },
   "outputs": [],
   "source": [
    "# load data\n",
    "data = pd.read_csv('./born_data.csv')\n",
    "\n",
    "# separate x and y\n",
    "y_label = '12D Epilepsy identification'\n",
    "y_df = data[y_label].copy()\n",
    "y_df[y_df <> 5] = 0\n",
    "y_df[y_df == 5] = 1\n",
    "x_df = data.drop(y_label, axis = 1).copy()"
   ]
  },
  {
   "cell_type": "code",
   "execution_count": 5,
   "metadata": {
    "collapsed": true
   },
   "outputs": [],
   "source": [
    "for col in x_df.columns:\n",
    "    if '11 years' in col or '16 years' in col:\n",
    "        x_df.drop(col, axis = 1, inplace = True)"
   ]
  },
  {
   "cell_type": "code",
   "execution_count": 21,
   "metadata": {
    "collapsed": false
   },
   "outputs": [
    {
     "data": {
      "image/png": "[encoded data removed]",
      "text/plain": [
       "<matplotlib.figure.Figure at 0x11cd22890>"
      ]
     },
     "metadata": {},
     "output_type": "display_data"
    }
   ],
   "source": [
    "plt.figure(figsize = (5, 5))\n",
    "plt.pie([len(data.columns)-1-len(x_df.columns), len(x_df.columns)],\\\n",
    "       labels = ['not used', 'used'], autopct = '%.1f%%', colors = ['lightblue', 'pink'])\n",
    "plt.title('predictors')\n",
    "plt.show()"
   ]
  },
  {
   "cell_type": "code",
   "execution_count": 22,
   "metadata": {
    "collapsed": false
   },
   "outputs": [
    {
     "name": "stdout",
     "output_type": "stream",
     "text": [
      "Index([u'0-3D Sex of child', u'Region at PMS (1958) - Birth',\n",
      "       u'Region at NCDS1 (1965) - 7 years',\n",
      "       u'0 Mother's age last birthday,in years',\n",
      "       u'0 Mother's present marital status',\n",
      "       u'0 Interval between marriage & 1st birth',\n",
      "       u'0 Socio-economic group mother's husband (GRO 1951)',\n",
      "       u'0 Social class mother's husband (GRO 1951)',\n",
      "       u'0 Husband's age in years,1958',\n",
      "       u'0  Was mum at sch. after min.leaving age',\n",
      "       u'0  SEG maternal GPa as mum left school (GRO 1951)',\n",
      "       u'0  SEG maternal GPa-Miner,foreman code (GRO 1951)',\n",
      "       u'0  Mothers fathers social class (GRO 1951)',\n",
      "       u'0  Mums fathers soc class + miner codes (GRO 1951)',\n",
      "       u'0  Siblings alive,dead when mum left sch',\n",
      "       u'0  Birth order - mums live siblings',\n",
      "       u'0  Birth order-all mums siblings',\n",
      "       u'0  Siblings alive when mum left school',\n",
      "       u'0 Mums paid job when starting this baby (GRO 1951)',\n",
      "       u'0 Mums paid job during pregnancy (GRO 1951)',\n",
      "       u'0 Hrs of work in pregnancy & wk stopped',\n",
      "       u'0 Week in which mother stopped work',\n",
      "       u'0 M Number of persons per room',\n",
      "       u'0  Mum-No. cooked for when 1st pregnant',\n",
      "       u'0 Mother's weight in stones,1958', u'0 Gestation period in days',\n",
      "       u'0  Week of mothers 1st antenatal visit',\n",
      "       u'0  Total number of antenatal vsits', u'0 Smoking prior to pregnancy',\n",
      "       u'0 Smoking during pregnancy', u'0 Parity',\n",
      "       u'0 Height of mum in inches at chlds brth',\n",
      "       u'0  Raised blood pressure & proteinuria', u'0  Mothers blood group',\n",
      "       u'0  Mums min. haemoglobin while pregnant',\n",
      "       u'0 Abnormality during pregnancy',\n",
      "       u'0  Duration of labour-1st stage:hours',\n",
      "       u'0  Duration of labour-2nd stage-minutes',\n",
      "       u'0  Duration membranes ruptured-hours', u'0  Whether labour induced',\n",
      "       u'0  Method of actual delivery', u'0  Foetal distress',\n",
      "       u'0  Inhalational analgesia', u'0  Delivery-Supervision Groups',\n",
      "       u'0  Place of booking-& delivery if diff',\n",
      "       u'0  Weight of baby in ounces', u'0 Birthweight (ounces) or estimate',\n",
      "       u'0 Birthweight-gestational age for sex',\n",
      "       u'0 Birthweight for gest age for sex',\n",
      "       u'0P Social class of mother's husband (GRO 1951)',\n",
      "       u'0 Status of PMS births with no NCDS1',\n",
      "       u'0 Ma's smoking after mth 4 of pregnancy',\n",
      "       u'0 Mother's,father's social class 1958 (GRO 1951)',\n",
      "       u'0 Illness noted in PMS-MC 1:3', u'0 Illness noted in PMS-MC 2:3',\n",
      "       u'0 Illness noted in PMS-MC 3:3', u'0 Previous abortions or ectopics',\n",
      "       u'0 Prev premature livebirths. . 5lb 9oz.',\n",
      "       u'0 Previous large births .8lbs 14oz +.',\n",
      "       u'0 Past stillbirths and neonatal deaths',\n",
      "       u'0  Past complications of pregnancy, etc',\n",
      "       u'0 Interval between this birth and last',\n",
      "       u'1M Maternal illness while pregnantM:C1-2',\n",
      "       u'1M Maternal illness while pregnantM:C2-2'],\n",
      "      dtype='object')\n"
     ]
    }
   ],
   "source": [
    "print x_df.columns"
   ]
  },
  {
   "cell_type": "code",
   "execution_count": null,
   "metadata": {
    "collapsed": true
   },
   "outputs": [],
   "source": []
  }
 ],
 "metadata": {
  "kernelspec": {
   "display_name": "Python [conda root]",
   "language": "python",
   "name": "conda-root-py"
  },
  "language_info": {
   "codemirror_mode": {
    "name": "ipython",
    "version": 2
   },
   "file_extension": ".py",
   "mimetype": "text/x-python",
   "name": "python",
   "nbconvert_exporter": "python",
   "pygments_lexer": "ipython2",
   "version": "2.7.12"
  }
 },
 "nbformat": 4,
 "nbformat_minor": 1
}
