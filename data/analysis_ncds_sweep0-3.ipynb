{
 "cells": [
  {
   "cell_type": "code",
   "execution_count": 27,
   "metadata": {
    "collapsed": false
   },
   "outputs": [],
   "source": [
    "import pandas as pd\n",
    "import numpy as np\n",
    "import matplotlib.pyplot as plt\n",
    "%matplotlib inline\n",
    "import re\n",
    "from sklearn import linear_model\n",
    "from sklearn import preprocessing\n",
    "from sklearn import model_selection\n",
    "from sklearn import metrics"
   ]
  },
  {
   "cell_type": "markdown",
   "metadata": {
    "collapsed": false
   },
   "source": [
    "The file explain is a rtf file explaining which variables are numeric and which are categorical. There are 1765 variables, the first being ID and it's part in the explain file does not contain the target string 'the SPSS measurement level is'. The others' part contains either NOMINAL, ORDINAL or SCALE. Only SCALE is numeric.\n",
    "\n",
    "column 'n1842' is epilepsy status"
   ]
  },
  {
   "cell_type": "code",
   "execution_count": 2,
   "metadata": {
    "collapsed": false
   },
   "outputs": [],
   "source": [
    "# file path of explain file\n",
    "explain_path = '/Users/hung-yiwu/Documents/AC209a_project/data/ncds_sweep0-3/mrdoc/allissue/ncds0123_ukda_data_dictionary.rtf'\n",
    "\n",
    "# open explain file\n",
    "explain = open(explain_path, 'r')\n",
    "\n",
    "# read the whole file as a single giant string\n",
    "explain_text = explain.read()\n",
    "\n",
    "# SPSS measurement level target string\n",
    "target_string_1 = 'the SPSS measurement level is '\n",
    "\n",
    "# locate SPSS measurement level\n",
    "target_loc_1 = [m.end() for m in re.finditer(target_string_1, explain_text)]\n",
    "\n",
    "# variable label target string\n",
    "target_string_2 = 'Variable label = '\n",
    "\n",
    "# locate variable label\n",
    "target_loc_2 = [m.end() for m in re.finditer(target_string_2, explain_text)]\n",
    "\n",
    "# remove the first one (id)\n",
    "target_loc_2 = target_loc_2[1:]\n",
    "\n",
    "# variable code target string\n",
    "target_string_3 = 'Variable = '\n",
    "\n",
    "# locate variable code\n",
    "target_loc_3 = [m.end() for m in re.finditer(target_string_3, explain_text)]\n",
    "\n",
    "# remove the first one (id)\n",
    "target_loc_3 = target_loc_3[1:]"
   ]
  },
  {
   "cell_type": "code",
   "execution_count": 3,
   "metadata": {
    "collapsed": false
   },
   "outputs": [],
   "source": [
    "var_df = pd.DataFrame({}, columns = ['type', 'label'])\n",
    "\n",
    "for i in range(len(target_loc_1)):\n",
    "    # get variable code\n",
    "    start_pt = target_loc_3[i]+15\n",
    "    end_pt = explain_text.find('cf1', start_pt)-6\n",
    "    var_code = explain_text[start_pt:end_pt]\n",
    "    \n",
    "    # get variable label\n",
    "    start_pt = target_loc_2[i]+7\n",
    "    end_pt = explain_text.find('\\par', start_pt)\n",
    "    var_label = explain_text[start_pt:end_pt]\n",
    "    \n",
    "    # get variable type\n",
    "    char = explain_text[target_loc_1[i] + 9] \n",
    "    if char == 'O' or char == 'o' or char == 'N' or char == 'n' \\\n",
    "        or 'region' in var_code:\n",
    "        var_type = 'categorical'\n",
    "    else:\n",
    "        var_type = 'numerical'\n",
    "\n",
    "    # append to DataFrame\n",
    "    var_df.loc[var_code] = [var_type, var_label]"
   ]
  },
  {
   "cell_type": "code",
   "execution_count": 4,
   "metadata": {
    "collapsed": false
   },
   "outputs": [
    {
     "name": "stdout",
     "output_type": "stream",
     "text": [
      "1764 variables\n",
      "sample variable list:\n"
     ]
    },
    {
     "data": {
      "text/html": [
       "<div>\n",
       "<table border=\"1\" class=\"dataframe\">\n",
       "  <thead>\n",
       "    <tr style=\"text-align: right;\">\n",
       "      <th></th>\n",
       "      <th>type</th>\n",
       "      <th>label</th>\n",
       "    </tr>\n",
       "  </thead>\n",
       "  <tbody>\n",
       "    <tr>\n",
       "      <th>n622</th>\n",
       "      <td>categorical</td>\n",
       "      <td>0-3D Sex of child</td>\n",
       "    </tr>\n",
       "    <tr>\n",
       "      <th>n0region</th>\n",
       "      <td>categorical</td>\n",
       "      <td>Region at PMS (1958) - Birth</td>\n",
       "    </tr>\n",
       "    <tr>\n",
       "      <th>n1region</th>\n",
       "      <td>categorical</td>\n",
       "      <td>Region at NCDS1 (1965) - 7 years</td>\n",
       "    </tr>\n",
       "    <tr>\n",
       "      <th>n2region</th>\n",
       "      <td>categorical</td>\n",
       "      <td>Region at NCDS2 (1969) - 11 years</td>\n",
       "    </tr>\n",
       "    <tr>\n",
       "      <th>n3region</th>\n",
       "      <td>categorical</td>\n",
       "      <td>Region at NCDS3 (1974) - 16 years</td>\n",
       "    </tr>\n",
       "  </tbody>\n",
       "</table>\n",
       "</div>"
      ],
      "text/plain": [
       "                 type                              label\n",
       "n622      categorical                  0-3D Sex of child\n",
       "n0region  categorical       Region at PMS (1958) - Birth\n",
       "n1region  categorical   Region at NCDS1 (1965) - 7 years\n",
       "n2region  categorical  Region at NCDS2 (1969) - 11 years\n",
       "n3region  categorical  Region at NCDS3 (1974) - 16 years"
      ]
     },
     "execution_count": 4,
     "metadata": {},
     "output_type": "execute_result"
    }
   ],
   "source": [
    "print '{} variables'.format(var_df.shape[0])\n",
    "print 'sample variable list:'\n",
    "var_df.head()"
   ]
  },
  {
   "cell_type": "code",
   "execution_count": 13,
   "metadata": {
    "collapsed": false
   },
   "outputs": [
    {
     "name": "stdout",
     "output_type": "stream",
     "text": [
      "18558 observations\n",
      "338 medical variables (before dummy expansion)\n",
      "unique values in response variable: [0.0 1.0]\n"
     ]
    }
   ],
   "source": [
    "# file path of data file\n",
    "data_path = './ncds_sweep0-3/tab/ncds0123.tab'\n",
    "\n",
    "# read data file into Pandas DataFrame\n",
    "# delimiter is tab\n",
    "# use column 'ncdsid' as index\n",
    "data = pd.read_csv(data_path, delimiter='\\t').set_index('ncdsid')\n",
    "y_df = data['n1842'].copy()\n",
    "x_df = data.drop('n1842', axis = 1)\n",
    "\n",
    "# get medical data column index\n",
    "medical_col_index = [i for i, value in enumerate(var_df['label']) if\\\n",
    "       '1M' in value or '2M' in value or '3M' in value]\n",
    "# get medical data columns\n",
    "x_df = x_df.iloc[:, medical_col_index]\n",
    "\n",
    "print '{} observations'.format(x_df.shape[0])\n",
    "print '{} medical variables (before dummy expansion)'.format(x_df.shape[1])\n",
    "\n",
    "# set y_df to binary: 5 or others\n",
    "mask_1 = y_df == '5'\n",
    "y_df[mask_1] = 1\n",
    "y_df[~mask_1] = 0\n",
    "\n",
    "print 'unique values in response variable:', y_df.unique()"
   ]
  },
  {
   "cell_type": "markdown",
   "metadata": {},
   "source": [
    "Pos. = 353\tVariable = n1842\tVariable label = 12D Epilepsy identification\n",
    "\n",
    "This variable is  numeric, the SPSS measurement level is ORDINAL\n",
    "\n",
    "SPSS user missing values = -1.0 thru -2.0\n",
    "\n",
    "\tValue label information for n1842\n",
    "\tValue = 1.0\tLabel = No convulsiv dis\n",
    "\tValue = 2.0\tLabel = Indef convls dis\n",
    "\tValue = 3.0\tLabel = Faints\n",
    "\tValue = 4.0\tLabel = Hysterical attck\n",
    "\tValue = 5.0\tLabel = Epilepsy\n",
    "\tValue = 6.0\tLabel = Unsubstan epilep\n",
    "\tValue = 7.0\tLabel = Febr convs-prob\n",
    "\tValue = 8.0\tLabel = Febr convs -pos\n",
    "\tValue = 9.0\tLabel = Not diag epilep\n",
    "\tValue = 10.0\tLabel = Febrile convuls\n",
    "\tValue = 11.0\tLabel = Breath-holding\n",
    "\tValue = 12.0\tLabel = Blank-spells\n",
    "\tValue = -1.0\tLabel = Nt epilepsy stdy\n",
    "\tValue = -2.0\tLabel = No NCDS1,NCDS2"
   ]
  },
  {
   "cell_type": "code",
   "execution_count": 6,
   "metadata": {
    "collapsed": false
   },
   "outputs": [
    {
     "name": "stdout",
     "output_type": "stream",
     "text": [
      "18558 observations\n",
      "2660 medical variables (after dummy expansion)\n"
     ]
    }
   ],
   "source": [
    "# iterate through all variables\n",
    "# dummify categorical variables\n",
    "# standardize numeric variables\n",
    "\n",
    "x_df_extended_list = []\n",
    "\n",
    "for col in x_df.columns:\n",
    "    # if this column is categorical\n",
    "    if var_df.loc[col, 'type'] == 'categorical':\n",
    "        # copy current column\n",
    "        curr_df = x_df[col].copy()\n",
    "        # format all value to string\n",
    "        curr_df = curr_df.astype(str)\n",
    "        # set value ' ' to value '-1'\n",
    "        curr_df[curr_df == ' '] = '-1'\n",
    "        # if this column contains NaN\n",
    "        if curr_df.isnull().values.any():\n",
    "            # get dummy with NaN as a unique value\n",
    "            dummy = pd.get_dummies(curr_df, dummy_na = True)\n",
    "        # if this column does not contain NaN\n",
    "        else:\n",
    "            # get dummy without considering NaN\n",
    "            dummy = pd.get_dummies(curr_df, dummy_na = False)\n",
    "        # reset column label of dummy\n",
    "        dummy.columns = [str(col)+'='+str(value) for value in dummy.columns]\n",
    "        # reset index label of dummy\n",
    "        dummy.index = x_df.index\n",
    "        # append current dummy DataFrame to master list\n",
    "        x_df_extended_list.append(dummy)\n",
    "    # if this column is numerical\n",
    "    else:\n",
    "        # copy current column\n",
    "        curr_df = x_df[col].copy()\n",
    "        # set value ' ' to value -1\n",
    "        curr_df[curr_df == ' '] = -1\n",
    "        # set value NaN to value -1\n",
    "        curr_df[curr_df.isnull()] = -1\n",
    "        # convert current column to float\n",
    "        curr_df = curr_df.astype(float)\n",
    "        # standardize it\n",
    "        curr_df = pd.DataFrame(preprocessing.scale(curr_df.values))\n",
    "        # reset index label of current DataFrame\n",
    "        curr_df.index = x_df.index\n",
    "        # append current DataFrame to master list\n",
    "        x_df_extended_list.append(curr_df)\n",
    "        \n",
    "# concatenate master list to get master data\n",
    "x_df_extended = pd.concat(x_df_extended_list, axis = 1)\n",
    "\n",
    "print '{} observations'.format(x_df_extended.shape[0])\n",
    "print '{} medical variables (after dummy expansion)'.format(x_df_extended.shape[1])"
   ]
  },
  {
   "cell_type": "code",
   "execution_count": 31,
   "metadata": {
    "collapsed": false
   },
   "outputs": [
    {
     "data": {
      "text/plain": [
       "LogisticRegressionCV(Cs=10, class_weight=None, cv=None, dual=False,\n",
       "           fit_intercept=True, intercept_scaling=1.0, max_iter=100,\n",
       "           multi_class='ovr', n_jobs=1, penalty='l2', random_state=None,\n",
       "           refit=True, scoring=None, solver='lbfgs', tol=0.0001, verbose=0)"
      ]
     },
     "execution_count": 31,
     "metadata": {},
     "output_type": "execute_result"
    }
   ],
   "source": [
    "# train test split\n",
    "x_train, x_test, y_train, y_test = model_selection.train_test_split(\\\n",
    "    x_df_extended.values, y_df.values.astype(float))\n",
    "\n",
    "# build model\n",
    "lr_model = linear_model.LogisticRegressionCV()\n",
    "\n",
    "# train model\n",
    "lr_model.fit(x_train, y_train)"
   ]
  },
  {
   "cell_type": "code",
   "execution_count": 47,
   "metadata": {
    "collapsed": false
   },
   "outputs": [
    {
     "name": "stdout",
     "output_type": "stream",
     "text": [
      "accuracy on test data: 0.954\n",
      "accuracy on healthy patients: 0.954\n",
      "accuracy on epilepsy patients: 0.875\n"
     ]
    },
    {
     "data": {
      "text/html": [
       "<div>\n",
       "<table border=\"1\" class=\"dataframe\">\n",
       "  <thead>\n",
       "    <tr style=\"text-align: right;\">\n",
       "      <th></th>\n",
       "      <th>predict 0</th>\n",
       "      <th>predict 1</th>\n",
       "    </tr>\n",
       "  </thead>\n",
       "  <tbody>\n",
       "    <tr>\n",
       "      <th>true 0</th>\n",
       "      <td>4411</td>\n",
       "      <td>213</td>\n",
       "    </tr>\n",
       "    <tr>\n",
       "      <th>true 1</th>\n",
       "      <td>2</td>\n",
       "      <td>14</td>\n",
       "    </tr>\n",
       "  </tbody>\n",
       "</table>\n",
       "</div>"
      ],
      "text/plain": [
       "        predict 0  predict 1\n",
       "true 0       4411        213\n",
       "true 1          2         14"
      ]
     },
     "execution_count": 47,
     "metadata": {},
     "output_type": "execute_result"
    }
   ],
   "source": [
    "# predict\n",
    "y_test_predict_proba = lr_model.predict_proba(x_test)[:, 0]\n",
    "threshold = 0.9999\n",
    "mask_0 = y_test_predict_proba > threshold\n",
    "y_test_predict = np.ones(y_test_predict_proba.shape)\n",
    "y_test_predict[mask_0] = 0\n",
    "\n",
    "# confusion matrix\n",
    "cm = metrics.confusion_matrix(y_test, y_test_predict)\n",
    "cm_df = pd.DataFrame(cm, columns = ['predict 0', 'predict 1'], index = ['true 0', 'true 1'])\n",
    "\n",
    "print 'accuracy on test data: %.3f' % (float(sum(y_test_predict == y_test))/float(len(y_test)))\n",
    "print 'accuracy on healthy patients: %.3f' % (float(cm[0,0])/float(cm[0,0]+cm[0,1]))\n",
    "print 'accuracy on epilepsy patients: %.3f' % (float(cm[1,1])/float(cm[1,1]+cm[1,0]))\n",
    "cm_df"
   ]
  },
  {
   "cell_type": "code",
   "execution_count": 58,
   "metadata": {
    "collapsed": false
   },
   "outputs": [
    {
     "name": "stdout",
     "output_type": "stream",
     "text": [
      "most positive variables\n",
      "['n1507=1' 'n1502=3' 'n415=3']\n",
      "most negative variables\n",
      "['n1502=1' 'n415=2' 'n2032=1']\n"
     ]
    },
    {
     "data": {
      "image/png": "[encoded data removed]",
      "text/plain": [
       "<matplotlib.figure.Figure at 0x15e8a8950>"
      ]
     },
     "metadata": {},
     "output_type": "display_data"
    }
   ],
   "source": [
    "# look at variables with most positive and most negative coefficients\n",
    "coef = lr_model.coef_.flatten()\n",
    "\n",
    "most_pos_var_index = np.argsort(coef)[-4:][:-1]\n",
    "most_neg_var_index = np.argsort(coef)[0:3]\n",
    "\n",
    "most_pos_var = x_df_extended.columns[most_pos_var_index]\n",
    "most_neg_var = x_df_extended.columns[most_neg_var_index]\n",
    "\n",
    "print 'most positive variables'\n",
    "print most_pos_var.values\n",
    "print 'most negative variables'\n",
    "print most_neg_var.values\n",
    "\n",
    "plt.bar(range(len(coef)), np.sort(coef), color = 'red', edgecolor = 'red')\n",
    "plt.ylabel('coefficient')\n",
    "plt.xlabel('variables')\n",
    "plt.xlim([-100, 3000])\n",
    "plt.show()"
   ]
  },
  {
   "cell_type": "markdown",
   "metadata": {},
   "source": [
    "n416=3: Other CNS condition = Yes, no handicap\n",
    "\n",
    "n330=10: Date on Medical Exam - month & year = January-April 66\n",
    "\n",
    "n415=3: Epileptic condition = Yes, no handicap\n",
    "\n",
    "n1502=1: Has child ever had convulsions = No\n",
    "\n",
    "n415=2: Epileptic condition = None\n",
    "\n",
    "n2031=1: Abnormality of skin = No abnormality"
   ]
  }
 ],
 "metadata": {
  "anaconda-cloud": {},
  "kernelspec": {
   "display_name": "Python [conda root]",
   "language": "python",
   "name": "conda-root-py"
  },
  "language_info": {
   "codemirror_mode": {
    "name": "ipython",
    "version": 2
   },
   "file_extension": ".py",
   "mimetype": "text/x-python",
   "name": "python",
   "nbconvert_exporter": "python",
   "pygments_lexer": "ipython2",
   "version": "2.7.12"
  }
 },
 "nbformat": 4,
 "nbformat_minor": 0
}
