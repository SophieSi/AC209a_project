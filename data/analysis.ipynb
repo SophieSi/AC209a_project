{
 "cells": [
  {
   "cell_type": "code",
   "execution_count": 56,
   "metadata": {
    "collapsed": false
   },
   "outputs": [],
   "source": [
    "import pandas as pd\n",
    "import numpy as np\n",
    "import matplotlib.pyplot as plt\n",
    "%matplotlib inline\n",
    "import re\n",
    "from sklearn import linear_model\n",
    "from sklearn import decomposition"
   ]
  },
  {
   "cell_type": "markdown",
   "metadata": {
    "collapsed": false
   },
   "source": [
    "The file explain is a rtf file explaining which variables are numeric and which are categorical. There are 1765 variables, the first being ID and it's part in the explain file does not contain the target string 'the SPSS measurement level is'. The others' part contains either NOMINAL, ORDINAL or SCALE. Only SCALE is numeric.\n",
    "\n",
    "column 'n1842' is epilepsy status"
   ]
  },
  {
   "cell_type": "code",
   "execution_count": 57,
   "metadata": {
    "collapsed": false
   },
   "outputs": [],
   "source": [
    "# file path of explain file\n",
    "explain_path = '/Users/hung-yiwu/Documents/AC209a_project/data/Natl_Child_Dev_0-3_sweep/mrdoc/allissue/ncds0123_ukda_data_dictionary.rtf'\n",
    "\n",
    "# open explain file\n",
    "explain = open(explain_path, 'r')\n",
    "\n",
    "# read the whole file as a single giant string\n",
    "explain_text = explain.read()\n",
    "\n",
    "# target string\n",
    "target_string = 'the SPSS measurement level is'\n",
    "\n",
    "# locate target string in the whole file\n",
    "target_loc = [m.start() for m in re.finditer(target_string, explain_text)]"
   ]
  },
  {
   "cell_type": "code",
   "execution_count": 58,
   "metadata": {
    "collapsed": false,
    "scrolled": false
   },
   "outputs": [],
   "source": [
    "# file path of data file\n",
    "data_path = './Natl_Child_Dev_0-3_sweep/tab/ncds0123.tab'\n",
    "\n",
    "# read data file into Pandas DataFrame\n",
    "# delimiter is tab\n",
    "# use column 'ncdsid' as index\n",
    "data = pd.read_csv(data_path, delimiter='\\t').set_index('ncdsid')"
   ]
  },
  {
   "cell_type": "code",
   "execution_count": 59,
   "metadata": {
    "collapsed": false,
    "scrolled": true
   },
   "outputs": [
    {
     "name": "stdout",
     "output_type": "stream",
     "text": [
      "1650 categorical predictor variables\n",
      "113 numerical predictor variables\n",
      "1763 total predictor variables\n",
      "14517 predictor variables after dummy expansion\n",
      "18558 observations\n"
     ]
    }
   ],
   "source": [
    "# identify categorical variables by target strings in explain file\n",
    "cat_col = []\n",
    "\n",
    "for index, loc in enumerate(target_loc):\n",
    "    # get feature character\n",
    "    char = explain_text[loc+len(target_string)+10]\n",
    "    \n",
    "    if data.columns[index] == 'n1842':\n",
    "        # response variable\n",
    "        continue\n",
    "    elif char == 'O' or char == 'N' or 'region' in data.columns[index]:\n",
    "        # it is SPSS data type ORDINAL or NOMINAL\n",
    "        # it is categorical data\n",
    "        cat_col.append(index)\n",
    "\n",
    "print len(cat_col), 'categorical predictor variables'\n",
    "print len(data.columns)-1-len(cat_col), 'numerical predictor variables'\n",
    "print len(data.columns)-1, 'total predictor variables'\n",
    "\n",
    "# calculate number of variables after dummy expansion\n",
    "col_len = np.zeros(data.shape[1])\n",
    "\n",
    "for index, col in enumerate( data.columns ):\n",
    "    if index in cat_col:\n",
    "        # categorical variable\n",
    "        # require expansion\n",
    "        col_len[index] = len( data[col].unique() )\n",
    "    else:\n",
    "        # numerical variable\n",
    "        # does not require expansion\n",
    "        col_len[index] = 1\n",
    "\n",
    "print int( sum(col_len) )-1, 'predictor variables after dummy expansion'\n",
    "print data.shape[0], 'observations'"
   ]
  },
  {
   "cell_type": "code",
   "execution_count": 60,
   "metadata": {
    "collapsed": false
   },
   "outputs": [],
   "source": [
    "new_columns = []\n",
    "sub_df_list = []\n",
    "\n",
    "for index, col in enumerate(data.columns):\n",
    "    if index in cat_col:\n",
    "        # categorical variable\n",
    "        # dummify\n",
    "        dummies = pd.get_dummies(data[col])\n",
    "        # append value\n",
    "        sub_df_list.append( dummies )\n",
    "        # append column name\n",
    "        new_columns.extend([str(col)+'='+str(value) for value in data[col].unique()])\n",
    "    else:\n",
    "        # numeric variable\n",
    "        # append value\n",
    "        sub_df_list.append( data[col].apply(lambda x: 0 if x == ' ' else float(x)) )\n",
    "        # append column name\n",
    "        new_columns.append(col)\n",
    "        \n",
    "data_expanded = pd.concat( sub_df_list, axis=1 )\n",
    "data_expanded.columns = new_columns"
   ]
  },
  {
   "cell_type": "markdown",
   "metadata": {},
   "source": [
    "Pos. = 353\tVariable = n1842\tVariable label = 12D Epilepsy identification\n",
    "This variable is  numeric, the SPSS measurement level is ORDINAL\n",
    "SPSS user missing values = -1.0 thru -2.0\n",
    "\tValue label information for n1842\n",
    "\tValue = 1.0\tLabel = No convulsiv dis\n",
    "\tValue = 2.0\tLabel = Indef convls dis\n",
    "\tValue = 3.0\tLabel = Faints\n",
    "\tValue = 4.0\tLabel = Hysterical attck\n",
    "\tValue = 5.0\tLabel = Epilepsy\n",
    "\tValue = 6.0\tLabel = Unsubstan epilep\n",
    "\tValue = 7.0\tLabel = Febr convs-prob\n",
    "\tValue = 8.0\tLabel = Febr convs -pos\n",
    "\tValue = 9.0\tLabel = Not diag epilep\n",
    "\tValue = 10.0\tLabel = Febrile convuls\n",
    "\tValue = 11.0\tLabel = Breath-holding\n",
    "\tValue = 12.0\tLabel = Blank-spells\n",
    "\tValue = -1.0\tLabel = Nt epilepsy stdy\n",
    "\tValue = -2.0\tLabel = No NCDS1,NCDS2"
   ]
  },
  {
   "cell_type": "code",
   "execution_count": 61,
   "metadata": {
    "collapsed": false,
    "scrolled": true
   },
   "outputs": [],
   "source": [
    "# separate predictor and response variables\n",
    "y = data_expanded['n1842'].values\n",
    "x = data_expanded.drop('n1842', axis=1).values"
   ]
  },
  {
   "cell_type": "code",
   "execution_count": 62,
   "metadata": {
    "collapsed": false,
    "scrolled": true
   },
   "outputs": [],
   "source": [
    "# binary question: epilepsy or not\n",
    "y_t = np.array( [1 if value == 5 else 0 for value in y] )"
   ]
  },
  {
   "cell_type": "code",
   "execution_count": 63,
   "metadata": {
    "collapsed": true
   },
   "outputs": [],
   "source": [
    "# reduce dimension by pca\n",
    "# already did a full decomposition and decided to use first 4 principal components\n",
    "# decomposition takes time so did not do it twice to show everything\n",
    "pca_model = decomposition.PCA( n_components = 4)\n",
    "x_t = pca_model.fit_transform(x)"
   ]
  },
  {
   "cell_type": "code",
   "execution_count": 64,
   "metadata": {
    "collapsed": false
   },
   "outputs": [
    {
     "data": {
      "image/png": "[encoded data removed]",
      "text/plain": [
       "<matplotlib.figure.Figure at 0x126129690>"
      ]
     },
     "metadata": {},
     "output_type": "display_data"
    }
   ],
   "source": [
    "# visualize principal components contribution\n",
    "plt.plot(np.cumsum(pca_model.explained_variance_ratio_))\n",
    "plt.xlabel('number of principal components used')\n",
    "plt.ylabel('cumulative explained variance ratio')\n",
    "plt.title('first 4 principal components should suffice')\n",
    "plt.show()"
   ]
  },
  {
   "cell_type": "code",
   "execution_count": 65,
   "metadata": {
    "collapsed": false
   },
   "outputs": [],
   "source": [
    "# classify seizure status by multi-class logistic regression with CV\n",
    "model = linear_model.LogisticRegressionCV()\n",
    "model.fit(x_t, y_t)\n",
    "rsq = model.score(x_t, y_t)"
   ]
  },
  {
   "cell_type": "code",
   "execution_count": 70,
   "metadata": {
    "collapsed": false
   },
   "outputs": [
    {
     "name": "stdout",
     "output_type": "stream",
     "text": [
      "(18558, 4)\n",
      "0.996820778101\n"
     ]
    }
   ],
   "source": [
    "print x_t.shape\n",
    "print rsq"
   ]
  },
  {
   "cell_type": "code",
   "execution_count": 69,
   "metadata": {
    "collapsed": false
   },
   "outputs": [
    {
     "data": {
      "text/plain": [
       "[<matplotlib.lines.Line2D at 0x14fe9dbd0>]"
      ]
     },
     "execution_count": 69,
     "metadata": {},
     "output_type": "execute_result"
    },
    {
     "data": {
      "image/png": "[encoded data removed]",
      "text/plain": [
       "<matplotlib.figure.Figure at 0x12616fdd0>"
      ]
     },
     "metadata": {},
     "output_type": "display_data"
    }
   ],
   "source": [
    "coef = model.coef_\n",
    "pc = pca_model.components_\n",
    "importance = np.sum( coef.reshape(4,-1)*pc, axis = 0 )\n",
    "plt.plot( importance )\n",
    "plt.xlabel('predictor variables')\n",
    "plt.ylabel('coefficient')\n",
    "plt.title('some predictors are more important than others')\n",
    "plt.show()"
   ]
  },
  {
   "cell_type": "code",
   "execution_count": null,
   "metadata": {
    "collapsed": true
   },
   "outputs": [],
   "source": [
    "# get top three positive coef\n",
    "\n",
    "# get top three negative coef"
   ]
  }
 ],
 "metadata": {
  "anaconda-cloud": {},
  "kernelspec": {
   "display_name": "Python [conda root]",
   "language": "python",
   "name": "conda-root-py"
  },
  "language_info": {
   "codemirror_mode": {
    "name": "ipython",
    "version": 2
   },
   "file_extension": ".py",
   "mimetype": "text/x-python",
   "name": "python",
   "nbconvert_exporter": "python",
   "pygments_lexer": "ipython2",
   "version": "2.7.12"
  }
 },
 "nbformat": 4,
 "nbformat_minor": 0
}
