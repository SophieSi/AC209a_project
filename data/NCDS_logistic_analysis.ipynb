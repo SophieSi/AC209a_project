{
 "cells": [
  {
   "cell_type": "code",
   "execution_count": 163,
   "metadata": {
    "collapsed": true
   },
   "outputs": [],
   "source": [
    "import numpy as np\n",
    "import pandas as pd\n",
    "import matplotlib.pyplot as plt\n",
    "%matplotlib inline\n",
    "\n",
    "from sklearn.linear_model import LogisticRegressionCV\n",
    "from sklearn.preprocessing import scale\n",
    "from sklearn.metrics import confusion_matrix\n",
    "from sklearn.model_selection import KFold\n",
    "from sklearn.model_selection import GridSearchCV\n",
    "from sklearn.model_selection import train_test_split"
   ]
  },
  {
   "cell_type": "code",
   "execution_count": 164,
   "metadata": {
    "collapsed": true
   },
   "outputs": [],
   "source": [
    "# load data\n",
    "data = pd.read_csv('./born_data.csv')\n",
    "\n",
    "# separate x and y\n",
    "y_df = data.iloc[:, -1].copy()\n",
    "y_df[y_df <> 5] = 0\n",
    "y_df[y_df == 5] = 1\n",
    "x_df = data.iloc[:, 0:-1].copy()"
   ]
  },
  {
   "cell_type": "code",
   "execution_count": 165,
   "metadata": {
    "collapsed": true
   },
   "outputs": [],
   "source": [
    "for col in x_df.columns:\n",
    "    if '11 years' in col or '16 years' in col:\n",
    "        x_df.drop(col, axis = 1, inplace = True)"
   ]
  },
  {
   "cell_type": "code",
   "execution_count": 166,
   "metadata": {
    "collapsed": false
   },
   "outputs": [
    {
     "name": "stdout",
     "output_type": "stream",
     "text": [
      "data shape before dummification/standardization (18558, 64)\n",
      "data shape after dummification/standardization (18558, 532)\n"
     ]
    }
   ],
   "source": [
    "# if more than 15 unique values, then treated as numerical\n",
    "master_list = []\n",
    "\n",
    "for col in x_df.columns:\n",
    "    # get unique count\n",
    "    unique_count = len(x_df[col].unique())\n",
    "    \n",
    "    # numerical variable\n",
    "    if unique_count > 15:\n",
    "        # get a copy for processing\n",
    "        curr_df = pd.DataFrame(x_df[col])\n",
    "        # handle NaN\n",
    "        curr_df[curr_df.isnull()] = -1\n",
    "        # standardize\n",
    "        curr_df = pd.DataFrame(scale(curr_df.values))\n",
    "        # reset index\n",
    "        curr_df.index = x_df.index\n",
    "        # change column label\n",
    "        curr_df.columns = [col]\n",
    "        # append to master list\n",
    "        master_list.append(curr_df)\n",
    "    # categorical variable\n",
    "    else:\n",
    "        # get a copy\n",
    "        curr_df = x_df[col].copy()\n",
    "        # get dummy\n",
    "        # if contains NaN\n",
    "        if curr_df.isnull().values.any():\n",
    "            dummy = pd.get_dummies(curr_df, dummy_na = True)\n",
    "        # if no NaN\n",
    "        else:\n",
    "            dummy = pd.get_dummies(curr_df, dummy_na = False)\n",
    "        # reset columns\n",
    "        dummy.columns = [str(col)+'='+str(value) for value in dummy.columns]\n",
    "        # reset index\n",
    "        dummy.index = x_df.index\n",
    "        # append to master list\n",
    "        master_list.append(dummy)\n",
    "        \n",
    "# concatenate master list\n",
    "x_df_extended = pd.concat(master_list, axis = 1)\n",
    "\n",
    "print 'data shape before dummification/standardization', x_df.shape\n",
    "print 'data shape after dummification/standardization', x_df_extended.shape"
   ]
  },
  {
   "cell_type": "code",
   "execution_count": 167,
   "metadata": {
    "collapsed": false
   },
   "outputs": [],
   "source": [
    "while True:\n",
    "    x_train, x_test, y_train, y_test = train_test_split(\\\n",
    "        x_df_extended.values, y_df.values, test_size = 0.25)\n",
    "    if sum(y_train == 1) > 2 and sum(y_test == 1) > 0:\n",
    "        break\n",
    "    else:\n",
    "        print 'try again'"
   ]
  },
  {
   "cell_type": "code",
   "execution_count": 168,
   "metadata": {
    "collapsed": false
   },
   "outputs": [],
   "source": [
    "weight_list = [{1:value} for value in 10**np.arange(2, 12, 2)]\n",
    "parameters = {'class_weight':weight_list}\n",
    "gscv = GridSearchCV(LogisticRegressionCV(), parameters, scoring = 'roc_auc')\n",
    "gscv.fit(x_train, y_train)\n",
    "best_lr_model = gscv.best_estimator_"
   ]
  },
  {
   "cell_type": "code",
   "execution_count": 169,
   "metadata": {
    "collapsed": false
   },
   "outputs": [
    {
     "name": "stdout",
     "output_type": "stream",
     "text": [
      "most positive variables\n",
      "6.69871788836 1M Maternal illness while pregnantM:C1-2=2.0\n",
      "4.10681223576 0  Duration of labour-1st stage:hours=6.0\n",
      "3.36365911889 0 Interval between this birth and last=6.0\n",
      "3.00421999038 0  Inhalational analgesia=3.0\n",
      "2.97389243636 0 Mother's weight in stones,1958=4.0\n",
      "2.91049333114 0  Total number of antenatal vsits=2.0\n",
      "2.80226269623 0 Abnormality during pregnancy=9.0\n",
      "2.51668443628 Region at NCDS1 (1965) - 7 years=3.0\n",
      "2.47044933444 Region at PMS (1958) - Birth=6.0\n",
      "2.333402798 0 Birthweight-gestational age for sex=5.0\n",
      "2.28337302387 0 Smoking prior to pregnancy=7.0\n",
      "2.17683925142 Region at NCDS1 (1965) - 7 years=6.0\n",
      "2.09527440089 0  Week of mothers 1st antenatal visit=nan\n",
      "2.09064205565 0  Total number of antenatal vsits=5.0\n",
      "2.08931074875 Region at PMS (1958) - Birth=3.0\n",
      "2.07513382664 0 Hrs of work in pregnancy & wk stopped=1.0\n",
      "2.0648116934 0  SEG maternal GPa as mum left school (GRO 1951)=14.0\n",
      "1.9649183145 0 Interval between marriage & 1st birth=3.0\n",
      "1.958993143 0 Week in which mother stopped work=1.0\n",
      "1.90452074358 0 Previous abortions or ectopics=2.0\n",
      "1.88420730219 0 Socio-economic group mother's husband (GRO 1951)=7.0\n"
     ]
    }
   ],
   "source": [
    "# get coefficient\n",
    "coef = best_lr_model.coef_.flatten()\n",
    "\n",
    "most_pos_var_index = np.argsort(coef)[-21:][::-1]\n",
    "most_neg_var_index = np.argsort(coef)[0:3]\n",
    "\n",
    "print 'most positive variables'\n",
    "for index in most_pos_var_index:\n",
    "    print coef[index], x_df_extended.columns[index]"
   ]
  },
  {
   "cell_type": "code",
   "execution_count": 170,
   "metadata": {
    "collapsed": false
   },
   "outputs": [
    {
     "name": "stdout",
     "output_type": "stream",
     "text": [
      "0.999568965517\n",
      "1.0\n",
      "0.0\n"
     ]
    }
   ],
   "source": [
    "best_lr_model = gscv.best_estimator_\n",
    "\n",
    "y_predict = best_lr_model.predict(x_test)\n",
    "cm = confusion_matrix(y_test, y_predict)\n",
    "accuracy_all = best_lr_model.score(x_test, y_test)\n",
    "accuracy_epilepsy = float(cm[1,1])/float(cm[1,0]+cm[1,1])\n",
    "accuracy_healthy = float(cm[0,0])/float(cm[0,0]+cm[0,1])\n",
    "\n",
    "print accuracy_all\n",
    "print accuracy_healthy\n",
    "print accuracy_epilepsy"
   ]
  },
  {
   "cell_type": "code",
   "execution_count": 171,
   "metadata": {
    "collapsed": false
   },
   "outputs": [
    {
     "name": "stdout",
     "output_type": "stream",
     "text": [
      "[[4638    0]\n",
      " [   2    0]]\n"
     ]
    }
   ],
   "source": [
    "print cm"
   ]
  },
  {
   "cell_type": "code",
   "execution_count": 172,
   "metadata": {
    "collapsed": false
   },
   "outputs": [
    {
     "name": "stdout",
     "output_type": "stream",
     "text": [
      "{'class_weight': {1: 10000000000}}\n",
      "0.891444272778\n"
     ]
    }
   ],
   "source": [
    "print gscv.best_params_\n",
    "print gscv.best_score_"
   ]
  },
  {
   "cell_type": "code",
   "execution_count": null,
   "metadata": {
    "collapsed": true
   },
   "outputs": [],
   "source": [
    "y_df."
   ]
  },
  {
   "cell_type": "code",
   "execution_count": 173,
   "metadata": {
    "collapsed": true
   },
   "outputs": [],
   "source": [
    "#a function to deliver comparation\n",
    "def compare(name):\n",
    "    #ratio and count among whole population\n",
    "    print pd.to_numeric(data[name],errors='coerce').value_counts()/pd.to_numeric(data[name],errors='coerce').value_counts().sum()\n",
    "    print data[name].value_counts()\n",
    "    \n",
    "    #ratio and count among epilepsy patients\n",
    "    print epi[name].value_counts()/epi[name].value_counts().sum()\n",
    "    print epi[name].value_counts()"
   ]
  },
  {
   "cell_type": "code",
   "execution_count": 174,
   "metadata": {
    "collapsed": false,
    "scrolled": true
   },
   "outputs": [
    {
     "name": "stdout",
     "output_type": "stream",
     "text": [
      "10.0    0.568194\n",
      "1.0     0.330745\n",
      "2.0     0.082627\n",
      "3.0     0.018375\n",
      "4.0     0.000059\n",
      "Name: 0  Mums min. haemoglobin while pregnant, dtype: float64\n",
      "10.0    9586\n",
      "1.0     5580\n",
      "2.0     1394\n",
      "3.0      310\n",
      "4.0        1\n",
      "Name: 0  Mums min. haemoglobin while pregnant, dtype: int64\n"
     ]
    },
    {
     "ename": "NameError",
     "evalue": "global name 'epi' is not defined",
     "output_type": "error",
     "traceback": [
      "\u001b[0;31m---------------------------------------------------------------------------\u001b[0m",
      "\u001b[0;31mNameError\u001b[0m                                 Traceback (most recent call last)",
      "\u001b[0;32m<ipython-input-174-034c7d6eabe3>\u001b[0m in \u001b[0;36m<module>\u001b[0;34m()\u001b[0m\n\u001b[0;32m----> 1\u001b[0;31m \u001b[0mcompare\u001b[0m\u001b[0;34m(\u001b[0m\u001b[0;34m\"0  Mums min. haemoglobin while pregnant\"\u001b[0m\u001b[0;34m)\u001b[0m\u001b[0;34m\u001b[0m\u001b[0m\n\u001b[0m",
      "\u001b[0;32m<ipython-input-173-3f1b01d9244a>\u001b[0m in \u001b[0;36mcompare\u001b[0;34m(name)\u001b[0m\n\u001b[1;32m      6\u001b[0m \u001b[0;34m\u001b[0m\u001b[0m\n\u001b[1;32m      7\u001b[0m     \u001b[0;31m#ratio and count among epilepsy patients\u001b[0m\u001b[0;34m\u001b[0m\u001b[0;34m\u001b[0m\u001b[0m\n\u001b[0;32m----> 8\u001b[0;31m     \u001b[0;32mprint\u001b[0m \u001b[0mepi\u001b[0m\u001b[0;34m[\u001b[0m\u001b[0mname\u001b[0m\u001b[0;34m]\u001b[0m\u001b[0;34m.\u001b[0m\u001b[0mvalue_counts\u001b[0m\u001b[0;34m(\u001b[0m\u001b[0;34m)\u001b[0m\u001b[0;34m/\u001b[0m\u001b[0mepi\u001b[0m\u001b[0;34m[\u001b[0m\u001b[0mname\u001b[0m\u001b[0;34m]\u001b[0m\u001b[0;34m.\u001b[0m\u001b[0mvalue_counts\u001b[0m\u001b[0;34m(\u001b[0m\u001b[0;34m)\u001b[0m\u001b[0;34m.\u001b[0m\u001b[0msum\u001b[0m\u001b[0;34m(\u001b[0m\u001b[0;34m)\u001b[0m\u001b[0;34m\u001b[0m\u001b[0m\n\u001b[0m\u001b[1;32m      9\u001b[0m     \u001b[0;32mprint\u001b[0m \u001b[0mepi\u001b[0m\u001b[0;34m[\u001b[0m\u001b[0mname\u001b[0m\u001b[0;34m]\u001b[0m\u001b[0;34m.\u001b[0m\u001b[0mvalue_counts\u001b[0m\u001b[0;34m(\u001b[0m\u001b[0;34m)\u001b[0m\u001b[0;34m\u001b[0m\u001b[0m\n",
      "\u001b[0;31mNameError\u001b[0m: global name 'epi' is not defined"
     ]
    }
   ],
   "source": [
    "compare(\"0  Mums min. haemoglobin while pregnant\")"
   ]
  }
 ],
 "metadata": {
  "anaconda-cloud": {},
  "kernelspec": {
   "display_name": "Python [conda root]",
   "language": "python",
   "name": "conda-root-py"
  },
  "language_info": {
   "codemirror_mode": {
    "name": "ipython",
    "version": 2
   },
   "file_extension": ".py",
   "mimetype": "text/x-python",
   "name": "python",
   "nbconvert_exporter": "python",
   "pygments_lexer": "ipython2",
   "version": "2.7.12"
  }
 },
 "nbformat": 4,
 "nbformat_minor": 1
}
