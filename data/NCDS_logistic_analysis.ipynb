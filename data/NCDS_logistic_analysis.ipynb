{
 "cells": [
  {
   "cell_type": "code",
   "execution_count": 274,
   "metadata": {
    "collapsed": true
   },
   "outputs": [],
   "source": [
    "import numpy as np\n",
    "import pandas as pd\n",
    "import matplotlib.pyplot as plt\n",
    "%matplotlib inline\n",
    "\n",
    "from sklearn.linear_model import LogisticRegressionCV\n",
    "from sklearn.preprocessing import scale\n",
    "from sklearn.metrics import confusion_matrix\n",
    "from sklearn.model_selection import KFold\n",
    "from sklearn.model_selection import GridSearchCV\n",
    "from sklearn.model_selection import train_test_split"
   ]
  },
  {
   "cell_type": "code",
   "execution_count": 275,
   "metadata": {
    "collapsed": true
   },
   "outputs": [],
   "source": [
    "# load data\n",
    "data = pd.read_csv('./born_data.csv')\n",
    "\n",
    "# separate x and y\n",
    "y_label = '12D Epilepsy identification'\n",
    "y_df = data[y_label].copy()\n",
    "y_df[y_df <> 5] = 0\n",
    "y_df[y_df == 5] = 1\n",
    "x_df = data.drop(y_label, axis = 1).copy()"
   ]
  },
  {
   "cell_type": "code",
   "execution_count": 276,
   "metadata": {
    "collapsed": true
   },
   "outputs": [],
   "source": [
    "for col in x_df.columns:\n",
    "    if '11 years' in col or '16 years' in col:\n",
    "        x_df.drop(col, axis = 1, inplace = True)"
   ]
  },
  {
   "cell_type": "code",
   "execution_count": 277,
   "metadata": {
    "collapsed": false
   },
   "outputs": [
    {
     "name": "stdout",
     "output_type": "stream",
     "text": [
      "data shape before dummification/standardization (18558, 64)\n",
      "data shape after dummification/standardization (18558, 523)\n"
     ]
    }
   ],
   "source": [
    "# if more than 15 unique values, then treated as numerical\n",
    "master_list = []\n",
    "\n",
    "for col in x_df.columns:\n",
    "    # get unique count\n",
    "    unique_count = len(x_df[col].unique())\n",
    "    \n",
    "    # numerical variable\n",
    "    if unique_count > 15:\n",
    "        # get a copy for processing\n",
    "        curr_df = pd.DataFrame(x_df[col])\n",
    "        # handle NaN\n",
    "        curr_df[curr_df.isnull()] = -1\n",
    "        # standardize\n",
    "        curr_df = pd.DataFrame(scale(curr_df.values))\n",
    "        # reset index\n",
    "        curr_df.index = x_df.index\n",
    "        # change column label\n",
    "        curr_df.columns = [col]\n",
    "        # append to master list\n",
    "        master_list.append(curr_df)\n",
    "    # categorical variable\n",
    "    else:\n",
    "        # get a copy\n",
    "        curr_df = x_df[col].copy()\n",
    "        # get dummy\n",
    "        # if contains NaN\n",
    "        if curr_df.isnull().values.any():\n",
    "            dummy = pd.get_dummies(curr_df, dummy_na = True)\n",
    "        # if no NaN\n",
    "        else:\n",
    "            dummy = pd.get_dummies(curr_df, dummy_na = False)\n",
    "        # reset columns\n",
    "        dummy.columns = [str(col)+'='+str(value) for value in dummy.columns]\n",
    "        # reset index\n",
    "        dummy.index = x_df.index\n",
    "        # append to master list\n",
    "        master_list.append(dummy)\n",
    "        \n",
    "# concatenate master list\n",
    "x_df_extended = pd.concat(master_list, axis = 1)\n",
    "\n",
    "print 'data shape before dummification/standardization', x_df.shape\n",
    "print 'data shape after dummification/standardization', x_df_extended.shape"
   ]
  },
  {
   "cell_type": "code",
   "execution_count": 278,
   "metadata": {
    "collapsed": true
   },
   "outputs": [],
   "source": [
    "def scorer(estimator, x, y):\n",
    "    y_predict = estimator.predict(x)\n",
    "    cm = confusion_matrix(y, y_predict)\n",
    "    accuracy_all = estimator.score(x, y)\n",
    "    accuracy_healthy = float(cm[0,0])/float(cm[0,0]+cm[0,1])\n",
    "    accuracy_epilepsy = float(cm[1,1])/float(cm[1,0]+cm[1,1])\n",
    "    return accuracy_all * accuracy_healthy * accuracy_epilepsy"
   ]
  },
  {
   "cell_type": "code",
   "execution_count": 279,
   "metadata": {
    "collapsed": false
   },
   "outputs": [],
   "source": [
    "weight_list = [{1:value} for value in 10**np.arange(2, 12, 2)]\n",
    "parameters = {'class_weight':weight_list}\n",
    "gscv = GridSearchCV(LogisticRegressionCV(), parameters, scoring = 'precision_macro')\n",
    "gscv.fit(x_df_extended.values, y_df.values)\n",
    "best_lr_model = gscv.best_estimator_"
   ]
  },
  {
   "cell_type": "code",
   "execution_count": 280,
   "metadata": {
    "collapsed": false
   },
   "outputs": [
    {
     "name": "stdout",
     "output_type": "stream",
     "text": [
      "most positive variables\n",
      "51.472630467 0 Socio-economic group mother's husband (GRO 1951)=11.0\n",
      "49.2220779015 0  Mothers blood group=nan\n",
      "42.0422451964 0  Delivery-Supervision Groups=1.0\n",
      "38.565878639 0 Smoking prior to pregnancy=1.0\n",
      "27.6229317109 0  Whether labour induced=4.0\n",
      "27.4683443145 0 Parity=9.0\n",
      "27.3891800318 0 Socio-economic group mother's husband (GRO 1951)=2.0\n",
      "24.8215501398 0  Duration membranes ruptured-hours=7.0\n",
      "24.1722542549 0 Socio-economic group mother's husband (GRO 1951)=5.0\n",
      "24.1114142671 0 Abnormality during pregnancy=8.0\n",
      "23.9541580104 Region at NCDS1 (1965) - 7 years=6.0\n",
      "23.9045859287 0  Siblings alive when mum left school=5.0\n",
      "22.5402091956 0 M Number of persons per room=4.0\n",
      "22.0050928736 0 Mother's weight in stones,1958=6.0\n",
      "21.9002429848 0 Birthweight-gestational age for sex=2.0\n",
      "20.8652875024 0  Whether labour induced=6.0\n",
      "20.541892089 0  Birth order-all mums siblings=4.0\n",
      "20.4253993097 0 Mother's present marital status=2.0\n",
      "19.559796726 0 Parity=7.0\n",
      "19.1905472226 Region at NCDS1 (1965) - 7 years=9.0\n",
      "19.1594297547 0  Delivery-Supervision Groups=8.0\n"
     ]
    }
   ],
   "source": [
    "# get coefficient\n",
    "coef = best_lr_model.coef_.flatten()\n",
    "\n",
    "most_pos_var_index = np.argsort(coef)[-21:][::-1]\n",
    "most_neg_var_index = np.argsort(coef)[0:3]\n",
    "\n",
    "print 'most positive variables'\n",
    "for index in most_pos_var_index:\n",
    "    print coef[index], x_df_extended.columns[index]"
   ]
  },
  {
   "cell_type": "code",
   "execution_count": 281,
   "metadata": {
    "collapsed": false
   },
   "outputs": [
    {
     "name": "stdout",
     "output_type": "stream",
     "text": [
      "accuracy_all         0.975267\n",
      "accuracy_healthy     0.978268\n",
      "accuracy_epilepsy    0.050000\n",
      "dtype: float64\n"
     ]
    }
   ],
   "source": [
    "best_lr_model = gscv.best_estimator_\n",
    "kf = KFold(n_splits = 3)\n",
    "adf = pd.DataFrame({}, columns = ['accuracy_all', 'accuracy_healthy', 'accuracy_epilepsy'])\n",
    "index = 0\n",
    "\n",
    "for train_index, test_index in kf.split(x_df_extended.values):\n",
    "    x_train = x_df_extended.values[train_index, :]\n",
    "    x_test = x_df_extended.values[test_index, :]\n",
    "    y_train = y_df.values[train_index]\n",
    "    y_test = y_df.values[test_index]\n",
    "    \n",
    "    best_lr_model.fit(x_train, y_train)\n",
    "    \n",
    "    y_predict = best_lr_model.predict(x_test)\n",
    "    cm = confusion_matrix(y_test, y_predict)\n",
    "    accuracy_all = best_lr_model.score(x_test, y_test)\n",
    "    accuracy_epilepsy = float(cm[1,1])/float(cm[1,0]+cm[1,1])\n",
    "    accuracy_healthy = float(cm[0,0])/float(cm[0,0]+cm[0,1])\n",
    "    \n",
    "    adf.loc[index] = [accuracy_all, accuracy_healthy, accuracy_epilepsy]\n",
    "\n",
    "print adf.mean()"
   ]
  },
  {
   "cell_type": "code",
   "execution_count": 282,
   "metadata": {
    "collapsed": false
   },
   "outputs": [
    {
     "name": "stdout",
     "output_type": "stream",
     "text": [
      "{'class_weight': {1: 100000000}}\n",
      "0.504158045901\n"
     ]
    }
   ],
   "source": [
    "print gscv.best_params_\n",
    "print gscv.best_score_"
   ]
  }
 ],
 "metadata": {
  "anaconda-cloud": {},
  "kernelspec": {
   "display_name": "Python [conda root]",
   "language": "python",
   "name": "conda-root-py"
  },
  "language_info": {
   "codemirror_mode": {
    "name": "ipython",
    "version": 2
   },
   "file_extension": ".py",
   "mimetype": "text/x-python",
   "name": "python",
   "nbconvert_exporter": "python",
   "pygments_lexer": "ipython2",
   "version": "2.7.12"
  }
 },
 "nbformat": 4,
 "nbformat_minor": 1
}
