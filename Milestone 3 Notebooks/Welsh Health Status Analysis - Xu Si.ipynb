{
 "cells": [
  {
   "cell_type": "markdown",
   "metadata": {},
   "source": [
    "# Data Analysis by Xu Si"
   ]
  },
  {
   "cell_type": "markdown",
   "metadata": {},
   "source": [
    "The dataset is obtained from UKDS https://discover.ukdataservice.ac.uk/catalogue/?sn=7841&type=Data%20catalogue#documentation\n",
    "\n",
    "The Welsh Health Survey (WHS) collects information about the health of people living in Wales, which is based on a representative sample of adults aged 16 and over living in private households in Wales. In addition, up to two children aged 0 to 15 were randomly selected from each household.\n",
    "\n",
    "My objective is to mainly look at the adults group and see what are the key factors for epilepsy disease."
   ]
  },
  {
   "cell_type": "code",
   "execution_count": 139,
   "metadata": {
    "collapsed": true
   },
   "outputs": [],
   "source": [
    "import pandas as pd\n",
    "import numpy as np\n",
    "import matplotlib.pyplot as plt\n",
    "import re\n",
    "from sklearn.linear_model import LogisticRegressionCV as LogRegCV\n",
    "%matplotlib inline"
   ]
  },
  {
   "cell_type": "code",
   "execution_count": 140,
   "metadata": {
    "collapsed": false,
    "scrolled": true
   },
   "outputs": [
    {
     "data": {
      "text/html": [
       "<div>\n",
       "<table border=\"1\" class=\"dataframe\">\n",
       "  <thead>\n",
       "    <tr style=\"text-align: right;\">\n",
       "      <th></th>\n",
       "      <th>archhsn</th>\n",
       "      <th>archpsn</th>\n",
       "      <th>tenure3</th>\n",
       "      <th>hhdtypb</th>\n",
       "      <th>nssec8</th>\n",
       "      <th>nssec5</th>\n",
       "      <th>nssec3</th>\n",
       "      <th>hhchild</th>\n",
       "      <th>region</th>\n",
       "      <th>whsyear</th>\n",
       "      <th>...</th>\n",
       "      <th>exvigno</th>\n",
       "      <th>exerv</th>\n",
       "      <th>exercise</th>\n",
       "      <th>exergrp</th>\n",
       "      <th>exergrp5</th>\n",
       "      <th>exerstr</th>\n",
       "      <th>exer0</th>\n",
       "      <th>noex</th>\n",
       "      <th>wt_hhold</th>\n",
       "      <th>wt_adult</th>\n",
       "    </tr>\n",
       "  </thead>\n",
       "  <tbody>\n",
       "    <tr>\n",
       "      <th>0</th>\n",
       "      <td>1001011</td>\n",
       "      <td>100101101</td>\n",
       "      <td>1</td>\n",
       "      <td>7</td>\n",
       "      <td>6</td>\n",
       "      <td>5</td>\n",
       "      <td>3</td>\n",
       "      <td>2</td>\n",
       "      <td>2</td>\n",
       "      <td>11</td>\n",
       "      <td>...</td>\n",
       "      <td>0</td>\n",
       "      <td>4</td>\n",
       "      <td>1</td>\n",
       "      <td>2</td>\n",
       "      <td>5</td>\n",
       "      <td>3</td>\n",
       "      <td>0</td>\n",
       "      <td>1</td>\n",
       "      <td>1.342344</td>\n",
       "      <td>1.132830</td>\n",
       "    </tr>\n",
       "    <tr>\n",
       "      <th>1</th>\n",
       "      <td>1001021</td>\n",
       "      <td>100102101</td>\n",
       "      <td>3</td>\n",
       "      <td>2</td>\n",
       "      <td>2</td>\n",
       "      <td>1</td>\n",
       "      <td>1</td>\n",
       "      <td>2</td>\n",
       "      <td>2</td>\n",
       "      <td>11</td>\n",
       "      <td>...</td>\n",
       "      <td>0</td>\n",
       "      <td>3</td>\n",
       "      <td>0</td>\n",
       "      <td>1</td>\n",
       "      <td>4</td>\n",
       "      <td>3</td>\n",
       "      <td>0</td>\n",
       "      <td>1</td>\n",
       "      <td>1.759103</td>\n",
       "      <td>2.053860</td>\n",
       "    </tr>\n",
       "    <tr>\n",
       "      <th>2</th>\n",
       "      <td>1001021</td>\n",
       "      <td>100102102</td>\n",
       "      <td>3</td>\n",
       "      <td>2</td>\n",
       "      <td>2</td>\n",
       "      <td>1</td>\n",
       "      <td>1</td>\n",
       "      <td>2</td>\n",
       "      <td>2</td>\n",
       "      <td>11</td>\n",
       "      <td>...</td>\n",
       "      <td>0</td>\n",
       "      <td>7</td>\n",
       "      <td>1</td>\n",
       "      <td>2</td>\n",
       "      <td>5</td>\n",
       "      <td>3</td>\n",
       "      <td>0</td>\n",
       "      <td>1</td>\n",
       "      <td>1.759103</td>\n",
       "      <td>2.565752</td>\n",
       "    </tr>\n",
       "    <tr>\n",
       "      <th>3</th>\n",
       "      <td>1001041</td>\n",
       "      <td>100104101</td>\n",
       "      <td>3</td>\n",
       "      <td>3</td>\n",
       "      <td>-9</td>\n",
       "      <td>-9</td>\n",
       "      <td>-9</td>\n",
       "      <td>1</td>\n",
       "      <td>2</td>\n",
       "      <td>11</td>\n",
       "      <td>...</td>\n",
       "      <td>1</td>\n",
       "      <td>0</td>\n",
       "      <td>0</td>\n",
       "      <td>1</td>\n",
       "      <td>4</td>\n",
       "      <td>2</td>\n",
       "      <td>0</td>\n",
       "      <td>1</td>\n",
       "      <td>1.465895</td>\n",
       "      <td>1.783198</td>\n",
       "    </tr>\n",
       "    <tr>\n",
       "      <th>4</th>\n",
       "      <td>1001061</td>\n",
       "      <td>100106101</td>\n",
       "      <td>3</td>\n",
       "      <td>1</td>\n",
       "      <td>6</td>\n",
       "      <td>5</td>\n",
       "      <td>3</td>\n",
       "      <td>2</td>\n",
       "      <td>2</td>\n",
       "      <td>11</td>\n",
       "      <td>...</td>\n",
       "      <td>1</td>\n",
       "      <td>0</td>\n",
       "      <td>0</td>\n",
       "      <td>0</td>\n",
       "      <td>0</td>\n",
       "      <td>0</td>\n",
       "      <td>1</td>\n",
       "      <td>0</td>\n",
       "      <td>1.314582</td>\n",
       "      <td>1.349142</td>\n",
       "    </tr>\n",
       "  </tbody>\n",
       "</table>\n",
       "<p>5 rows × 468 columns</p>\n",
       "</div>"
      ],
      "text/plain": [
       "   archhsn    archpsn  tenure3  hhdtypb  nssec8  nssec5  nssec3  hhchild  \\\n",
       "0  1001011  100101101        1        7       6       5       3        2   \n",
       "1  1001021  100102101        3        2       2       1       1        2   \n",
       "2  1001021  100102102        3        2       2       1       1        2   \n",
       "3  1001041  100104101        3        3      -9      -9      -9        1   \n",
       "4  1001061  100106101        3        1       6       5       3        2   \n",
       "\n",
       "   region  whsyear    ...     exvigno  exerv  exercise  exergrp  exergrp5  \\\n",
       "0       2       11    ...           0      4         1        2         5   \n",
       "1       2       11    ...           0      3         0        1         4   \n",
       "2       2       11    ...           0      7         1        2         5   \n",
       "3       2       11    ...           1      0         0        1         4   \n",
       "4       2       11    ...           1      0         0        0         0   \n",
       "\n",
       "   exerstr  exer0  noex  wt_hhold  wt_adult  \n",
       "0        3      0     1  1.342344  1.132830  \n",
       "1        3      0     1  1.759103  2.053860  \n",
       "2        3      0     1  1.759103  2.565752  \n",
       "3        2      0     1  1.465895  1.783198  \n",
       "4        0      1     0  1.314582  1.349142  \n",
       "\n",
       "[5 rows x 468 columns]"
      ]
     },
     "execution_count": 140,
     "metadata": {},
     "output_type": "execute_result"
    }
   ],
   "source": [
    "data = pd.read_csv(\"Welsh Health Status/tab/whs_2014_adult_archive.tab\", delimiter='\\t')\n",
    "data.head()"
   ]
  },
  {
   "cell_type": "markdown",
   "metadata": {},
   "source": [
    "# Data cleaning"
   ]
  },
  {
   "cell_type": "code",
   "execution_count": 141,
   "metadata": {
    "collapsed": false
   },
   "outputs": [
    {
     "data": {
      "text/html": [
       "<div>\n",
       "<table border=\"1\" class=\"dataframe\">\n",
       "  <thead>\n",
       "    <tr style=\"text-align: right;\">\n",
       "      <th></th>\n",
       "      <th>archhsn</th>\n",
       "      <th>archpsn</th>\n",
       "      <th>tenure3</th>\n",
       "      <th>hhdtypb</th>\n",
       "      <th>nssec8</th>\n",
       "      <th>nssec5</th>\n",
       "      <th>nssec3</th>\n",
       "      <th>hhchild</th>\n",
       "      <th>region</th>\n",
       "      <th>whsyear</th>\n",
       "      <th>...</th>\n",
       "      <th>exvigno</th>\n",
       "      <th>exerv</th>\n",
       "      <th>exercise</th>\n",
       "      <th>exergrp</th>\n",
       "      <th>exergrp5</th>\n",
       "      <th>exerstr</th>\n",
       "      <th>exer0</th>\n",
       "      <th>noex</th>\n",
       "      <th>wt_hhold</th>\n",
       "      <th>wt_adult</th>\n",
       "    </tr>\n",
       "  </thead>\n",
       "  <tbody>\n",
       "    <tr>\n",
       "      <th>0</th>\n",
       "      <td>1001011</td>\n",
       "      <td>100101101</td>\n",
       "      <td>1</td>\n",
       "      <td>7</td>\n",
       "      <td>6</td>\n",
       "      <td>5</td>\n",
       "      <td>3</td>\n",
       "      <td>2</td>\n",
       "      <td>2</td>\n",
       "      <td>11</td>\n",
       "      <td>...</td>\n",
       "      <td>0</td>\n",
       "      <td>4</td>\n",
       "      <td>1</td>\n",
       "      <td>2</td>\n",
       "      <td>5</td>\n",
       "      <td>3</td>\n",
       "      <td>0</td>\n",
       "      <td>1</td>\n",
       "      <td>1.342344</td>\n",
       "      <td>1.132830</td>\n",
       "    </tr>\n",
       "    <tr>\n",
       "      <th>1</th>\n",
       "      <td>1001021</td>\n",
       "      <td>100102101</td>\n",
       "      <td>3</td>\n",
       "      <td>2</td>\n",
       "      <td>2</td>\n",
       "      <td>1</td>\n",
       "      <td>1</td>\n",
       "      <td>2</td>\n",
       "      <td>2</td>\n",
       "      <td>11</td>\n",
       "      <td>...</td>\n",
       "      <td>0</td>\n",
       "      <td>3</td>\n",
       "      <td>0</td>\n",
       "      <td>1</td>\n",
       "      <td>4</td>\n",
       "      <td>3</td>\n",
       "      <td>0</td>\n",
       "      <td>1</td>\n",
       "      <td>1.759103</td>\n",
       "      <td>2.053860</td>\n",
       "    </tr>\n",
       "    <tr>\n",
       "      <th>2</th>\n",
       "      <td>1001021</td>\n",
       "      <td>100102102</td>\n",
       "      <td>3</td>\n",
       "      <td>2</td>\n",
       "      <td>2</td>\n",
       "      <td>1</td>\n",
       "      <td>1</td>\n",
       "      <td>2</td>\n",
       "      <td>2</td>\n",
       "      <td>11</td>\n",
       "      <td>...</td>\n",
       "      <td>0</td>\n",
       "      <td>7</td>\n",
       "      <td>1</td>\n",
       "      <td>2</td>\n",
       "      <td>5</td>\n",
       "      <td>3</td>\n",
       "      <td>0</td>\n",
       "      <td>1</td>\n",
       "      <td>1.759103</td>\n",
       "      <td>2.565752</td>\n",
       "    </tr>\n",
       "    <tr>\n",
       "      <th>3</th>\n",
       "      <td>1001041</td>\n",
       "      <td>100104101</td>\n",
       "      <td>3</td>\n",
       "      <td>3</td>\n",
       "      <td>-9</td>\n",
       "      <td>-9</td>\n",
       "      <td>-9</td>\n",
       "      <td>1</td>\n",
       "      <td>2</td>\n",
       "      <td>11</td>\n",
       "      <td>...</td>\n",
       "      <td>1</td>\n",
       "      <td>0</td>\n",
       "      <td>0</td>\n",
       "      <td>1</td>\n",
       "      <td>4</td>\n",
       "      <td>2</td>\n",
       "      <td>0</td>\n",
       "      <td>1</td>\n",
       "      <td>1.465895</td>\n",
       "      <td>1.783198</td>\n",
       "    </tr>\n",
       "    <tr>\n",
       "      <th>4</th>\n",
       "      <td>1001061</td>\n",
       "      <td>100106101</td>\n",
       "      <td>3</td>\n",
       "      <td>1</td>\n",
       "      <td>6</td>\n",
       "      <td>5</td>\n",
       "      <td>3</td>\n",
       "      <td>2</td>\n",
       "      <td>2</td>\n",
       "      <td>11</td>\n",
       "      <td>...</td>\n",
       "      <td>1</td>\n",
       "      <td>0</td>\n",
       "      <td>0</td>\n",
       "      <td>0</td>\n",
       "      <td>0</td>\n",
       "      <td>0</td>\n",
       "      <td>1</td>\n",
       "      <td>0</td>\n",
       "      <td>1.314582</td>\n",
       "      <td>1.349142</td>\n",
       "    </tr>\n",
       "  </tbody>\n",
       "</table>\n",
       "<p>5 rows × 468 columns</p>\n",
       "</div>"
      ],
      "text/plain": [
       "   archhsn    archpsn  tenure3  hhdtypb  nssec8  nssec5  nssec3  hhchild  \\\n",
       "0  1001011  100101101        1        7       6       5       3        2   \n",
       "1  1001021  100102101        3        2       2       1       1        2   \n",
       "2  1001021  100102102        3        2       2       1       1        2   \n",
       "3  1001041  100104101        3        3      -9      -9      -9        1   \n",
       "4  1001061  100106101        3        1       6       5       3        2   \n",
       "\n",
       "   region  whsyear    ...     exvigno  exerv  exercise  exergrp  exergrp5  \\\n",
       "0       2       11    ...           0      4         1        2         5   \n",
       "1       2       11    ...           0      3         0        1         4   \n",
       "2       2       11    ...           0      7         1        2         5   \n",
       "3       2       11    ...           1      0         0        1         4   \n",
       "4       2       11    ...           1      0         0        0         0   \n",
       "\n",
       "   exerstr  exer0  noex  wt_hhold  wt_adult  \n",
       "0        3      0     1  1.342344  1.132830  \n",
       "1        3      0     1  1.759103  2.053860  \n",
       "2        3      0     1  1.759103  2.565752  \n",
       "3        2      0     1  1.465895  1.783198  \n",
       "4        0      1     0  1.314582  1.349142  \n",
       "\n",
       "[5 rows x 468 columns]"
      ]
     },
     "execution_count": 141,
     "metadata": {},
     "output_type": "execute_result"
    }
   ],
   "source": [
    "data.head()"
   ]
  },
  {
   "cell_type": "markdown",
   "metadata": {},
   "source": [
    "Let us have a look at a scale predictor and a nominal predictor"
   ]
  },
  {
   "cell_type": "code",
   "execution_count": 120,
   "metadata": {
    "collapsed": false
   },
   "outputs": [
    {
     "name": "stdout",
     "output_type": "stream",
     "text": [
      "Number of Predictors:  468\n",
      "Adult Population Size:  14170\n"
     ]
    }
   ],
   "source": [
    "print \"Number of Predictors: \", data.shape[1]\n",
    "print \"Adult Population Size: \", data.shape[0]"
   ]
  },
  {
   "cell_type": "code",
   "execution_count": 121,
   "metadata": {
    "collapsed": false
   },
   "outputs": [
    {
     "data": {
      "text/html": [
       "<div>\n",
       "<table border=\"1\" class=\"dataframe\">\n",
       "  <thead>\n",
       "    <tr style=\"text-align: right;\">\n",
       "      <th></th>\n",
       "      <th>wtkg</th>\n",
       "    </tr>\n",
       "  </thead>\n",
       "  <tbody>\n",
       "    <tr>\n",
       "      <th>0</th>\n",
       "      <td>80.29</td>\n",
       "    </tr>\n",
       "    <tr>\n",
       "      <th>1</th>\n",
       "      <td>73.94</td>\n",
       "    </tr>\n",
       "    <tr>\n",
       "      <th>2</th>\n",
       "      <td>88.91</td>\n",
       "    </tr>\n",
       "    <tr>\n",
       "      <th>3</th>\n",
       "      <td>102.97</td>\n",
       "    </tr>\n",
       "    <tr>\n",
       "      <th>4</th>\n",
       "      <td>50.80</td>\n",
       "    </tr>\n",
       "  </tbody>\n",
       "</table>\n",
       "</div>"
      ],
      "text/plain": [
       "     wtkg\n",
       "0   80.29\n",
       "1   73.94\n",
       "2   88.91\n",
       "3  102.97\n",
       "4   50.80"
      ]
     },
     "execution_count": 121,
     "metadata": {},
     "output_type": "execute_result"
    }
   ],
   "source": [
    "#a scale predictor \"weight\"\n",
    "data[[\"wtkg\"]].head()"
   ]
  },
  {
   "cell_type": "code",
   "execution_count": 122,
   "metadata": {
    "collapsed": false,
    "scrolled": true
   },
   "outputs": [
    {
     "data": {
      "text/html": [
       "<div>\n",
       "<table border=\"1\" class=\"dataframe\">\n",
       "  <thead>\n",
       "    <tr style=\"text-align: right;\">\n",
       "      <th></th>\n",
       "      <th>hhchild</th>\n",
       "    </tr>\n",
       "  </thead>\n",
       "  <tbody>\n",
       "    <tr>\n",
       "      <th>0</th>\n",
       "      <td>2</td>\n",
       "    </tr>\n",
       "    <tr>\n",
       "      <th>1</th>\n",
       "      <td>2</td>\n",
       "    </tr>\n",
       "    <tr>\n",
       "      <th>2</th>\n",
       "      <td>2</td>\n",
       "    </tr>\n",
       "    <tr>\n",
       "      <th>3</th>\n",
       "      <td>1</td>\n",
       "    </tr>\n",
       "    <tr>\n",
       "      <th>4</th>\n",
       "      <td>2</td>\n",
       "    </tr>\n",
       "  </tbody>\n",
       "</table>\n",
       "</div>"
      ],
      "text/plain": [
       "   hhchild\n",
       "0        2\n",
       "1        2\n",
       "2        2\n",
       "3        1\n",
       "4        2"
      ]
     },
     "execution_count": 122,
     "metadata": {},
     "output_type": "execute_result"
    }
   ],
   "source": [
    "# a nominal predictor \n",
    "data[[\"hhchild\"]].head()"
   ]
  },
  {
   "cell_type": "markdown",
   "metadata": {},
   "source": [
    "Now we need to filter out the observations that is sure to have/not have epilepsy."
   ]
  },
  {
   "cell_type": "code",
   "execution_count": 179,
   "metadata": {
    "collapsed": false
   },
   "outputs": [
    {
     "name": "stdout",
     "output_type": "stream",
     "text": [
      "(13393, 468)\n"
     ]
    }
   ],
   "source": [
    "#filter the data, \n",
    "epi = data[data[\"epibi\"] >= 0]\n",
    "print epi.shape"
   ]
  },
  {
   "cell_type": "markdown",
   "metadata": {},
   "source": [
    "Find and get dummies for the nominal predictors."
   ]
  },
  {
   "cell_type": "code",
   "execution_count": 143,
   "metadata": {
    "collapsed": false
   },
   "outputs": [],
   "source": [
    "#get dummies for the nominal predictors\n",
    "f = open(\"Welsh Health Status/mrdoc/allissue/whs_2014_adult_archive_ukda_data_dictionary.rtf\", 'r')\n",
    "info = f.read()  \n",
    "\n",
    "#set target string \n",
    "target_string = 'the SPSS measurement level is'\n",
    "# locate target string in the whole file\n",
    "target_loc = [m.start() for m in re.finditer(target_string, info)]"
   ]
  },
  {
   "cell_type": "code",
   "execution_count": 145,
   "metadata": {
    "collapsed": false,
    "scrolled": false
   },
   "outputs": [
    {
     "name": "stdout",
     "output_type": "stream",
     "text": [
      "Number of categorical predicors:  354\n",
      "Number of numeric predictors: 112\n",
      "Number of all predictors:  466\n"
     ]
    }
   ],
   "source": [
    "# identify categorical variables by target strings in explain file\n",
    "nominal_col = []\n",
    "\n",
    "for index, loc in enumerate(target_loc):\n",
    "    # get feature character\n",
    "    char = info[loc+len(target_string)+10]\n",
    "    if epi.columns[index] == \"epi\" or epi.columns[index] == \"epibi\":\n",
    "        continue\n",
    "    elif char == \"N\":\n",
    "        nominal_col.append(index)\n",
    "        \n",
    "print \"Number of categorical predicors: \", len(nominal_col)\n",
    "print \"Number of numeric predictors:\", len(epi.columns.values) - len(nominal_col) - 2\n",
    "print \"Number of all predictors: \", len(epi.columns.values) -2"
   ]
  },
  {
   "cell_type": "code",
   "execution_count": 238,
   "metadata": {
    "collapsed": false
   },
   "outputs": [
    {
     "data": {
      "text/plain": [
       "'tenure3_2'"
      ]
     },
     "execution_count": 238,
     "metadata": {},
     "output_type": "execute_result"
    }
   ],
   "source": [
    "col_name + \"_\" + str(names[i])"
   ]
  },
  {
   "cell_type": "code",
   "execution_count": 240,
   "metadata": {
    "collapsed": false
   },
   "outputs": [
    {
     "name": "stdout",
     "output_type": "stream",
     "text": [
      "(13393, 1788)\n",
      "112\n"
     ]
    },
    {
     "data": {
      "text/html": [
       "<div>\n",
       "<table border=\"1\" class=\"dataframe\">\n",
       "  <thead>\n",
       "    <tr style=\"text-align: right;\">\n",
       "      <th></th>\n",
       "      <th>tenure3_-9</th>\n",
       "      <th>tenure3_1</th>\n",
       "      <th>tenure3_2</th>\n",
       "      <th>tenure3_3</th>\n",
       "      <th>hhdtypb_1</th>\n",
       "      <th>hhdtypb_2</th>\n",
       "      <th>hhdtypb_3</th>\n",
       "      <th>hhdtypb_4</th>\n",
       "      <th>hhdtypb_5</th>\n",
       "      <th>hhdtypb_6</th>\n",
       "      <th>...</th>\n",
       "      <th>exerstr_2</th>\n",
       "      <th>exerstr_3</th>\n",
       "      <th>exer0_-9</th>\n",
       "      <th>exer0_0</th>\n",
       "      <th>exer0_1</th>\n",
       "      <th>noex_-9</th>\n",
       "      <th>noex_0</th>\n",
       "      <th>noex_1</th>\n",
       "      <th>wt_hhold</th>\n",
       "      <th>wt_adult</th>\n",
       "    </tr>\n",
       "  </thead>\n",
       "  <tbody>\n",
       "    <tr>\n",
       "      <th>0</th>\n",
       "      <td>0.0</td>\n",
       "      <td>1.0</td>\n",
       "      <td>0.0</td>\n",
       "      <td>0.0</td>\n",
       "      <td>0.0</td>\n",
       "      <td>0.0</td>\n",
       "      <td>0.0</td>\n",
       "      <td>0.0</td>\n",
       "      <td>0.0</td>\n",
       "      <td>0.0</td>\n",
       "      <td>...</td>\n",
       "      <td>0.0</td>\n",
       "      <td>1.0</td>\n",
       "      <td>0.0</td>\n",
       "      <td>1.0</td>\n",
       "      <td>0.0</td>\n",
       "      <td>0.0</td>\n",
       "      <td>0.0</td>\n",
       "      <td>1.0</td>\n",
       "      <td>1.342344</td>\n",
       "      <td>1.132830</td>\n",
       "    </tr>\n",
       "    <tr>\n",
       "      <th>1</th>\n",
       "      <td>0.0</td>\n",
       "      <td>0.0</td>\n",
       "      <td>0.0</td>\n",
       "      <td>1.0</td>\n",
       "      <td>0.0</td>\n",
       "      <td>1.0</td>\n",
       "      <td>0.0</td>\n",
       "      <td>0.0</td>\n",
       "      <td>0.0</td>\n",
       "      <td>0.0</td>\n",
       "      <td>...</td>\n",
       "      <td>0.0</td>\n",
       "      <td>1.0</td>\n",
       "      <td>0.0</td>\n",
       "      <td>1.0</td>\n",
       "      <td>0.0</td>\n",
       "      <td>0.0</td>\n",
       "      <td>0.0</td>\n",
       "      <td>1.0</td>\n",
       "      <td>1.759103</td>\n",
       "      <td>2.053860</td>\n",
       "    </tr>\n",
       "    <tr>\n",
       "      <th>2</th>\n",
       "      <td>0.0</td>\n",
       "      <td>0.0</td>\n",
       "      <td>0.0</td>\n",
       "      <td>1.0</td>\n",
       "      <td>0.0</td>\n",
       "      <td>1.0</td>\n",
       "      <td>0.0</td>\n",
       "      <td>0.0</td>\n",
       "      <td>0.0</td>\n",
       "      <td>0.0</td>\n",
       "      <td>...</td>\n",
       "      <td>0.0</td>\n",
       "      <td>1.0</td>\n",
       "      <td>0.0</td>\n",
       "      <td>1.0</td>\n",
       "      <td>0.0</td>\n",
       "      <td>0.0</td>\n",
       "      <td>0.0</td>\n",
       "      <td>1.0</td>\n",
       "      <td>1.759103</td>\n",
       "      <td>2.565752</td>\n",
       "    </tr>\n",
       "  </tbody>\n",
       "</table>\n",
       "<p>3 rows × 1788 columns</p>\n",
       "</div>"
      ],
      "text/plain": [
       "   tenure3_-9  tenure3_1  tenure3_2  tenure3_3  hhdtypb_1  hhdtypb_2  \\\n",
       "0         0.0        1.0        0.0        0.0        0.0        0.0   \n",
       "1         0.0        0.0        0.0        1.0        0.0        1.0   \n",
       "2         0.0        0.0        0.0        1.0        0.0        1.0   \n",
       "\n",
       "   hhdtypb_3  hhdtypb_4  hhdtypb_5  hhdtypb_6    ...     exerstr_2  exerstr_3  \\\n",
       "0        0.0        0.0        0.0        0.0    ...           0.0        1.0   \n",
       "1        0.0        0.0        0.0        0.0    ...           0.0        1.0   \n",
       "2        0.0        0.0        0.0        0.0    ...           0.0        1.0   \n",
       "\n",
       "   exer0_-9  exer0_0  exer0_1  noex_-9  noex_0  noex_1  wt_hhold  wt_adult  \n",
       "0       0.0      1.0      0.0      0.0     0.0     1.0  1.342344  1.132830  \n",
       "1       0.0      1.0      0.0      0.0     0.0     1.0  1.759103  2.053860  \n",
       "2       0.0      1.0      0.0      0.0     0.0     1.0  1.759103  2.565752  \n",
       "\n",
       "[3 rows x 1788 columns]"
      ]
     },
     "execution_count": 240,
     "metadata": {},
     "output_type": "execute_result"
    }
   ],
   "source": [
    "#get dummies\n",
    "#Create a new data frame \n",
    "x = pd.DataFrame({}) \n",
    "predictor_list = []\n",
    "\n",
    "# Iterate over all attributes\n",
    "for i in range(2,epi.shape[1]):\n",
    "    #get the name of the column\n",
    "    col_name = epi.columns.values[i]\n",
    "    \n",
    "    if i in nominal_col:\n",
    "        encoding = pd.get_dummies(epi[col_name])\n",
    "        \n",
    "        temp = []\n",
    "        names = encoding.columns.values\n",
    "        for i in range(len(names)):\n",
    "            temp.append(col_name + \"_\" + str(names[i]))\n",
    "        encoding.columns = temp\n",
    "        \n",
    "        # append expanded attribute to data frame\n",
    "        x = pd.concat([x, encoding], axis=1)\n",
    "        # update predictor_list\n",
    "        #predictor_list.extend([(col_name + \"_\" + str(value)) for value in encoding.columns.values] )\n",
    "    else:\n",
    "        x = pd.concat([x, epi[col_name]], axis=1)\n",
    "        predictor_list.append(col_name)\n",
    "\n",
    "print x.shape\n",
    "print len(predictor_list)\n",
    "x.head(n=3)"
   ]
  },
  {
   "cell_type": "code",
   "execution_count": 241,
   "metadata": {
    "collapsed": false
   },
   "outputs": [
    {
     "name": "stdout",
     "output_type": "stream",
     "text": [
      "(13393, 1786)\n"
     ]
    }
   ],
   "source": [
    "predictor_list.remove(\"epi\")\n",
    "predictor_list.remove(\"epibi\")\n",
    "y = x[\"epibi\"].values\n",
    "x = x.drop([\"epi\",\"epibi\"], axis=1)\n",
    "print x.shape"
   ]
  },
  {
   "cell_type": "markdown",
   "metadata": {},
   "source": [
    "# Fit model select feature"
   ]
  },
  {
   "cell_type": "code",
   "execution_count": 134,
   "metadata": {
    "collapsed": false
   },
   "outputs": [
    {
     "data": {
      "text/plain": [
       "LogisticRegressionCV(Cs=array([  1.00000e-10,   1.00000e-09,   1.00000e-08,   1.00000e-07,\n",
       "         1.00000e-06,   1.00000e-05,   1.00000e-04,   1.00000e-03,\n",
       "         1.00000e-02,   1.00000e-01,   1.00000e+00,   1.00000e+01,\n",
       "         1.00000e+02,   1.00000e+03,   1.00000e+04]),\n",
       "           class_weight=None, cv=5, dual=False, fit_intercept=True,\n",
       "           intercept_scaling=1.0, max_iter=100, multi_class='ovr',\n",
       "           n_jobs=4, penalty='l2', random_state=None, refit=True,\n",
       "           scoring=None, solver='liblinear', tol=0.0001, verbose=0)"
      ]
     },
     "execution_count": 134,
     "metadata": {},
     "output_type": "execute_result"
    }
   ],
   "source": [
    "regularization = 10.**np.arange(-10, 5)\n",
    "logistic = LogRegCV(cv=5, \n",
    "                    penalty='l2', \n",
    "                    Cs=regularization, \n",
    "                    solver='liblinear', \n",
    "                    n_jobs=4)\n",
    "logistic.fit(x, y)"
   ]
  },
  {
   "cell_type": "code",
   "execution_count": 242,
   "metadata": {
    "collapsed": false
   },
   "outputs": [],
   "source": [
    "coef = pd.DataFrame({\"predictor\":x.columns.values,\"coeffecients\":logistic.coef_[0,:]})"
   ]
  },
  {
   "cell_type": "code",
   "execution_count": 244,
   "metadata": {
    "collapsed": false
   },
   "outputs": [],
   "source": [
    "coef_importance = coef.sort_values(\"coeffecients\")"
   ]
  },
  {
   "cell_type": "code",
   "execution_count": 323,
   "metadata": {
    "collapsed": false
   },
   "outputs": [
    {
     "name": "stdout",
     "output_type": "stream",
     "text": [
      "      coeffecients    predictor\n",
      "68        0.221849     health_2\n",
      "1028      0.223078    emoless_5\n",
      "352       0.224381    outpriv_1\n",
      "1063      0.227223       nerv_3\n",
      "49        0.233557    intmon_11\n",
      "1532      0.238120    nodrink_1\n",
      "1044      0.238304    bodpain_3\n",
      "585       0.240672      arth_-9\n",
      "588       0.240672    arthbi_-9\n",
      "991       0.244981       bath_2\n",
      "117       0.251549       nvq2_1\n",
      "18        0.253573     nssec8_7\n",
      "184       0.258570    wbworth_7\n",
      "234       0.260961      wbanx_3\n",
      "1131      0.263076   worshlth_5\n",
      "478       0.308930   prescmed_1\n",
      "482       0.308930   prescmbi_1\n",
      "570       0.314790       anx_-9\n",
      "573       0.314790     anxbi_-9\n",
      "576       0.345173   mentoth_-9\n",
      "579       0.345173  mentotbi_-9\n",
      "91        0.366455       work_8\n",
      "600       0.395131   vveinbi_-9\n",
      "597       0.395131     vvein_-9\n",
      "594       0.398235    backbi_-9\n",
      "591       0.398235      back_-9\n",
      "739       0.568441   mrg_ills_2\n",
      "742       0.625147    chronic_1\n",
      "1304      0.825770    lltich1_4\n",
      "1191      0.977240    llticd1_6\n"
     ]
    }
   ],
   "source": [
    "#top 30 and bottome 30 features\n",
    "top = coef_importance.iloc[-30:,:]\n",
    "bottom = coef_importance.iloc[:30,:]\n",
    "print top"
   ]
  },
  {
   "cell_type": "code",
   "execution_count": 206,
   "metadata": {
    "collapsed": false
   },
   "outputs": [
    {
     "name": "stdout",
     "output_type": "stream",
     "text": [
      "Accuracy on overall data: 0.99342940342\n",
      "Accuracy on class 0 : 1.0\n",
      "Accuracy on class 1 : 0.357664233577\n"
     ]
    }
   ],
   "source": [
    "#Print results\n",
    "print 'Accuracy on overall data:', logistic.score(x, y)\n",
    "print 'Accuracy on class 0 :', logistic.score(x[y == 0], y[y == 0])\n",
    "print 'Accuracy on class 1 :', logistic.score(x[y == 1], y[y == 1])"
   ]
  },
  {
   "cell_type": "code",
   "execution_count": 327,
   "metadata": {
    "collapsed": false,
    "scrolled": false
   },
   "outputs": [
    {
     "data": {
      "image/png": "[encoded data removed]",
      "text/plain": [
       "<matplotlib.figure.Figure at 0x147bd0ad0>"
      ]
     },
     "metadata": {},
     "output_type": "display_data"
    }
   ],
   "source": [
    "fig, ax = plt.subplots(2, 1, figsize=(15, 12))\n",
    "\n",
    "n = 30\n",
    "#Number of bars to use\n",
    "indices = np.arange(n)\n",
    "#Where to put the label under each bar\n",
    "width = 0.5\n",
    "\n",
    "#Bar plot of the frequencies of the top words\n",
    "ax[0].bar(indices, top[\"coeffecients\"], color='blue', alpha=0.5)\n",
    "\n",
    "ax[0].set_ylabel('Absolute Coefficients')\n",
    "ax[0].set_title('Top ' + str(n) + \" Positive coefficients\")\n",
    "\n",
    "#Label the bars with the top words\n",
    "ax[0].set_xticks(indices + width)\n",
    "ax[0].set_xticklabels(top[\"predictor\"])\n",
    "\n",
    "#Turn the labels sideways so they don't overlap\n",
    "labels = ax[0].get_xticklabels()\n",
    "plt.setp(labels, rotation=30, fontsize=10)\n",
    "\n",
    "\n",
    "#Bar plot of the frequencies of the top words\n",
    "ax[1].bar(indices, np.abs(bottom[\"coeffecients\"]), color='red', alpha=0.5)\n",
    "\n",
    "ax[1].set_ylabel('Absolute Coefficients')\n",
    "ax[1].set_title('Top ' + str(n) + \" Negtive coefficients\")\n",
    "\n",
    "#Label the bars with the top words\n",
    "ax[1].set_xticks(indices + width)\n",
    "ax[1].set_xticklabels(bottom[\"predictor\"])\n",
    "\n",
    "#Turn the labels sideways so they don't overlap\n",
    "labels = ax[1].get_xticklabels()\n",
    "plt.setp(labels, rotation=30, fontsize=10)\n",
    "\n",
    "plt.show()\n",
    "fig.savefig(\"Impor_featr.jpg\")"
   ]
  },
  {
   "cell_type": "markdown",
   "metadata": {},
   "source": [
    "Some of the Top 30 positive coefficients:\n",
    "1.Limiting long term illness main cause: Epilepsy/fits/convulsions\n",
    "2.Limiting long term illness main cause: Mental illness/anxiety/depression/nerves (nes)\n",
    "3.(D) Any chronic illness currently treated: Yes\n",
    "4.(D) (Merged 2+) Number of currently treated illnesses: 2+ currently treated illnesses\n",
    "5. Back pain - currently treated: No answer/refused\n",
    "6. Work status: Permanently unable to work because of long-term sickness/disability \n",
    "7. (D) Currently treated for other mental illness - binary: No answer/refused\n",
    "8. (D) Currently treated for anxiety - binary: No\n",
    "9. Regular prescribed medication: Yes\n",
    "10. SF Expect my health to get worse: Definitely false\n",
    "11. Anxious yesterday: level 3/10\n",
    "12. Worthwhile: level 7/10\n",
    "13. (D) NS-SEC 8 classes: Routine occupations\n",
    "14. NVQ Level 2, Intermediate GNVQ, etc.: Yes\n",
    "15. SF Health limits bathing or dressing yourself: Yes, limited a little\n",
    "16. SF Bodily pain in past 4 weeks: Mild\n",
    "17. Always non-drinker or stopped: Always a non-drinker \n",
    "18. SF Been very nervous in past 4 weeks: Some of the time\n",
    "19. Outpatient paid for privately: Yes"
   ]
  },
  {
   "cell_type": "markdown",
   "metadata": {},
   "source": [
    "We can see from the visulization above what does life of epilepsy patients look like.\n",
    "\n",
    "Among the top close-related features, we can see that epilepsy patients (more likely):\n",
    "- Are Permanently unable to work because of long-term sickness/disability\n",
    "- Have Regular prescribed medication\n",
    "- Definitely not expect health to get worse\n",
    "- Has Anxious Level 3/10 Yesterday\n",
    "- Have intermediate occupations\n",
    "- Have Routine occupations\n",
    "- Have a Little Health limits bathing or dressing themselves\n",
    "- Have mild body pain in past 4 weeks\n",
    "- Are Always a non-drinker\n",
    "- Some of the time been very nervous in past 4 weeks\n",
    "- Due to physical health cut down time on work or activities in past 4 weeks some of the time\n",
    "- Some of the time feeling happy\n",
    "- Have a Little Health limits walking more than a mile "
   ]
  },
  {
   "cell_type": "markdown",
   "metadata": {},
   "source": [
    "Life for epilepsy patients are not as easy and pleasant as normal people. They sometimes feel anxious, have to give up drinking and suffer a little limits of living a better life. Looking at the data, we can imagine the quality of life of epilepsy patients because seizures can happen anytime. This unpredictable disease causes fear and anxiety. \n",
    "\n",
    "People who have first seizures are potential candidates for having epilepsy, and can be as suffering as epilepsy patients in terms of anxiey and choosing occupations. Thus, it is of great need to predict epilepsy as accurate as possible."
   ]
  },
  {
   "cell_type": "code",
   "execution_count": 250,
   "metadata": {
    "collapsed": false
   },
   "outputs": [
    {
     "name": "stdout",
     "output_type": "stream",
     "text": [
      "137\n"
     ]
    }
   ],
   "source": [
    "patients = x[y == 1]\n",
    "n_patients = patients.shape[0]\n",
    "print n_patients"
   ]
  },
  {
   "cell_type": "code",
   "execution_count": 315,
   "metadata": {
    "collapsed": false
   },
   "outputs": [
    {
     "data": {
      "image/png": "[encoded data removed]",
      "text/plain": [
       "<matplotlib.figure.Figure at 0x13e63fa10>"
      ]
     },
     "metadata": {},
     "output_type": "display_data"
    }
   ],
   "source": [
    "plt.figure(figsize=(5, 5))\n",
    "\n",
    "plt.pie([sum(work_8), n_patients-sum(work_8)], \n",
    "        labels=['Yes' , 'Others'], \n",
    "        colors=['red', 'lightgrey'],\n",
    "        autopct='%1.1f%%', shadow=False, startangle=90)\n",
    "plt.title(\"Permanently unable to work\")\n",
    "plt.savefig(\"Work.png\")"
   ]
  },
  {
   "cell_type": "code",
   "execution_count": 329,
   "metadata": {
    "collapsed": false
   },
   "outputs": [
    {
     "data": {
      "image/png": "[encoded data removed]",
      "text/plain": [
       "<matplotlib.figure.Figure at 0x147bf9990>"
      ]
     },
     "metadata": {},
     "output_type": "display_data"
    }
   ],
   "source": [
    "plt.figure(figsize=(5, 5))\n",
    "\n",
    "plt.pie([sum(prescmbi_1), n_patients-sum(prescmbi_1)], \n",
    "        labels=['Yes' , 'Others'], \n",
    "        colors=['red', 'lightgrey'],\n",
    "        autopct='%1.1f%%', shadow=False, startangle=45)\n",
    "plt.title(\"Have Regular prescribed medication\")\n",
    "plt.savefig(\"Medication.png\")"
   ]
  },
  {
   "cell_type": "code",
   "execution_count": 334,
   "metadata": {
    "collapsed": false
   },
   "outputs": [
    {
     "data": {
      "image/png": "[encoded data removed]",
      "text/plain": [
       "<matplotlib.figure.Figure at 0x148ebf6d0>"
      ]
     },
     "metadata": {},
     "output_type": "display_data"
    }
   ],
   "source": [
    "plt.figure(figsize=(5, 5))\n",
    "plt.pie(count, \n",
    "        labels=level, colors=['mistyrose', 'pink','red'],\n",
    "        autopct='%1.1f%%', shadow=False, startangle=-90)\n",
    "plt.title(\"Anxiety Level 0-10\")\n",
    "plt.savefig(\"Anx.png\")"
   ]
  },
  {
   "cell_type": "code",
   "execution_count": 335,
   "metadata": {
    "collapsed": false
   },
   "outputs": [
    {
     "data": {
      "image/png": "[encoded data removed]",
      "text/plain": [
       "<matplotlib.figure.Figure at 0x11bca1d90>"
      ]
     },
     "metadata": {},
     "output_type": "display_data"
    }
   ],
   "source": [
    "plt.figure(figsize=(5, 5))\n",
    "\n",
    "plt.pie([sum(nodrink_1),sum(nodrink_2),n_patients -sum(nodrink_1)-sum(nodrink_2) ], \n",
    "        labels=['Always non-drinker' , 'Have to stop', \"others\"], \n",
    "        colors=['pink',\"red\",\"lightgrey\"],\n",
    "        autopct='%1.1f%%', shadow=False, startangle=90)\n",
    "plt.title(\"Drinking\")\n",
    "plt.savefig(\"Drink.png\")"
   ]
  },
  {
   "cell_type": "code",
   "execution_count": 331,
   "metadata": {
    "collapsed": false
   },
   "outputs": [
    {
     "name": "stdout",
     "output_type": "stream",
     "text": [
      "epilepsy patients no drink 17.0\n",
      "epilepsy patients no drink 28.0\n"
     ]
    }
   ],
   "source": [
    "nodrink_2 = patients[\"nodrink_2\"].values\n",
    "print \"epilepsy patients no drink\", sum(nodrink_2)\n",
    "nodrink_1 = patients[\"nodrink_1\"].values\n",
    "print \"epilepsy patients no drink\", sum(nodrink_1)"
   ]
  },
  {
   "cell_type": "code",
   "execution_count": 274,
   "metadata": {
    "collapsed": false
   },
   "outputs": [
    {
     "name": "stdout",
     "output_type": "stream",
     "text": [
      "epilepsy patients who are Permanently unable to work because of long-term sickness/disability:  51.0\n"
     ]
    }
   ],
   "source": [
    "work_8 = patients[\"work_8\"].values\n",
    "print \"epilepsy patients who are Permanently unable to work because of long-term sickness/disability: \",sum(work_8)"
   ]
  },
  {
   "cell_type": "code",
   "execution_count": 257,
   "metadata": {
    "collapsed": false
   },
   "outputs": [
    {
     "name": "stdout",
     "output_type": "stream",
     "text": [
      "epilepsy patients who Have Regular prescribed medication 132.0\n"
     ]
    }
   ],
   "source": [
    "prescmbi_1 = patients[\"prescmbi_1\"].values\n",
    "print \"epilepsy patients who Have Regular prescribed medication\", sum(prescmbi_1)"
   ]
  },
  {
   "cell_type": "code",
   "execution_count": 336,
   "metadata": {
    "collapsed": false
   },
   "outputs": [
    {
     "name": "stdout",
     "output_type": "stream",
     "text": [
      "epilepsy patients anxiouty level 40.0\n"
     ]
    },
    {
     "data": {
      "text/plain": [
       "[71.0, 38.0, 28.0]"
      ]
     },
     "execution_count": 336,
     "metadata": {},
     "output_type": "execute_result"
    }
   ],
   "source": [
    "wbanx_0 = patients[\"wbanx_0\"].values\n",
    "print \"epilepsy patients anxiouty level\", sum(wbanx_0)\n",
    "index = []\n",
    "num = []\n",
    "for i in range(0,11):\n",
    "    anx = patients[\"wbanx_\"+str(i)].values\n",
    "    index.append(str(i))\n",
    "    num.append(sum(anx))\n",
    "level = [\"0 - 3\",\"4 - 7\",\"8 - 10\"]\n",
    "count = [sum(num[:4]),sum(num[4:8]),n_patients -sum(num[:4])- sum(num[4:8])]\n",
    "count"
   ]
  },
  {
   "cell_type": "code",
   "execution_count": 259,
   "metadata": {
    "collapsed": false
   },
   "outputs": [
    {
     "name": "stdout",
     "output_type": "stream",
     "text": [
      "epilepsy patients anxiouty level 4.0\n"
     ]
    }
   ],
   "source": [
    "wbanx_10 = patients[\"wbanx_10\"].values\n",
    "print \"epilepsy patients anxiouty level\", sum(wbanx_10)"
   ]
  },
  {
   "cell_type": "code",
   "execution_count": 262,
   "metadata": {
    "collapsed": false
   },
   "outputs": [
    {
     "name": "stdout",
     "output_type": "stream",
     "text": [
      "epilepsy patients anxiouty level 28.0\n"
     ]
    }
   ],
   "source": [
    "bath_1 = patients[\"bath_1\"].values\n",
    "print \"epilepsy patients anxiouty level\", sum(bath_1)"
   ]
  },
  {
   "cell_type": "code",
   "execution_count": 266,
   "metadata": {
    "collapsed": false
   },
   "outputs": [
    {
     "name": "stdout",
     "output_type": "stream",
     "text": [
      "epilepsy patients no drink 17.0\n"
     ]
    }
   ],
   "source": [
    "nodrink_2 = patients[\"nodrink_2\"].values\n",
    "print \"epilepsy patients no drink\", sum(nodrink_2)"
   ]
  },
  {
   "cell_type": "code",
   "execution_count": 270,
   "metadata": {
    "collapsed": false
   },
   "outputs": [
    {
     "name": "stdout",
     "output_type": "stream",
     "text": [
      "epilepsy patients no drink 19.0\n"
     ]
    }
   ],
   "source": [
    "nerv_2 = patients[\"nerv_2\"].values\n",
    "print \"epilepsy patients no drink\", sum(nerv_2)"
   ]
  }
 ],
 "metadata": {
  "anaconda-cloud": {},
  "kernelspec": {
   "display_name": "Python [Root]",
   "language": "python",
   "name": "Python [Root]"
  },
  "language_info": {
   "codemirror_mode": {
    "name": "ipython",
    "version": 2
   },
   "file_extension": ".py",
   "mimetype": "text/x-python",
   "name": "python",
   "nbconvert_exporter": "python",
   "pygments_lexer": "ipython2",
   "version": "2.7.12"
  }
 },
 "nbformat": 4,
 "nbformat_minor": 0
}
