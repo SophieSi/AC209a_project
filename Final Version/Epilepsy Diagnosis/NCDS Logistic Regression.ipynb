{
 "cells": [
  {
   "cell_type": "code",
   "execution_count": 1,
   "metadata": {
    "collapsed": true
   },
   "outputs": [],
   "source": [
    "import numpy as np\n",
    "import pandas as pd\n",
    "import matplotlib.pyplot as plt\n",
    "%matplotlib inline\n",
    "\n",
    "from sklearn.linear_model import LogisticRegression\n",
    "from sklearn.linear_model import LogisticRegressionCV\n",
    "from sklearn.preprocessing import scale\n",
    "from sklearn.metrics import confusion_matrix\n",
    "from sklearn.model_selection import KFold\n",
    "from sklearn.model_selection import GridSearchCV\n",
    "from sklearn.model_selection import train_test_split\n",
    "from sklearn.model_selection import cross_val_score"
   ]
  },
  {
   "cell_type": "code",
   "execution_count": 2,
   "metadata": {
    "collapsed": false
   },
   "outputs": [],
   "source": [
    "# load data\n",
    "data = pd.read_csv('./clean_data.csv')\n",
    "\n",
    "# separate x and y\n",
    "y_label = 'CMI:75 F3a) Epilepsy: Ever suffered'\n",
    "y_df = data[y_label].copy()\n",
    "mask_no = y_df == 3\n",
    "mask_yes = (y_df == 1) | (y_df == 2)\n",
    "y_df[mask_no] = 0\n",
    "y_df[mask_yes] = 1\n",
    "x_df = data.drop(y_label, axis = 1).copy()"
   ]
  },
  {
   "cell_type": "code",
   "execution_count": 3,
   "metadata": {
    "collapsed": false,
    "scrolled": true
   },
   "outputs": [
    {
     "name": "stdout",
     "output_type": "stream",
     "text": [
      "1474 predictors in file\n",
      "1351 predictors of interest\n"
     ]
    }
   ],
   "source": [
    "variable_of_interest = []\n",
    "for col in x_df.columns:\n",
    "    if 'epilep' in col or 'Epilep' in col:\n",
    "        continue\n",
    "    if 'convuls' in col or 'Convuls' in col:\n",
    "        continue\n",
    "    if 'Special Education' in col:\n",
    "        continue\n",
    "    if 'Region' in col:\n",
    "        continue\n",
    "    if 'neuro' in col:\n",
    "        continue\n",
    "    if 'Reason' in col or 'reason' in col:\n",
    "        continue\n",
    "    if 'handicap' in col:\n",
    "        continue\n",
    "    if 'psychi' in col:\n",
    "        continue\n",
    "    if 'patient' in col:\n",
    "        continue\n",
    "\n",
    "    variable_of_interest.append(col)\n",
    "\n",
    "print '{} predictors in file'.format( x_df.shape[1] )\n",
    "\n",
    "x_df = x_df[variable_of_interest]\n",
    "\n",
    "print '{} predictors of interest'.format( x_df.shape[1] )"
   ]
  },
  {
   "cell_type": "code",
   "execution_count": 4,
   "metadata": {
    "collapsed": false
   },
   "outputs": [
    {
     "name": "stdout",
     "output_type": "stream",
     "text": [
      "data shape before dummification/standardization (11326, 1351)\n",
      "data shape after dummification/standardization (11326, 6972)\n"
     ]
    }
   ],
   "source": [
    "# if more than 15 unique values, then treated as numerical\n",
    "master_list = []\n",
    "\n",
    "for col in x_df.columns:\n",
    "    # get unique count\n",
    "    unique_count = len(x_df[col].unique())\n",
    "    \n",
    "    # numerical variable\n",
    "    if unique_count > 15:\n",
    "        # get a copy for processing\n",
    "        curr_df = pd.DataFrame(x_df[col])\n",
    "        # handle NaN\n",
    "        curr_df[curr_df.isnull()] = -1\n",
    "        # standardize\n",
    "        curr_df = pd.DataFrame(scale(curr_df.values))\n",
    "        # reset index\n",
    "        curr_df.index = x_df.index\n",
    "        # change column label\n",
    "        curr_df.columns = [col]\n",
    "        # append to master list\n",
    "        master_list.append(curr_df)\n",
    "    # categorical variable\n",
    "    else:\n",
    "        # get a copy\n",
    "        curr_df = x_df[col].copy()\n",
    "        # get dummy\n",
    "        # if contains NaN\n",
    "        if curr_df.isnull().values.any():\n",
    "            dummy = pd.get_dummies(curr_df, dummy_na = True)\n",
    "        # if no NaN\n",
    "        else:\n",
    "            dummy = pd.get_dummies(curr_df, dummy_na = False)\n",
    "        # reset columns\n",
    "        dummy.columns = [str(col)+'='+str(value) for value in dummy.columns]\n",
    "        # reset index\n",
    "        dummy.index = x_df.index\n",
    "        # append to master list\n",
    "        master_list.append(dummy)\n",
    "        \n",
    "# concatenate master list\n",
    "x_df_extended = pd.concat(master_list, axis = 1)\n",
    "\n",
    "print 'data shape before dummification/standardization', x_df.shape\n",
    "print 'data shape after dummification/standardization', x_df_extended.shape"
   ]
  },
  {
   "cell_type": "code",
   "execution_count": 5,
   "metadata": {
    "collapsed": true
   },
   "outputs": [],
   "source": [
    "def scorer_epilepsy_accuracy(estimator, x, y):\n",
    "    y_predict = estimator.predict(x)\n",
    "    cm = confusion_matrix(y, y_predict)\n",
    "    accuracy_all = estimator.score(x, y)\n",
    "    accuracy_healthy = float(cm[0,0])/float(cm[0,0]+cm[0,1])\n",
    "    accuracy_epilepsy = float(cm[1,1])/float(cm[1,0]+cm[1,1])\n",
    "    return accuracy_all * accuracy_healthy * accuracy_epilepsy"
   ]
  },
  {
   "cell_type": "code",
   "execution_count": 6,
   "metadata": {
    "collapsed": false
   },
   "outputs": [],
   "source": [
    "weight_list = [{1:value} for value in 10**np.arange(0, 3, 1)]\n",
    "penalty_list = ['l1', 'l2']\n",
    "parameters = {'class_weight':weight_list, 'penalty':penalty_list}\n",
    "gscv = GridSearchCV(LogisticRegressionCV(solver = 'liblinear'),\\\n",
    "                    parameters, scoring = 'roc_auc')\n",
    "\n",
    "gscv.fit(x_df_extended.values, y_df.values)\n",
    "best_model = gscv.best_estimator_"
   ]
  },
  {
   "cell_type": "code",
   "execution_count": 7,
   "metadata": {
    "collapsed": false,
    "scrolled": true
   },
   "outputs": [
    {
     "name": "stdout",
     "output_type": "stream",
     "text": [
      "most positive variables\n",
      "3.02121427625 3P Type hcap for which will require help=7.0\n",
      "2.51690133266 CMI:75 F3a) Hernia: Ever suffered=2.0\n",
      "2.28339003785 1D Defects found in NCDS1 sample-MC 1:4=3.0\n",
      "1.55806177639 CMI:78 F24 Specialist #1 seen about 'emotional problems'=2.0\n",
      "1.0383073862 CMI:75 F3a) Gall bladder trouble: Eversuffered=2.0\n",
      "0.62936017814 CMI:81 F30 Disability makes it harder to get/keep a paid job=1.0\n",
      "0.570530912694 CMI:75 F3c) Migraine: Seen doctor in last 12 months=nan\n",
      "0.51692816652 1P Meeting other kids outside household=4.0\n",
      "0.512662605368 CMI:75 F3b) Arthritus/rheumatism/etc: Suffered in last 12 months=nan\n",
      "0.440278447745 CMI:76 F7a) Usually bring up phlegm during day/night in winter=1.0\n",
      "0.385388890744 1D Defects found in NCDS1 sample-MC 1:4=4.0\n",
      "0.384559642296 1P Mother's spare-time reading-newspaper=4.0\n",
      "0.382284178564 2M Girls breast rating=2.0\n",
      "0.375840712436 3M Assessment of speech intelligibility=1.0\n",
      "0.366032049374 1P No. kids undr 21 hhld,inc liv away=4.0\n",
      "0.360221494182 2P Use of public parks, etc in last 12m=1.0\n",
      "0.341772789202 CMI:88 F56b) How often has drink during work breaks=3.0\n",
      "0.327626451216 2M Psychiatric,psychological treatment=2.0\n",
      "0.326523827773 3P Any treatment for bedwetting-MC 1:3=8.0\n",
      "0.307339368939 CMI:74 F1 General health=3.0\n",
      "0.306434814316 1M Incorrect hearing responses-left ear=0.0\n"
     ]
    }
   ],
   "source": [
    "# get coefficient\n",
    "best_model = gscv.best_estimator_\n",
    "coef = best_model.coef_.flatten()\n",
    "\n",
    "most_pos_var_index = np.argsort(coef)[-21:][::-1]\n",
    "most_neg_var_index = np.argsort(coef)[0:20]\n",
    "\n",
    "print 'most positive variables'\n",
    "for index in most_pos_var_index:\n",
    "    print coef[index], x_df_extended.columns[index]"
   ]
  },
  {
   "cell_type": "code",
   "execution_count": 8,
   "metadata": {
    "collapsed": false
   },
   "outputs": [
    {
     "name": "stdout",
     "output_type": "stream",
     "text": [
      "accuracy_all         0.722649\n",
      "accuracy_healthy     0.723073\n",
      "accuracy_epilepsy    0.692308\n",
      "dtype: float64\n"
     ]
    }
   ],
   "source": [
    "best_lr_model = gscv.best_estimator_\n",
    "kf = KFold(n_splits = 3)\n",
    "adf = pd.DataFrame({}, columns = ['accuracy_all', 'accuracy_healthy', 'accuracy_epilepsy'])\n",
    "index = 0\n",
    "\n",
    "for train_index, test_index in kf.split(x_df_extended.values):\n",
    "    x_train = x_df_extended.values[train_index, :]\n",
    "    x_test = x_df_extended.values[test_index, :]\n",
    "    y_train = y_df.values[train_index]\n",
    "    y_test = y_df.values[test_index]\n",
    "    \n",
    "    best_lr_model.fit(x_train, y_train)\n",
    "    \n",
    "    y_predict = best_model.predict_proba(x_test)[:, 0]\n",
    "    mask = y_predict > (1-1e-7)\n",
    "    y_predict[mask] = 0\n",
    "    y_predict[~mask] = 1\n",
    "\n",
    "    cm = confusion_matrix(y_test, y_predict)\n",
    "    accuracy_all = float(cm[1,1] + cm[0,0])/float(cm[1,0]+cm[1,1]+cm[0,0]+cm[0,1])\n",
    "    accuracy_epilepsy = float(cm[1,1])/float(cm[1,0]+cm[1,1])\n",
    "    accuracy_healthy = float(cm[0,0])/float(cm[0,0]+cm[0,1])\n",
    "    \n",
    "    adf.loc[index] = [accuracy_all, accuracy_healthy, accuracy_epilepsy]\n",
    "\n",
    "print adf.mean()"
   ]
  },
  {
   "cell_type": "code",
   "execution_count": 9,
   "metadata": {
    "collapsed": false
   },
   "outputs": [
    {
     "name": "stdout",
     "output_type": "stream",
     "text": [
      "{'penalty': 'l1', 'class_weight': {1: 1}}\n",
      "0.795826037502\n"
     ]
    }
   ],
   "source": [
    "print gscv.best_params_\n",
    "print gscv.best_score_"
   ]
  },
  {
   "cell_type": "code",
   "execution_count": null,
   "metadata": {
    "collapsed": true
   },
   "outputs": [],
   "source": []
  }
 ],
 "metadata": {
  "anaconda-cloud": {},
  "kernelspec": {
   "display_name": "Python [conda root]",
   "language": "python",
   "name": "conda-root-py"
  },
  "language_info": {
   "codemirror_mode": {
    "name": "ipython",
    "version": 2
   },
   "file_extension": ".py",
   "mimetype": "text/x-python",
   "name": "python",
   "nbconvert_exporter": "python",
   "pygments_lexer": "ipython2",
   "version": "2.7.12"
  }
 },
 "nbformat": 4,
 "nbformat_minor": 1
}
