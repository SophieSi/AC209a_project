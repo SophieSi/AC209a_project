{
 "cells": [
  {
   "cell_type": "markdown",
   "metadata": {},
   "source": [
    "# EEG Feature Extraction"
   ]
  },
  {
   "cell_type": "code",
   "execution_count": 13,
   "metadata": {
    "collapsed": true
   },
   "outputs": [],
   "source": [
    "import warnings\n",
    "warnings.filterwarnings('ignore')"
   ]
  },
  {
   "cell_type": "code",
   "execution_count": 6,
   "metadata": {
    "collapsed": true
   },
   "outputs": [],
   "source": [
    "import scipy.io as sio\n",
    "import numpy as np\n",
    "import pandas as pd\n",
    "import matplotlib.pyplot as plt\n",
    "import os\n",
    "import cPickle "
   ]
  },
  {
   "cell_type": "code",
   "execution_count": 7,
   "metadata": {
    "collapsed": true
   },
   "outputs": [],
   "source": [
    "import scipy.stats as ss\n",
    "from sklearn.decomposition import PCA\n",
    "from sklearn.linear_model import LogisticRegression as LogReg\n",
    "from sklearn.ensemble import RandomForestClassifier as RF"
   ]
  },
  {
   "cell_type": "code",
   "execution_count": 8,
   "metadata": {
    "collapsed": true
   },
   "outputs": [],
   "source": [
    "from sklearn.model_selection import GridSearchCV\n",
    "from sklearn.ensemble import BaggingClassifier as Bagging"
   ]
  },
  {
   "cell_type": "code",
   "execution_count": 9,
   "metadata": {
    "collapsed": false
   },
   "outputs": [],
   "source": [
    "from sklearn.model_selection import train_test_split\n",
    "from sklearn import preprocessing\n",
    "from scipy.fftpack import fft \n",
    "import scipy\n",
    "from sklearn.metrics import roc_curve\n",
    "from sklearn.ensemble import GradientBoostingClassifier as GDB\n",
    "%matplotlib inline"
   ]
  },
  {
   "cell_type": "code",
   "execution_count": 12,
   "metadata": {
    "collapsed": true
   },
   "outputs": [],
   "source": [
    "#set fold path\n",
    "folder = './data/Patient_1 2/'"
   ]
  },
  {
   "cell_type": "markdown",
   "metadata": {},
   "source": [
    "# Description"
   ]
  },
  {
   "cell_type": "markdown",
   "metadata": {},
   "source": [
    "Intotal, we extract 8 features from EEG signal in both time and frequency domain.\n",
    "\n",
    "Time: \n",
    "- Total time energy: Sum of squared magnitude in time domain.\n",
    "- Time mean (abs): Mean of absolute magnitude of time domain.\n",
    "- Time variance: Variance of absolute magnitude of time domain.\n",
    "\n",
    "Frequency: \n",
    "\n",
    "- Brightness: Percentage of energy above 25Hz.\n",
    "- Entropy: We divide the frequency range (0-2.5kHz) into 8 frequency bands. Fundamental requency 0Hz, 0-10Hz, 10-50Hz, 50-100Hz, 100-200Hz, 200-300Hz, 300-400Hz, 400-2500Hz. I both looked at the frequency plot and did several trials and find this division works better in separating the two classes.\n",
    "- Kurtosis: Fourth standardized moment, https://en.wikipedia.org/wiki/Kurtosis\n",
    "- Skewness: Third standardized moment, https://en.wikipedia.org/wiki/Skewness\n",
    "- Frequency Variance: Variance of spectrum magnitude, upper limit = 200Hz"
   ]
  },
  {
   "cell_type": "markdown",
   "metadata": {
    "collapsed": true
   },
   "source": [
    "# Try extract differenct features"
   ]
  },
  {
   "cell_type": "code",
   "execution_count": 13,
   "metadata": {
    "collapsed": true
   },
   "outputs": [],
   "source": [
    "#segment data to list of matrix\n",
    "def segment_interictal(folder,seg_length):\n",
    "    eeg = []\n",
    "    i = 0 \n",
    "    for filename in os.listdir(folder):\n",
    "         if \"interictal\" in filename:\n",
    "            path = folder + filename\n",
    "            i += 1\n",
    "            struct = sio.loadmat(path, struct_as_record = False, squeeze_me = True) \n",
    "            eeg_temp = struct[\"interictal_segment_\" + str(i)].data #read data from first electrode\n",
    "            \n",
    "            #segment eeg data \n",
    "            for seg_index in range(0,eeg_temp.shape[1],seg_length):\n",
    "                eeg.append(eeg_temp[:,seg_index:seg_index+seg_length].reshape(15,-1)) \n",
    "    \n",
    "    return eeg"
   ]
  },
  {
   "cell_type": "code",
   "execution_count": 15,
   "metadata": {
    "collapsed": false
   },
   "outputs": [
    {
     "name": "stdout",
     "output_type": "stream",
     "text": [
      "number of interictal segments:  7500\n"
     ]
    }
   ],
   "source": [
    "interictal = segment_interictal(folder,20000)\n",
    "print \"number of interictal segments: \",len(interictal)"
   ]
  },
  {
   "cell_type": "code",
   "execution_count": 16,
   "metadata": {
    "collapsed": false
   },
   "outputs": [],
   "source": [
    "#segment data\n",
    "def segment_preictal(folder,seg_length):\n",
    "    eeg = []\n",
    "    i = 0 \n",
    "    for filename in os.listdir(folder):\n",
    "         if \"preictal\" in filename:\n",
    "            path = folder + filename\n",
    "            i += 1\n",
    "            struct = sio.loadmat(path, struct_as_record = False, squeeze_me = True) \n",
    "            eeg_temp = struct[\"preictal_segment_\" + str(i)].data #read data from first electrode\n",
    "            \n",
    "            #segment eeg data \n",
    "            for seg_index in range(0,eeg_temp.shape[1],seg_length):\n",
    "                eeg.append(eeg_temp[:,seg_index:seg_index+seg_length].reshape(15,-1)) \n",
    "    \n",
    "    return eeg"
   ]
  },
  {
   "cell_type": "code",
   "execution_count": 17,
   "metadata": {
    "collapsed": false
   },
   "outputs": [
    {
     "name": "stdout",
     "output_type": "stream",
     "text": [
      "number of preictal segments:  2700\n"
     ]
    }
   ],
   "source": [
    "preictal = segment_preictal(folder,20000)\n",
    "print \"number of preictal segments: \",len(preictal)"
   ]
  },
  {
   "cell_type": "markdown",
   "metadata": {},
   "source": [
    "### Total Energy"
   ]
  },
  {
   "cell_type": "code",
   "execution_count": 18,
   "metadata": {
    "collapsed": true
   },
   "outputs": [],
   "source": [
    "def energy(no,yes,channel = 0,plot = 0):\n",
    "    yes_result = []\n",
    "    no_result = []\n",
    "    \n",
    "    for i in range(len(yes)):\n",
    "        eeg = yes[i][channel,:]\n",
    "        #fft = signal.fft(eeg)\n",
    "        energy = np.sum(np.power(eeg,2))\n",
    "        yes_result.append(energy)\n",
    "        \n",
    "    for i in range(len(no)):\n",
    "        eeg = no[i][channel,:]\n",
    "        #fft = signal.fft(eeg)\n",
    "        energy = np.sum(np.power(eeg,2))\n",
    "        no_result.append(energy)\n",
    "        \n",
    "    #plot histogram\n",
    "    if (plot):\n",
    "        plt.hist(yes_result,50,color = \"r\", alpha = 0.5,label = \"preictal\",normed=1,range = (-0.5e13,2e13))\n",
    "        #plt.show()\n",
    "\n",
    "        plt.hist(no_result,50,color = \"b\", alpha = 0.5,label = \"interictal\",normed=1,range = (-0.5e13,2e13))\n",
    "        plt.legend(loc = 1)\n",
    "        plt.title(\"Total Energy of Time Domain\",fontsize = 15)\n",
    "        plt.xlabel(\"Total Energy\")\n",
    "        plt.ylabel(\"Nomalized Count\")\n",
    "        plt.savefig('EEG Feature Total Energy.png', format='png', dpi=1000)\n",
    "        plt.show()\n",
    "\n",
    "    return np.concatenate((no_result,yes_result))"
   ]
  },
  {
   "cell_type": "code",
   "execution_count": 69,
   "metadata": {
    "collapsed": false
   },
   "outputs": [
    {
     "data": {
      "image/png": "[encoded data removed]",
      "text/plain": [
       "<matplotlib.figure.Figure at 0x364d16650>"
      ]
     },
     "metadata": {},
     "output_type": "display_data"
    }
   ],
   "source": [
    "#channel 0\n",
    "energy_result = energy(interictal,preictal,plot = 1)"
   ]
  },
  {
   "cell_type": "markdown",
   "metadata": {},
   "source": [
    "### Skewness"
   ]
  },
  {
   "cell_type": "code",
   "execution_count": 72,
   "metadata": {
    "collapsed": false
   },
   "outputs": [],
   "source": [
    "def skewness(no,yes,channel = 0,upper_freq = 300,plot = 0):\n",
    "    yes_result = []\n",
    "    no_result = []\n",
    "    upper_lim = upper_freq/5000. * 20000\n",
    "    \n",
    "    for i in range(len(yes)):\n",
    "        eeg = yes[i][channel,:]\n",
    "        fft = abs(scipy.fftpack.fft(eeg))[:upper_lim] #select a range of fft\n",
    "        skew = ss.skew(fft)\n",
    "        yes_result.append(skew)\n",
    "        \n",
    "    for i in range(len(no)):\n",
    "        eeg = no[i][channel,:]\n",
    "        fft = abs(scipy.fftpack.fft(eeg))[:upper_lim] #select a range of fft\n",
    "        skew = ss.skew(fft)\n",
    "        no_result.append(skew)\n",
    "        \n",
    "    #plot histogram\n",
    "    if (plot):\n",
    "        plt.hist(yes_result,50,color = \"r\", alpha = 0.5,label = \"preictal\",normed=1)\n",
    "        #plt.show()\n",
    "\n",
    "        plt.hist(no_result,50,color = \"b\", alpha = 0.5,label = \"interictal\",normed=1)\n",
    "        plt.legend(loc = \"best\")\n",
    "        plt.title(\"Skewness of Frequency Domain\",fontsize = 15)\n",
    "        plt.xlabel(\"Skewness\")\n",
    "        plt.ylabel(\"Nomalized Count\")\n",
    "        plt.savefig('EEG Feature Skewness.png', format='png', dpi=1000)\n",
    "        plt.show()\n",
    "\n",
    "    return np.concatenate((no_result,yes_result))"
   ]
  },
  {
   "cell_type": "code",
   "execution_count": 73,
   "metadata": {
    "collapsed": false
   },
   "outputs": [
    {
     "data": {
      "image/png": "[encoded data removed]",
      "text/plain": [
       "<matplotlib.figure.Figure at 0x35c2c0090>"
      ]
     },
     "metadata": {},
     "output_type": "display_data"
    }
   ],
   "source": [
    "#channel 0\n",
    "skewness_result = skewness(interictal,preictal,channel=0,upper_freq = 300,plot = 1)"
   ]
  },
  {
   "cell_type": "markdown",
   "metadata": {},
   "source": [
    "### Kurtosis"
   ]
  },
  {
   "cell_type": "code",
   "execution_count": 74,
   "metadata": {
    "collapsed": true
   },
   "outputs": [],
   "source": [
    "def kurtosis(no,yes,channel = 0,upper_freq = 300,plot = 0):\n",
    "    yes_result = []\n",
    "    no_result = []\n",
    "    upper_lim = upper_freq/5000. * 20000\n",
    "    \n",
    "    for i in range(len(yes)):\n",
    "        eeg = yes[i][channel,:]\n",
    "        fft = abs(scipy.fftpack.fft(eeg))[:upper_lim] #select a range of fft\n",
    "        kurt = ss.kurtosis(fft)\n",
    "        yes_result.append(kurt)\n",
    "        \n",
    "    for i in range(len(no)):\n",
    "        eeg = no[i][channel,:]\n",
    "        fft = abs(scipy.fftpack.fft(eeg))[:upper_lim] #select a range of fft\n",
    "        kurt = ss.kurtosis(fft)\n",
    "        no_result.append(kurt)\n",
    "        \n",
    "    #plot histogram\n",
    "    if (plot):\n",
    "        plt.hist(yes_result,50,color = \"r\", alpha = 0.5,label = \"preictal\",normed=1)\n",
    "        #plt.show()\n",
    "\n",
    "        plt.hist(no_result,50,color = \"b\", alpha = 0.5,label = \"interictal\",normed=1)\n",
    "        plt.legend(loc = \"best\")\n",
    "        plt.title(\"Kurtosis of Frequency Domain\",fontsize = 15)\n",
    "        plt.xlabel(\"Kurtosis\")\n",
    "        plt.ylabel(\"Nomalized Count\")\n",
    "        plt.savefig('EEG Feature Kurtosis.png', format='png', dpi=1000)\n",
    "        plt.show()\n",
    "\n",
    "    return np.concatenate((no_result,yes_result))"
   ]
  },
  {
   "cell_type": "code",
   "execution_count": 75,
   "metadata": {
    "collapsed": false
   },
   "outputs": [
    {
     "data": {
      "image/png": "[encoded data removed]",
      "text/plain": [
       "<matplotlib.figure.Figure at 0x2b7fff310>"
      ]
     },
     "metadata": {},
     "output_type": "display_data"
    }
   ],
   "source": [
    "#channel 0\n",
    "kurt_result = kurtosis(interictal,preictal,channel=0,upper_freq = 200,plot = 1)"
   ]
  },
  {
   "cell_type": "markdown",
   "metadata": {},
   "source": [
    "### Time Variance"
   ]
  },
  {
   "cell_type": "code",
   "execution_count": 92,
   "metadata": {
    "collapsed": true
   },
   "outputs": [],
   "source": [
    "def variance_time(no,yes,channel = 0,plot = 0):\n",
    "    yes_result = []\n",
    "    no_result = []\n",
    "    \n",
    "    for i in range(len(yes)):\n",
    "        eeg = yes[i][channel,:]\n",
    "        var = np.var(abs(eeg))\n",
    "        yes_result.append(var)\n",
    "        \n",
    "    for i in range(len(no)):\n",
    "        eeg = no[i][channel,:]\n",
    "        var = np.var(abs(eeg))\n",
    "        no_result.append(var)\n",
    "        \n",
    "    #plot histogram\n",
    "    if (plot):\n",
    "        plt.hist(yes_result,50,color = \"r\", alpha = 0.5,label = \"preictal\",normed=1,range = (300,20000))\n",
    "        #plt.show()\n",
    "\n",
    "        plt.hist(no_result,50,color = \"b\", alpha = 0.5,label = \"interictal\",normed=1,range = (300,20000))\n",
    "        plt.legend(loc = \"best\")\n",
    "        plt.title(\"Variance of Time Domain\",fontsize = 15)\n",
    "        plt.xlabel(\"Variance\")\n",
    "        plt.ylabel(\"Nomalized Count\")\n",
    "        plt.savefig('EEG Feature Variance Time.png', format='png', dpi=1000)\n",
    "        plt.show()\n",
    "    \n",
    "    return np.concatenate((no_result,yes_result))"
   ]
  },
  {
   "cell_type": "code",
   "execution_count": 93,
   "metadata": {
    "collapsed": false
   },
   "outputs": [
    {
     "data": {
      "image/png": "[encoded data removed]",
      "text/plain": [
       "<matplotlib.figure.Figure at 0x3ef123f50>"
      ]
     },
     "metadata": {},
     "output_type": "display_data"
    }
   ],
   "source": [
    "var_time = variance_time(interictal,preictal,plot = 1)"
   ]
  },
  {
   "cell_type": "markdown",
   "metadata": {},
   "source": [
    "### Time Mean"
   ]
  },
  {
   "cell_type": "code",
   "execution_count": 104,
   "metadata": {
    "collapsed": false
   },
   "outputs": [],
   "source": [
    "def mean_time(no,yes,channel = 0,plot = 0):\n",
    "    yes_result = []\n",
    "    no_result = []\n",
    "    \n",
    "    for i in range(len(yes)):\n",
    "        eeg = yes[i][channel,:]\n",
    "        var = np.mean(abs(eeg))\n",
    "        yes_result.append(var)\n",
    "        \n",
    "    for i in range(len(no)):\n",
    "        eeg = no[i][channel,:]\n",
    "        var = np.mean(abs(eeg))\n",
    "        no_result.append(var)\n",
    "        \n",
    "    #plot histogram\n",
    "    if (plot):\n",
    "        plt.hist(yes_result,50,color = \"r\", alpha = 0.5,label = \"preictal\",normed=1,range = (0,600))\n",
    "        #plt.show()\n",
    "\n",
    "        plt.hist(no_result,50,color = \"b\", alpha = 0.5,label = \"interictal\",normed=1,range = (0,600))\n",
    "        plt.legend(loc = \"best\")\n",
    "        plt.title(\"Mean of Time Domain\",fontsize = 15)\n",
    "        plt.xlabel(\"Mean\")\n",
    "        plt.ylabel(\"Nomalized Count\")\n",
    "        plt.savefig('EEG Feature Mean Time.png', format='png', dpi=1000)\n",
    "        plt.show()\n",
    "    \n",
    "    \n",
    "    return np.concatenate((no_result,yes_result))"
   ]
  },
  {
   "cell_type": "code",
   "execution_count": 105,
   "metadata": {
    "collapsed": false
   },
   "outputs": [
    {
     "data": {
      "image/png": "[encoded data removed]",
      "text/plain": [
       "<matplotlib.figure.Figure at 0x118b2a450>"
      ]
     },
     "metadata": {},
     "output_type": "display_data"
    }
   ],
   "source": [
    "mean_t = mean_time(interictal,preictal,plot = 1)"
   ]
  },
  {
   "cell_type": "markdown",
   "metadata": {},
   "source": [
    "### Frequency Variance"
   ]
  },
  {
   "cell_type": "code",
   "execution_count": 112,
   "metadata": {
    "collapsed": false
   },
   "outputs": [],
   "source": [
    "def variance_freq(no,yes,channel = 0,upper_freq = 200,plot=0):\n",
    "   \n",
    "    yes_result = []\n",
    "    no_result = []\n",
    "    upper_lim = upper_freq/5000. * 20000\n",
    "    \n",
    "    for i in range(len(yes)):\n",
    "        eeg = yes[i][channel,:]\n",
    "        fft = abs(scipy.fftpack.fft(eeg))[:upper_lim]\n",
    "        var = np.mean(fft)\n",
    "        yes_result.append(var)\n",
    "        \n",
    "    for i in range(len(no)):\n",
    "        eeg = no[i][channel,:]\n",
    "        fft = abs(scipy.fftpack.fft(eeg))[:upper_lim]\n",
    "        var = np.mean(fft)\n",
    "        no_result.append(var)\n",
    "        \n",
    "    #plot histogram\n",
    "    if (plot):\n",
    "        plt.hist(yes_result,50,color = \"r\", alpha = 0.5,label = \"preictal\",normed=1,range = (0,10000000))\n",
    "        #plt.show()\n",
    "\n",
    "        plt.hist(no_result,50,color = \"b\", alpha = 0.5,label = \"interictal\",normed=1,range = (0,10000000))\n",
    "        plt.legend(loc = \"best\")\n",
    "        plt.title(\"Variance of Frequency Domain\",fontsize = 15)\n",
    "        plt.xlabel(\"Variance\")\n",
    "        plt.ylabel(\"Nomalized Count\")\n",
    "        plt.savefig('EEG Feature Variance Freq.png', format='png', dpi=1000)\n",
    "        plt.show()\n",
    "    \n",
    "    return np.concatenate((no_result,yes_result))"
   ]
  },
  {
   "cell_type": "code",
   "execution_count": 113,
   "metadata": {
    "collapsed": false,
    "scrolled": true
   },
   "outputs": [
    {
     "data": {
      "image/png": "[encoded data removed]",
      "text/plain": [
       "<matplotlib.figure.Figure at 0x3ef12f5d0>"
      ]
     },
     "metadata": {},
     "output_type": "display_data"
    }
   ],
   "source": [
    "var_freq = variance_freq(interictal,preictal,plot = 1)"
   ]
  },
  {
   "cell_type": "markdown",
   "metadata": {},
   "source": [
    "### Entropy"
   ]
  },
  {
   "cell_type": "code",
   "execution_count": 121,
   "metadata": {
    "collapsed": false
   },
   "outputs": [],
   "source": [
    "def entropy(no,yes,bands_freq,channel = 0,plot = 0):\n",
    "    yes_result = []\n",
    "    no_result = []\n",
    "    bands = [freq * 4 for freq in bands_freq]\n",
    "    \n",
    "    for i in range(len(yes)):\n",
    "        eeg = yes[i][channel,:]\n",
    "        fft = abs(scipy.fftpack.fft(eeg))\n",
    "        bands_energy = []\n",
    "        \n",
    "        for i in range(0,len(bands) - 1):\n",
    "            band_energy = np.sum(np.power(fft[bands[i]:bands[i+1]],2))\n",
    "            bands_energy.append(band_energy)\n",
    "                \n",
    "        entropy = ss.entropy(bands_energy)\n",
    "        yes_result.append(entropy)\n",
    "        \n",
    "        \n",
    "        \n",
    "    for i in range(len(no)):\n",
    "        eeg = no[i][channel,:]\n",
    "        fft = abs(scipy.fftpack.fft(eeg))\n",
    "        bands_energy = []\n",
    "        \n",
    "        for i in range(0,len(bands) - 1):\n",
    "            band_energy = np.sum(np.power(fft[bands[i]:bands[i+1]],2))\n",
    "            bands_energy.append(band_energy)\n",
    "                \n",
    "        entropy = ss.entropy(bands_energy)\n",
    "        no_result.append(entropy)\n",
    "        \n",
    "    #plot histogram\n",
    "    if (plot):\n",
    "        plt.hist(yes_result,50,color = \"r\", alpha = 0.5,label = \"preictal\",normed=1)\n",
    "        #plt.show()\n",
    "\n",
    "        plt.hist(no_result,50,color = \"b\", alpha = 0.5,label = \"interictal\",normed=1)\n",
    "        plt.legend(loc = \"best\")\n",
    "        plt.title(\"Energy Entropy\",fontsize = 15)\n",
    "        plt.xlabel(\"Energy Entropy\")\n",
    "        plt.ylabel(\"Nomalized Count\")\n",
    "        plt.savefig('EEG Feature Energy Entropy.png', format='png', dpi=1000)\n",
    "        plt.show()\n",
    "    \n",
    "    return np.concatenate((no_result,yes_result))"
   ]
  },
  {
   "cell_type": "code",
   "execution_count": 117,
   "metadata": {
    "collapsed": false
   },
   "outputs": [
    {
     "data": {
      "image/png": "[encoded data removed]",
      "text/plain": [
       "<matplotlib.figure.Figure at 0x11898ded0>"
      ]
     },
     "metadata": {},
     "output_type": "display_data"
    }
   ],
   "source": [
    "#By trying different bands selection and analyze the frequency energy distribution, we have select the bands to be below\n",
    "bands = [0,0,10,50,100,200,300,400,2500]\n",
    "entropy = entropy(interictal,preictal,bands,channel=0,plot = 1)"
   ]
  },
  {
   "cell_type": "markdown",
   "metadata": {},
   "source": [
    "### Brightness"
   ]
  },
  {
   "cell_type": "code",
   "execution_count": 124,
   "metadata": {
    "collapsed": true
   },
   "outputs": [],
   "source": [
    "def brightness(no,yes,thres_fre,channel = 0,plot = 0):\n",
    "    yes_result = []\n",
    "    no_result = []\n",
    "    thres = thres_fre * 4 \n",
    "    \n",
    "    for i in range(len(yes)):\n",
    "        eeg = yes[i][channel,:]\n",
    "        fft = abs(scipy.fftpack.fft(eeg))     \n",
    "        energy = np.sum(np.power(fft[thres:10000],2))\n",
    "        bright = energy / np.sum(np.power(fft[:10000],2))\n",
    "        yes_result.append(bright)\n",
    "        \n",
    "    for i in range(len(no)):\n",
    "        eeg = no[i][channel,:]\n",
    "        fft = abs(scipy.fftpack.fft(eeg))     \n",
    "        energy = np.sum(np.power(fft[thres:10000],2))\n",
    "        bright = energy / np.sum(np.power(fft[:10000],2))\n",
    "        no_result.append(bright)\n",
    "        \n",
    "    #plot histogram\n",
    "    if (plot):\n",
    "        plt.hist(yes_result,50,color = \"r\", alpha = 0.5,label = \"preictal\",normed=1)\n",
    "        #plt.show()\n",
    "\n",
    "        plt.hist(no_result,50,color = \"b\", alpha = 0.5,label = \"interictal\",normed=1)\n",
    "        plt.legend(loc = \"best\")\n",
    "        plt.title(\"Brightness\",fontsize = 15)\n",
    "        plt.xlabel(\"Brightness\")\n",
    "        plt.ylabel(\"Nomalized Count\")\n",
    "        plt.savefig('EEG Feature Brightness.png', format='png', dpi=1000)\n",
    "        plt.show()\n",
    "    \n",
    "    \n",
    "    return np.concatenate((no_result,yes_result))"
   ]
  },
  {
   "cell_type": "code",
   "execution_count": 125,
   "metadata": {
    "collapsed": false
   },
   "outputs": [
    {
     "data": {
      "image/png": "[encoded data removed]",
      "text/plain": [
       "<matplotlib.figure.Figure at 0x342421810>"
      ]
     },
     "metadata": {},
     "output_type": "display_data"
    }
   ],
   "source": [
    "bright = brightness(interictal,preictal,25,plot = 1)"
   ]
  },
  {
   "cell_type": "markdown",
   "metadata": {},
   "source": [
    "### Energy distribution"
   ]
  },
  {
   "cell_type": "code",
   "execution_count": 135,
   "metadata": {
    "collapsed": true
   },
   "outputs": [],
   "source": [
    "def Energy_distribution(no,yes,band,channel = 0,plot = 0):\n",
    "    yes_result = []\n",
    "    no_result = []\n",
    "    thres = band * 4 \n",
    "    \n",
    "    for i in range(len(yes)):\n",
    "        eeg = yes[i][channel,:]\n",
    "        fft = abs(scipy.fftpack.fft(eeg))     \n",
    "        energy = np.sum(np.power(fft[thres[0]:thres[1]],2))\n",
    "        bright = energy# / np.sum(np.power(fft[:10000],2))\n",
    "        yes_result.append(bright)\n",
    "        \n",
    "    for i in range(len(no)):\n",
    "        eeg = no[i][channel,:]\n",
    "        fft = abs(scipy.fftpack.fft(eeg))     \n",
    "        energy = np.sum(np.power(fft[thres[0]:thres[1]],2))\n",
    "        bright = energy# / np.sum(np.power(fft[:10000],2))\n",
    "        no_result.append(bright)\n",
    "        \n",
    "    #plot histogram\n",
    "    if (plot):\n",
    "        plt.hist(yes_result,50,color = \"r\", alpha = 0.5,label = \"preictal\",normed=1,range = [0,1e14])\n",
    "        #plt.show()\n",
    "\n",
    "        plt.hist(no_result,50,color = \"b\", alpha = 0.5,label = \"interictal\",normed=1,range = [0,1e14])\n",
    "        plt.legend(loc = \"best\")\n",
    "#         plt.title(\"Brightness\",fontsize = 15)\n",
    "#         plt.xlabel(\"Brightness\")\n",
    "#         plt.ylabel(\"Nomalized Count\")\n",
    "#         plt.savefig('EEG Feature Brightness.png', format='png', dpi=1000)\n",
    "#         plt.show()\n",
    "    \n",
    "    \n",
    "    return np.concatenate((no_result,yes_result))"
   ]
  },
  {
   "cell_type": "code",
   "execution_count": 136,
   "metadata": {
    "collapsed": false
   },
   "outputs": [
    {
     "data": {
      "text/plain": [
       "array([  1.02446238e+13,   9.26430094e+12,   7.65345410e+12, ...,\n",
       "         9.51949858e+11,   5.71004213e+12,   1.94623936e+12])"
      ]
     },
     "execution_count": 136,
     "metadata": {},
     "output_type": "execute_result"
    },
    {
     "data": {
      "image/png": "[encoded data removed]",
      "text/plain": [
       "<matplotlib.figure.Figure at 0x3a9f089d0>"
      ]
     },
     "metadata": {},
     "output_type": "display_data"
    }
   ],
   "source": [
    "Energy_distribution(interictal,preictal,[0,4],plot = 1)"
   ]
  },
  {
   "cell_type": "markdown",
   "metadata": {},
   "source": [
    "# Concatenate Different Features for 15 Channels"
   ]
  },
  {
   "cell_type": "code",
   "execution_count": 27,
   "metadata": {
    "collapsed": true
   },
   "outputs": [],
   "source": [
    "def get_data(interictal,preictal):\n",
    "    bands = [0,0,10,50,100,200,300,400,2500]\n",
    "    data = pd.DataFrame({})\n",
    "    for i in range(15):\n",
    "        \n",
    "        energy_result = energy(interictal,preictal,channel=i)\n",
    "        skewness_result = skewness(interictal,preictal,channel=i,upper_freq = 300)\n",
    "        kurt_result = kurtosis(interictal,preictal,channel=i,upper_freq = 200)\n",
    "        print \"yes\"\n",
    "        var_time_result = variance_time(interictal,preictal,channel=i)\n",
    "        mean_time_result = mean_time(interictal,preictal,channel=i)\n",
    "        var_freq_result = variance_freq(interictal,preictal,channel=i)\n",
    "        entropy_result = entropy(interictal,preictal,bands,channel=i)\n",
    "        print \"yes\"\n",
    "        bright_result = brightness(interictal,preictal,25,channel = i)\n",
    "        \n",
    "        temp = pd.DataFrame({\n",
    "                \"total_energy_time\" + str(i+1):energy_result,\n",
    "                \"brightness\" + str(i+1): bright_result,\n",
    "                \"entropy\" + str(i+1): entropy_result,\n",
    "                \"mean_time\" + str(i+1):mean_time_result,\n",
    "                \"variance_time\" + str(i+1):var_time_result,\n",
    "                \"variance_freq\" + str(i+1):var_freq_result,\n",
    "                \"kurtosis\" + str(i+1): kurt_result,\n",
    "                \"skewness\" + str(i+1): skewness_result\n",
    "                            })\n",
    "        \n",
    "        data = pd.concat((data,temp),axis = 1)\n",
    "    return data"
   ]
  },
  {
   "cell_type": "code",
   "execution_count": 29,
   "metadata": {
    "collapsed": false
   },
   "outputs": [
    {
     "data": {
      "text/html": [
       "<div>\n",
       "<table border=\"1\" class=\"dataframe\">\n",
       "  <thead>\n",
       "    <tr style=\"text-align: right;\">\n",
       "      <th></th>\n",
       "      <th>brightness1</th>\n",
       "      <th>entropy1</th>\n",
       "      <th>kurtosis1</th>\n",
       "      <th>mean_time1</th>\n",
       "      <th>skewness1</th>\n",
       "      <th>total_energy_time1</th>\n",
       "      <th>variance_freq1</th>\n",
       "      <th>variance_time1</th>\n",
       "      <th>brightness2</th>\n",
       "      <th>entropy2</th>\n",
       "      <th>...</th>\n",
       "      <th>variance_freq14</th>\n",
       "      <th>variance_time14</th>\n",
       "      <th>brightness15</th>\n",
       "      <th>entropy15</th>\n",
       "      <th>kurtosis15</th>\n",
       "      <th>mean_time15</th>\n",
       "      <th>skewness15</th>\n",
       "      <th>total_energy_time15</th>\n",
       "      <th>variance_freq15</th>\n",
       "      <th>variance_time15</th>\n",
       "    </tr>\n",
       "  </thead>\n",
       "  <tbody>\n",
       "    <tr>\n",
       "      <th>0</th>\n",
       "      <td>0.000880</td>\n",
       "      <td>0.043625</td>\n",
       "      <td>721.094193</td>\n",
       "      <td>158.76020</td>\n",
       "      <td>32.194713</td>\n",
       "      <td>131706224</td>\n",
       "      <td>11856.739156</td>\n",
       "      <td>2751.799696</td>\n",
       "      <td>0.000091</td>\n",
       "      <td>0.006461</td>\n",
       "      <td>...</td>\n",
       "      <td>54871.902462</td>\n",
       "      <td>20660.609164</td>\n",
       "      <td>0.000519</td>\n",
       "      <td>0.036612</td>\n",
       "      <td>764.198325</td>\n",
       "      <td>512.79630</td>\n",
       "      <td>33.570623</td>\n",
       "      <td>-11489614</td>\n",
       "      <td>31048.218837</td>\n",
       "      <td>11742.888406</td>\n",
       "    </tr>\n",
       "    <tr>\n",
       "      <th>1</th>\n",
       "      <td>0.001198</td>\n",
       "      <td>0.044445</td>\n",
       "      <td>729.649922</td>\n",
       "      <td>151.27660</td>\n",
       "      <td>32.442783</td>\n",
       "      <td>185629188</td>\n",
       "      <td>11977.381395</td>\n",
       "      <td>2259.838492</td>\n",
       "      <td>0.000086</td>\n",
       "      <td>0.005487</td>\n",
       "      <td>...</td>\n",
       "      <td>51818.693210</td>\n",
       "      <td>13431.091283</td>\n",
       "      <td>0.000585</td>\n",
       "      <td>0.038867</td>\n",
       "      <td>757.598846</td>\n",
       "      <td>491.23910</td>\n",
       "      <td>33.348356</td>\n",
       "      <td>8307888</td>\n",
       "      <td>31946.636490</td>\n",
       "      <td>13221.934631</td>\n",
       "    </tr>\n",
       "    <tr>\n",
       "      <th>2</th>\n",
       "      <td>0.001749</td>\n",
       "      <td>0.055361</td>\n",
       "      <td>696.690766</td>\n",
       "      <td>137.54860</td>\n",
       "      <td>31.356172</td>\n",
       "      <td>189459474</td>\n",
       "      <td>12532.309416</td>\n",
       "      <td>2890.508338</td>\n",
       "      <td>0.000112</td>\n",
       "      <td>0.007443</td>\n",
       "      <td>...</td>\n",
       "      <td>48733.568904</td>\n",
       "      <td>8357.453740</td>\n",
       "      <td>0.000549</td>\n",
       "      <td>0.030244</td>\n",
       "      <td>762.664183</td>\n",
       "      <td>454.28490</td>\n",
       "      <td>33.521525</td>\n",
       "      <td>10043944</td>\n",
       "      <td>27632.566455</td>\n",
       "      <td>9652.393232</td>\n",
       "    </tr>\n",
       "    <tr>\n",
       "      <th>3</th>\n",
       "      <td>0.007771</td>\n",
       "      <td>0.151379</td>\n",
       "      <td>599.234926</td>\n",
       "      <td>158.35565</td>\n",
       "      <td>28.070734</td>\n",
       "      <td>118714079</td>\n",
       "      <td>20658.297312</td>\n",
       "      <td>7319.352063</td>\n",
       "      <td>0.006053</td>\n",
       "      <td>0.064512</td>\n",
       "      <td>...</td>\n",
       "      <td>47826.564831</td>\n",
       "      <td>9343.361726</td>\n",
       "      <td>0.001381</td>\n",
       "      <td>0.054074</td>\n",
       "      <td>724.933648</td>\n",
       "      <td>340.27445</td>\n",
       "      <td>32.264381</td>\n",
       "      <td>-21545403</td>\n",
       "      <td>27297.634978</td>\n",
       "      <td>12232.118127</td>\n",
       "    </tr>\n",
       "    <tr>\n",
       "      <th>4</th>\n",
       "      <td>0.000761</td>\n",
       "      <td>0.034017</td>\n",
       "      <td>722.932694</td>\n",
       "      <td>177.11865</td>\n",
       "      <td>32.271204</td>\n",
       "      <td>61907609</td>\n",
       "      <td>12660.416100</td>\n",
       "      <td>3306.162672</td>\n",
       "      <td>0.000104</td>\n",
       "      <td>0.006273</td>\n",
       "      <td>...</td>\n",
       "      <td>50079.385995</td>\n",
       "      <td>18405.943875</td>\n",
       "      <td>0.000979</td>\n",
       "      <td>0.054537</td>\n",
       "      <td>723.546438</td>\n",
       "      <td>402.08115</td>\n",
       "      <td>32.226772</td>\n",
       "      <td>8140531</td>\n",
       "      <td>31631.492098</td>\n",
       "      <td>16972.757765</td>\n",
       "    </tr>\n",
       "  </tbody>\n",
       "</table>\n",
       "<p>5 rows × 120 columns</p>\n",
       "</div>"
      ],
      "text/plain": [
       "   brightness1  entropy1   kurtosis1  mean_time1  skewness1  \\\n",
       "0     0.000880  0.043625  721.094193   158.76020  32.194713   \n",
       "1     0.001198  0.044445  729.649922   151.27660  32.442783   \n",
       "2     0.001749  0.055361  696.690766   137.54860  31.356172   \n",
       "3     0.007771  0.151379  599.234926   158.35565  28.070734   \n",
       "4     0.000761  0.034017  722.932694   177.11865  32.271204   \n",
       "\n",
       "   total_energy_time1  variance_freq1  variance_time1  brightness2  entropy2  \\\n",
       "0           131706224    11856.739156     2751.799696     0.000091  0.006461   \n",
       "1           185629188    11977.381395     2259.838492     0.000086  0.005487   \n",
       "2           189459474    12532.309416     2890.508338     0.000112  0.007443   \n",
       "3           118714079    20658.297312     7319.352063     0.006053  0.064512   \n",
       "4            61907609    12660.416100     3306.162672     0.000104  0.006273   \n",
       "\n",
       "        ...         variance_freq14  variance_time14  brightness15  entropy15  \\\n",
       "0       ...            54871.902462     20660.609164      0.000519   0.036612   \n",
       "1       ...            51818.693210     13431.091283      0.000585   0.038867   \n",
       "2       ...            48733.568904      8357.453740      0.000549   0.030244   \n",
       "3       ...            47826.564831      9343.361726      0.001381   0.054074   \n",
       "4       ...            50079.385995     18405.943875      0.000979   0.054537   \n",
       "\n",
       "   kurtosis15  mean_time15  skewness15  total_energy_time15  variance_freq15  \\\n",
       "0  764.198325    512.79630   33.570623            -11489614     31048.218837   \n",
       "1  757.598846    491.23910   33.348356              8307888     31946.636490   \n",
       "2  762.664183    454.28490   33.521525             10043944     27632.566455   \n",
       "3  724.933648    340.27445   32.264381            -21545403     27297.634978   \n",
       "4  723.546438    402.08115   32.226772              8140531     31631.492098   \n",
       "\n",
       "   variance_time15  \n",
       "0     11742.888406  \n",
       "1     13221.934631  \n",
       "2      9652.393232  \n",
       "3     12232.118127  \n",
       "4     16972.757765  \n",
       "\n",
       "[5 rows x 120 columns]"
      ]
     },
     "execution_count": 29,
     "metadata": {},
     "output_type": "execute_result"
    }
   ],
   "source": [
    "data_15 = get_data(interictal,preictal)\n",
    "data_15.head()"
   ]
  },
  {
   "cell_type": "code",
   "execution_count": 30,
   "metadata": {
    "collapsed": true
   },
   "outputs": [],
   "source": [
    "#save predictors to file\n",
    "data_15.to_csv(\"eeg_patient_1.csv\",sep = \",\",index_label = False)"
   ]
  },
  {
   "cell_type": "code",
   "execution_count": 31,
   "metadata": {
    "collapsed": false
   },
   "outputs": [
    {
     "name": "stdout",
     "output_type": "stream",
     "text": [
      "10200\n"
     ]
    }
   ],
   "source": [
    "#save response to file \n",
    "y = np.concatenate((np.zeros(len(interictal)),np.repeat([1],len(preictal))))\n",
    "print len(y)\n",
    "cPickle.dump(y, open('y_patient_1.p', 'wb')) "
   ]
  }
 ],
 "metadata": {
  "anaconda-cloud": {},
  "kernelspec": {
   "display_name": "Python [Root]",
   "language": "python",
   "name": "Python [Root]"
  },
  "language_info": {
   "codemirror_mode": {
    "name": "ipython",
    "version": 2
   },
   "file_extension": ".py",
   "mimetype": "text/x-python",
   "name": "python",
   "nbconvert_exporter": "python",
   "pygments_lexer": "ipython2",
   "version": "2.7.12"
  }
 },
 "nbformat": 4,
 "nbformat_minor": 1
}
